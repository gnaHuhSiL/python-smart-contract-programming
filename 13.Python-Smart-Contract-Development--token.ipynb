{
 "cells": [
  {
   "cell_type": "code",
   "execution_count": 52,
   "metadata": {},
   "outputs": [
    {
     "name": "stdout",
     "output_type": "stream",
     "text": [
      "done!\n"
     ]
    }
   ],
   "source": [
    "import os\n",
    "import hashlib\n",
    "import marshal\n",
    "from pyeoskit import eosapi, wallet, db\n",
    "from pyeoskit import config\n",
    "\n",
    "db.reset()\n",
    "config.main_token = 'UUOS'\n",
    "\n",
    "if os.path.exists('test.wallet'):\n",
    "    os.remove('test.wallet')\n",
    "psw = wallet.create('test')\n",
    "\n",
    "wallet.import_key('test', '5Ji6xuMzbv8UsvJxqFzzknBhWJQZKAjqAKcxnRtMehViNfS1CSS')\n",
    "wallet.import_key('test', '5Hu5ZbnRBBDAd7WA1m2DuJsN26eRtLcCEXQdvQZGCXPwCt8B3LB')\n",
    "wallet.import_key('test', '5KXKjmsJNHwjGEEKfEouuSdH8vy28AHcSJbexYLngwQcUVScHSG')\n",
    "\n",
    "def publish_contract(account_name, code, abi):\n",
    "    m = hashlib.sha256()\n",
    "    code = compile(code, \"contract\", 'exec')\n",
    "    code = marshal.dumps(code)\n",
    "    m.update(code)\n",
    "    code_hash = m.hexdigest()\n",
    "    r = eosapi.get_code(account_name)\n",
    "    if code_hash != r['code_hash']:\n",
    "        eosapi.set_contract(account_name, code, abi, 1)\n",
    "    return True\n",
    "\n",
    "#eosapi.set_nodes(['https://nodes.uuos.network:8443'])\n",
    "eosapi.set_nodes(['http://127.0.0.1:8888'])\n",
    "\n",
    "def run_test_code(code, account_name='test11111111'):\n",
    "    publish_contract(account_name, code, abi)\n",
    "    try:\n",
    "        r = eosapi.push_action(account_name, 'sayhello', b'hello,world', {account_name:'active'})\n",
    "        print(r['processed']['action_traces'][0]['console'])\n",
    "    except Exception as e:\n",
    "        print(e)\n",
    "print('done!')"
   ]
  },
  {
   "cell_type": "markdown",
   "metadata": {},
   "source": [
    "```python\n",
    "def token_create( issuer: int, maximum_supply: int, symbol: int) -> None\n",
    "def token_issue( to: int, quantity: int, symbol: int, memo: Union[str, bytes]) -> None\n",
    "def token_transfer( from_: int, to: int, quantity: int, symbol: int, memo: Union[str, bytes]) -> None\n",
    "```\n"
   ]
  },
  {
   "cell_type": "code",
   "execution_count": null,
   "metadata": {
    "scrolled": true
   },
   "outputs": [],
   "source": [
    "eosapi.get_account('helloworld11')"
   ]
  },
  {
   "cell_type": "code",
   "execution_count": 53,
   "metadata": {},
   "outputs": [
    {
     "name": "stdout",
     "output_type": "stream",
     "text": [
      "done!\n"
     ]
    }
   ],
   "source": [
    "account_name = 'helloworld11'\n",
    "a = {\n",
    "    \"account\": account_name,\n",
    "    \"permission\": \"active\",\n",
    "    \"parent\": \"owner\",\n",
    "    \"auth\": {\n",
    "        \"threshold\": 1,\n",
    "        \"keys\": [\n",
    "            {\n",
    "                \"key\": \"EOS6DW7yDB68zSD7GbUycAkHk6XAxwxfuHMHPJBuz2YexsdnjSZvL\",\n",
    "                \"weight\": 1\n",
    "            }\n",
    "        ],\n",
    "        \"accounts\": [],\n",
    "        \"waits\": []\n",
    "    }\n",
    "}\n",
    "r = eosapi.push_action('eosio', 'updateauth', a, {account_name:'owner'})\n",
    "print('done!')"
   ]
  },
  {
   "cell_type": "code",
   "execution_count": 54,
   "metadata": {},
   "outputs": [
    {
     "data": {
      "text/plain": [
       "True"
      ]
     },
     "execution_count": 54,
     "metadata": {},
     "output_type": "execute_result"
    }
   ],
   "source": [
    "name = 'helloworld11'\n",
    "abi = '''\n",
    "{\n",
    "   \"version\": \"eosio::abi/1.0\",\n",
    "   \"types\": [{\n",
    "      \"new_type_name\": \"account_name\",\n",
    "      \"type\": \"name\"\n",
    "   }],\n",
    "  \"structs\": [{\n",
    "      \"name\": \"transfer\",\n",
    "      \"base\": \"\",\n",
    "      \"fields\": [\n",
    "        {\"name\":\"from\", \"type\":\"account_name\"},\n",
    "        {\"name\":\"to\", \"type\":\"account_name\"},\n",
    "        {\"name\":\"quantity\", \"type\":\"asset\"},\n",
    "        {\"name\":\"memo\", \"type\":\"string\"}\n",
    "      ]\n",
    "    },{\n",
    "     \"name\": \"create\",\n",
    "     \"base\": \"\",\n",
    "     \"fields\": [\n",
    "        {\"name\":\"issuer\", \"type\":\"account_name\"},\n",
    "        {\"name\":\"maximum_supply\", \"type\":\"asset\"}\n",
    "     ]\n",
    "  },{\n",
    "     \"name\": \"issue\",\n",
    "     \"base\": \"\",\n",
    "     \"fields\": [\n",
    "        {\"name\":\"to\", \"type\":\"account_name\"},\n",
    "        {\"name\":\"quantity\", \"type\":\"asset\"},\n",
    "        {\"name\":\"memo\", \"type\":\"string\"}\n",
    "     ]\n",
    "  },{\n",
    "      \"name\": \"account\",\n",
    "      \"base\": \"\",\n",
    "      \"fields\": [\n",
    "        {\"name\":\"balance\", \"type\":\"asset\"}\n",
    "      ]\n",
    "    },{\n",
    "      \"name\": \"currency_stats\",\n",
    "      \"base\": \"\",\n",
    "      \"fields\": [\n",
    "        {\"name\":\"supply\", \"type\":\"asset\"},\n",
    "        {\"name\":\"max_supply\", \"type\":\"asset\"},\n",
    "        {\"name\":\"issuer\", \"type\":\"account_name\"}\n",
    "      ]\n",
    "    }\n",
    "  ],\n",
    "  \"actions\": [{\n",
    "      \"name\": \"transfer\",\n",
    "      \"type\": \"transfer\",\n",
    "      \"ricardian_contract\": \"\"\n",
    "    },{\n",
    "      \"name\": \"issue\",\n",
    "      \"type\": \"issue\",\n",
    "      \"ricardian_contract\": \"\"\n",
    "    }, {\n",
    "      \"name\": \"create\",\n",
    "      \"type\": \"create\",\n",
    "      \"ricardian_contract\": \"\"\n",
    "    }\n",
    "\n",
    "  ],\n",
    "  \"tables\": [{\n",
    "      \"name\": \"accounts\",\n",
    "      \"type\": \"account\",\n",
    "      \"index_type\": \"i64\",\n",
    "      \"key_names\" : [\"currency\"],\n",
    "      \"key_types\" : [\"uint64\"]\n",
    "    },{\n",
    "      \"name\": \"stat\",\n",
    "      \"type\": \"currency_stats\",\n",
    "      \"index_type\": \"i64\",\n",
    "      \"key_names\" : [\"currency\"],\n",
    "      \"key_types\" : [\"uint64\"]\n",
    "    }\n",
    "  ],\n",
    "  \"ricardian_clauses\": [],\n",
    "  \"abi_extensions\": []\n",
    "}\n",
    "'''\n",
    "code = '''\n",
    "# -*- coding: utf-8 -*- \n",
    "import struct\n",
    "\n",
    "def create():\n",
    "    data = read_action_data()\n",
    "    issuer, maximum_supply, symbol = struct.unpack('QQQ', data)\n",
    "    token_create(issuer, maximum_supply, symbol)\n",
    "\n",
    "def issue():\n",
    "    data = read_action_data()\n",
    "    to, quantity, symbol = struct.unpack('QQQ', data[:24])\n",
    "    memo = data[25:]\n",
    "#    token_issue(to, quantity, symbol, memo)\n",
    "    token_issue(to, quantity, symbol, 'hello,world')\n",
    "\n",
    "def transfer():\n",
    "    data = read_action_data()\n",
    "    _from, _to, quantity, symbol = struct.unpack('QQQQ', data[:32])\n",
    "    memo = data[33:]\n",
    "    token_transfer(_from, _to, quantity, symbol, memo)\n",
    "\n",
    "def apply(receiver, code, action):\n",
    "    if receiver != code:\n",
    "        return\n",
    "    if action == N('create'):\n",
    "        create()\n",
    "    elif action == N('issue'):\n",
    "        issue()\n",
    "    elif action == N('transfer'):\n",
    "        transfer()\n",
    "'''\n",
    "publish_contract(name, code, abi)"
   ]
  },
  {
   "cell_type": "code",
   "execution_count": 55,
   "metadata": {},
   "outputs": [],
   "source": [
    "msg = {\"issuer\":\"helloworld11\",\"maximum_supply\":\"11000000000000.0000 NNN\"}\n",
    "r = eosapi.push_action('helloworld11', 'create', msg, {'helloworld11':'active'})"
   ]
  },
  {
   "cell_type": "code",
   "execution_count": 56,
   "metadata": {},
   "outputs": [
    {
     "name": "stdout",
     "output_type": "stream",
     "text": [
      "\n"
     ]
    }
   ],
   "source": [
    "'''\n",
    "{\"name\":\"to\", \"type\":\"account_name\"},\n",
    "{\"name\":\"quantity\", \"type\":\"asset\"},\n",
    "{\"name\":\"memo\", \"type\":\"string\"}\n",
    "'''\n",
    "\n",
    "args = {\"to\":\"helloworld11\",\"quantity\":\"1000000.0000 NNN\", \"memo\":\"issue 1000000.0000 NNN to helloword11\"}\n",
    "#msg = {\"to\":\"helloworld11\",\"quantity\":\"1000000.0000 SSS\", \"memo\":\"hello\"}\n",
    "r = eosapi.push_action('helloworld11', 'issue', args, {'helloworld11':'active'})\n",
    "print(r['processed']['action_traces'][0]['console'])"
   ]
  },
  {
   "cell_type": "code",
   "execution_count": 57,
   "metadata": {},
   "outputs": [
    {
     "data": {
      "text/plain": [
       "1000000.0"
      ]
     },
     "execution_count": 57,
     "metadata": {},
     "output_type": "execute_result"
    }
   ],
   "source": [
    "eosapi.get_balance('helloworld11', token_account='helloworld11', token_name='NNN')"
   ]
  },
  {
   "cell_type": "code",
   "execution_count": 58,
   "metadata": {},
   "outputs": [],
   "source": [
    "args = {'from':'helloworld11', 'to':'eosio', 'quantity':'10.0000 NNN', 'memo':'hello,world'}\n",
    "r = eosapi.push_action('helloworld11', 'transfer', args, {'helloworld11':'active'})"
   ]
  },
  {
   "cell_type": "code",
   "execution_count": 59,
   "metadata": {},
   "outputs": [
    {
     "data": {
      "text/plain": [
       "10.0"
      ]
     },
     "execution_count": 59,
     "metadata": {},
     "output_type": "execute_result"
    }
   ],
   "source": [
    "eosapi.get_balance('eosio', token_account='helloworld11', token_name='NNN')"
   ]
  },
  {
   "cell_type": "code",
   "execution_count": null,
   "metadata": {},
   "outputs": [],
   "source": []
  },
  {
   "cell_type": "markdown",
   "metadata": {},
   "source": [
    "```python\n",
    "eosapi.set_contract(account_name, wasm_code, abi, 0)\n",
    "```"
   ]
  }
 ],
 "metadata": {
  "kernelspec": {
   "display_name": "Python 3",
   "language": "python",
   "name": "python3"
  },
  "language_info": {
   "codemirror_mode": {
    "name": "ipython",
    "version": 3
   },
   "file_extension": ".py",
   "mimetype": "text/x-python",
   "name": "python",
   "nbconvert_exporter": "python",
   "pygments_lexer": "ipython3",
   "version": "3.7.3"
  }
 },
 "nbformat": 4,
 "nbformat_minor": 2
}
