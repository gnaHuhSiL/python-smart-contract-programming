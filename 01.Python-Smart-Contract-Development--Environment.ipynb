{
 "cells": [
  {
   "cell_type": "code",
   "execution_count": 1,
   "metadata": {},
   "outputs": [
    {
     "data": {
      "text/plain": [
       "{\n",
       "    \"server_version\": \"448287d5\",\n",
       "    \"chain_id\": \"aca376f206b8fc25a6ed44dbdc66547c36c6c33e3a119ffbeaef943642f0e906\",\n",
       "    \"head_block_num\": 61517913,\n",
       "    \"last_irreversible_block_num\": 61517584,\n",
       "    \"last_irreversible_block_id\": \"03aaaf102d0fb49bd26cc52eb4e97984e8bf7d78ab06ec37b9b15287ab33d316\",\n",
       "    \"head_block_id\": \"03aab059684bc455d2773fdbd00daf98167b26af0615e96475d137c0d69c699f\",\n",
       "    \"head_block_time\": \"2019-06-03T07:25:56.000\",\n",
       "    \"head_block_producer\": \"eossv12eossv\",\n",
       "    \"virtual_block_cpu_limit\": 200000000,\n",
       "    \"virtual_block_net_limit\": 1048576000,\n",
       "    \"block_cpu_limit\": 184480,\n",
       "    \"block_net_limit\": 1044256,\n",
       "    \"server_version_string\": \"v1.7.3\"\n",
       "}"
      ]
     },
     "execution_count": 1,
     "metadata": {},
     "output_type": "execute_result"
    }
   ],
   "source": [
    "from pyeoskit import eosapi\n",
    "eosapi.set_default_nodes()\n",
    "eosapi.get_info()"
   ]
  }
 ],
 "metadata": {
  "kernelspec": {
   "display_name": "Python 3",
   "language": "python",
   "name": "python3"
  },
  "language_info": {
   "codemirror_mode": {
    "name": "ipython",
    "version": 3
   },
   "file_extension": ".py",
   "mimetype": "text/x-python",
   "name": "python",
   "nbconvert_exporter": "python",
   "pygments_lexer": "ipython3",
   "version": "3.7.3"
  }
 },
 "nbformat": 4,
 "nbformat_minor": 2
}
