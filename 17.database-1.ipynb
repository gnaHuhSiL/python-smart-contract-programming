{
 "cells": [
  {
   "cell_type": "code",
   "execution_count": 3,
   "metadata": {},
   "outputs": [
    {
     "name": "stdout",
     "output_type": "stream",
     "text": [
      "done!\n"
     ]
    }
   ],
   "source": [
    "import os\n",
    "import hashlib\n",
    "import marshal\n",
    "from pyeoskit import eosapi, wallet, db\n",
    "from pyeoskit import config\n",
    "from pyeoskit._hello import _eosapi\n",
    "\n",
    "db.reset()\n",
    "config.main_token = 'UUOS'\n",
    "\n",
    "if os.path.exists('test.wallet'):\n",
    "    os.remove('test.wallet')\n",
    "psw = wallet.create('test')\n",
    "\n",
    "wallet.import_key('test', '5KH8vwQkP4QoTwgBtCV5ZYhKmv8mx56WeNrw9AZuhNRXTrPzgYc')\n",
    "\n",
    "def publish_contract(account_name, code, abi):\n",
    "    m = hashlib.sha256()\n",
    "    code = compile(code, \"contract\", 'exec')\n",
    "    code = marshal.dumps(code)\n",
    "    m.update(code)\n",
    "    code_hash = m.hexdigest()\n",
    "    r = eosapi.get_code(account_name)\n",
    "    if code_hash != r['code_hash']:\n",
    "        eosapi.set_contract(account_name, code, abi, 1)\n",
    "    return True\n",
    "\n",
    "#eosapi.set_nodes(['https://nodes.uuos.network:8443'])\n",
    "eosapi.set_nodes(['http://127.0.0.1:8888'])\n",
    "\n",
    "def run_test_code(code, account_name='helloworld11'):\n",
    "    publish_contract(account_name, code, abi)\n",
    "    try:\n",
    "        r = eosapi.push_action(account_name, 'sayhello', b'hello,world', {account_name:'active'})\n",
    "        print(r['processed']['action_traces'][0]['console'])\n",
    "    except Exception as e:\n",
    "        print(e)\n",
    "\n",
    "\n",
    "def set_code(account_name, code):\n",
    "    m = hashlib.sha256()\n",
    "    code = compile(code, \"contract\", 'exec')\n",
    "    code = marshal.dumps(code)\n",
    "    m.update(code)\n",
    "    code_hash = m.hexdigest()\n",
    "    r = eosapi.get_code(account_name)\n",
    "    if code_hash == r['code_hash']:\n",
    "        return\n",
    "\n",
    "    setcode = {\"account\":account_name,\n",
    "               \"vmtype\": 1,\n",
    "               \"vmversion\":0,\n",
    "               \"code\":code.hex()\n",
    "               }\n",
    "    eosapi.push_action('eosio', 'setcode', setcode, {account_name:'active'})\n",
    "    \n",
    "    return True\n",
    "\n",
    "def set_abi(account, abi):\n",
    "    db.set_abi(account, abi)\n",
    "    abi = _eosapi.pack_abi(abi)\n",
    "    setabi ={'account':account, 'abi':abi.hex()}\n",
    "    eosapi.push_action('eosio', 'setabi', setabi, {account:'active'})\n",
    "\n",
    "print('done!')"
   ]
  },
  {
   "cell_type": "markdown",
   "metadata": {},
   "source": [
    "### store_i64\n",
    "\n",
    "```python\n",
    "def store_i64(scope: Union[uint64_t, str], table: Union[uint64_t, str], payer: Union[uint64_t, str], id: Union[uint64_t, str],  data: bytes) -> int32_t\n",
    "```"
   ]
  },
  {
   "cell_type": "code",
   "execution_count": 221,
   "metadata": {},
   "outputs": [
    {
     "name": "stdout",
     "output_type": "stream",
     "text": [
      "0\n",
      "\n"
     ]
    }
   ],
   "source": [
    "code = '''\n",
    "import db\n",
    "def apply(receiver, code, action):\n",
    "    code = receiver\n",
    "    scope = 'scope'\n",
    "    table = 'table'\n",
    "    payer = receiver\n",
    "    id = 'hello'\n",
    "    itr = db.store_i64(scope, table, payer, id, b'world')\n",
    "    print(itr)\n",
    "'''\n",
    "abi = ''\n",
    "name = 'helloworld11'\n",
    "publish_contract(name, code, abi)\n",
    "try:\n",
    "    r = eosapi.push_action(name, 'sayhello', b'hello,world', {name:'active'})\n",
    "    print(r['processed']['action_traces'][0]['console'])\n",
    "except Exception as e:\n",
    "    print(e)"
   ]
  },
  {
   "cell_type": "markdown",
   "metadata": {},
   "source": [
    "### find_i64\n",
    "\n",
    "```python\n",
    "def find_i64(code: Union[uint64_t, str], scope: Union[uint64_t, str], table: Union[uint64_t, str], id: Union[uint64_t, str]) -> int32_t\n",
    "```"
   ]
  },
  {
   "cell_type": "code",
   "execution_count": 225,
   "metadata": {},
   "outputs": [
    {
     "name": "stdout",
     "output_type": "stream",
     "text": [
      "0\n",
      "\n"
     ]
    }
   ],
   "source": [
    "code = '''\n",
    "import db\n",
    "def apply(receiver, code, action):\n",
    "    code = receiver\n",
    "    scope = 'scope'\n",
    "    table = 'table'\n",
    "    payer = receiver\n",
    "    id = 'hello'\n",
    "    itr = db.find_i64(code, scope, table, id)\n",
    "    print(itr)\n",
    "'''\n",
    "abi = ''\n",
    "name = 'helloworld11'\n",
    "publish_contract(name, code, abi)\n",
    "try:\n",
    "    r = eosapi.push_action(name, 'sayhello', b'hello,world', {name:'active'})\n",
    "    print(r['processed']['action_traces'][0]['console'])\n",
    "except Exception as e:\n",
    "    print(e)"
   ]
  },
  {
   "cell_type": "markdown",
   "metadata": {},
   "source": [
    "### get_i64\n",
    "\n",
    "```python\n",
    "def get_i64(iterator: int32_t) -> bytes\n",
    "```"
   ]
  },
  {
   "cell_type": "code",
   "execution_count": 227,
   "metadata": {},
   "outputs": [
    {
     "name": "stdout",
     "output_type": "stream",
     "text": [
      "0\n",
      "b'world'\n",
      "\n"
     ]
    }
   ],
   "source": [
    "code = '''\n",
    "import db\n",
    "def apply(receiver, code, action):\n",
    "    code = receiver\n",
    "    scope = 'scope'\n",
    "    table = 'table'\n",
    "    payer = receiver\n",
    "    id = 'hello'\n",
    "\n",
    "    itr = db.find_i64(code, scope, table, id)\n",
    "    print(itr)\n",
    "    data = db.get_i64(itr)\n",
    "    print(data)\n",
    "'''\n",
    "abi = ''\n",
    "name = 'helloworld11'\n",
    "publish_contract(name, code, abi)\n",
    "try:\n",
    "    r = eosapi.push_action(name, 'sayhello', b'hello,world', {name:'active'})\n",
    "    print(r['processed']['action_traces'][0]['console'])\n",
    "except Exception as e:\n",
    "    print(e)\n",
    "    "
   ]
  },
  {
   "cell_type": "markdown",
   "metadata": {},
   "source": [
    "### update_i64\n",
    "\n",
    "```python\n",
    "def update_i64(iterator: int32_t, payer: Union[uint64_t, str], data: bytes) -> None\n",
    "```"
   ]
  },
  {
   "cell_type": "code",
   "execution_count": 231,
   "metadata": {},
   "outputs": [
    {
     "name": "stdout",
     "output_type": "stream",
     "text": [
      "b'hello,worldddd'\n",
      "0\n",
      "b'hello,worldddd'\n",
      "\n"
     ]
    }
   ],
   "source": [
    "code = '''\n",
    "import db\n",
    "def apply(receiver, code, action):\n",
    "    code = receiver\n",
    "    scope = 'scope'\n",
    "    table = 'table'\n",
    "    payer = receiver\n",
    "    id = 'hello'\n",
    "    data = read_action_data()\n",
    "    print(data)\n",
    "    \n",
    "    itr = db.find_i64(code, scope, table, id)\n",
    "    print(itr)\n",
    "    if itr < 0:\n",
    "        db.store_i64(scope, table, payer, id, b'world')\n",
    "    else:\n",
    "        old_data = db.get_i64(itr)\n",
    "        print(old_data)\n",
    "        db.update_i64(itr, receiver, data)\n",
    "'''\n",
    "abi = ''\n",
    "name = 'helloworld11'\n",
    "publish_contract(name, code, abi)\n",
    "try:\n",
    "    r = eosapi.push_action(name, 'sayhello', b'hello,worldddd', {name:'active'})\n",
    "    print(r['processed']['action_traces'][0]['console'])\n",
    "except Exception as e:\n",
    "    print(e)"
   ]
  },
  {
   "cell_type": "markdown",
   "metadata": {},
   "source": [
    "### lowerbound_i64\n",
    "\n",
    "```python\n",
    "def lowerbound_i64(code: Union[uint64_t, str], scope: Union[uint64_t, str], table: Union[uint64_t, str], id: Union[uint64_t, str]) -> int32_t\n",
    "```\n",
    "\n",
    "### upperbound_i64\n",
    "\n",
    "```python\n",
    "def upperbound_i64(code: Union[uint64_t, str], scope: Union[uint64_t, str], table: Union[uint64_t, str], id: Union[uint64_t, str]) -> int32_t\n",
    "```"
   ]
  },
  {
   "cell_type": "code",
   "execution_count": 237,
   "metadata": {},
   "outputs": [
    {
     "name": "stdout",
     "output_type": "stream",
     "text": [
      "destroy done!\n",
      "\n",
      "init done!\n",
      "\n"
     ]
    }
   ],
   "source": [
    "abi = ''\n",
    "code = '''\n",
    "import db\n",
    "def apply(receiver, code, action):\n",
    "    code = receiver\n",
    "    scope = 'scope'\n",
    "    table = 'table'\n",
    "    payer = receiver\n",
    "    id = 'hello'\n",
    "    data = read_action_data()\n",
    "    if action == N('destroy'):\n",
    "        while True:\n",
    "            itr = db.end_i64(code, scope, table)\n",
    "            if itr == -1:\n",
    "                break\n",
    "            itr, primary = db.previous_i64(itr)\n",
    "            if itr < 0:\n",
    "                break\n",
    "            db.remove_i64(itr)\n",
    "        print('destroy done!')\n",
    "    elif action == N('init'):\n",
    "        db.store_i64(scope, table, payer, 1, b'1')\n",
    "        db.store_i64(scope, table, payer, 3, b'3')\n",
    "        db.store_i64(scope, table, payer, 5, b'5')\n",
    "        db.store_i64(scope, table, payer, 7, b'7')\n",
    "        print('init done!')\n",
    "    elif action == N('test'):\n",
    "        itr = db.upperbound_i64(code, scope, table, 3)\n",
    "        data = db.get_i64(itr)\n",
    "        print('upperbound of 3:', data)\n",
    "\n",
    "        itr = db.upperbound_i64(code, scope, table, 2)\n",
    "        data = db.get_i64(itr)\n",
    "        print('upperbound of 2:', data)\n",
    "\n",
    "        itr = db.lowerbound_i64(code, scope, table, 3)\n",
    "        data = db.get_i64(itr)\n",
    "        print('lowerbound of 3:', data)\n",
    "\n",
    "        itr = db.lowerbound_i64(code, scope, table, 2)\n",
    "        data = db.get_i64(itr)\n",
    "        print('lowerbound of 2:', data)\n",
    "'''\n",
    "\n",
    "name = 'helloworld11'\n",
    "publish_contract(name, code, abi)\n",
    "try:\n",
    "    r = eosapi.push_action(name, 'destroy', b'', {name:'active'})\n",
    "    print(r['processed']['action_traces'][0]['console'])\n",
    "\n",
    "    r = eosapi.push_action(name, 'init', b'hello,world', {name:'active'})\n",
    "    print(r['processed']['action_traces'][0]['console'])\n",
    "except Exception as e:\n",
    "    print(e)\n"
   ]
  },
  {
   "cell_type": "code",
   "execution_count": 233,
   "metadata": {},
   "outputs": [
    {
     "name": "stdout",
     "output_type": "stream",
     "text": [
      "upperbound of 3: b'5'\n",
      "upperbound of 2: b'3'\n",
      "lowerbound of 3: b'3'\n",
      "lowerbound of 2: b'3'\n",
      "\n"
     ]
    }
   ],
   "source": [
    "try:\n",
    "    r = eosapi.push_action(name, 'test', b'', {name:'active'})\n",
    "    print(r['processed']['action_traces'][0]['console'])\n",
    "except Exception as e:\n",
    "    print(e)\n"
   ]
  },
  {
   "cell_type": "markdown",
   "metadata": {},
   "source": [
    "\n",
    "### next_i64\n",
    "\n",
    "```python\n",
    "def next_i64(iterator: int32_t) -> [int32_t, uint64_t]\n",
    "```\n",
    "\n",
    "### previous_i64\n",
    "\n",
    "```python\n",
    "def previous_i64(iterator: int32_t) -> Union[int32_t, uint64_t]\n",
    "```\n",
    "\n",
    "\n",
    "### end_i64\n",
    "\n",
    "```python\n",
    "def end_i64(code: Union[uint64_t, str], scope: Union[uint64_t, str], table: Union[uint64_t, str]) -> int32_t\n",
    "```\n",
    "\n",
    "### remove_i64\n",
    "\n",
    "```python\n",
    "def remove_i64(iterator: int32_t) -> None\n",
    "```"
   ]
  },
  {
   "cell_type": "code",
   "execution_count": 14,
   "metadata": {},
   "outputs": [
    {
     "data": {
      "text/plain": [
       "True"
      ]
     },
     "execution_count": 14,
     "metadata": {},
     "output_type": "execute_result"
    }
   ],
   "source": [
    "abi = ''\n",
    "code = '''\n",
    "import db\n",
    "def apply(receiver, code, action):\n",
    "    code = receiver\n",
    "    scope = 'scope'\n",
    "    table = 'table'\n",
    "    payer = receiver\n",
    "    id = 'hello'\n",
    "    data = read_action_data()\n",
    "    if action == N('destroy'):\n",
    "        while True:\n",
    "            itr = db.end_i64(code, scope, table)\n",
    "            if itr == -1:\n",
    "                break\n",
    "            itr, primary = db.previous_i64(itr)\n",
    "            if itr < 0:\n",
    "                break\n",
    "            db.remove_i64(itr)\n",
    "        print('destroy done!')\n",
    "    elif action == N('init'):\n",
    "        db.store_i64(scope, table, payer, 1, b'1')\n",
    "        db.store_i64(scope, table, payer, 3, b'3')\n",
    "        db.store_i64(scope, table, payer, 5, b'5')\n",
    "        db.store_i64(scope, table, payer, 7, b'7')\n",
    "        print('init done!')\n",
    "    elif action == N('test'):\n",
    "        itr = db.find_i64(code, scope, table, 3)\n",
    "        data = db.get_i64(itr)\n",
    "        print('++++get_i64:', data)\n",
    "        print(itr)\n",
    "        itr_next, primary = db.next_i64(itr)\n",
    "        print(itr_next)\n",
    "\n",
    "        data = db.get_i64(itr_next)\n",
    "\n",
    "        print('db.next_i64: ', data)\n",
    "        \n",
    "        itr_previous, primary = db.previous_i64(itr)\n",
    "        data = db.get_i64(itr_previous)\n",
    "        print('db.previous_i64: ', data)\n",
    "'''\n",
    "\n",
    "name = 'helloworld11'\n",
    "publish_contract(name, code, abi)\n"
   ]
  },
  {
   "cell_type": "code",
   "execution_count": 15,
   "metadata": {},
   "outputs": [
    {
     "name": "stdout",
     "output_type": "stream",
     "text": [
      "destroy done!\n",
      "\n",
      "343\n",
      "init done!\n",
      "\n",
      "242\n"
     ]
    }
   ],
   "source": [
    "try:\n",
    "    r = eosapi.push_action(name, 'destroy', b'', {name:'active'})\n",
    "    print(r['processed']['action_traces'][0]['console'])\n",
    "    print(r['processed']['elapsed'])\n",
    "\n",
    "    r = eosapi.push_action(name, 'init', b'hello,world', {name:'active'})\n",
    "    print(r['processed']['action_traces'][0]['console'])\n",
    "    print(r['processed']['elapsed'])\n",
    "except Exception as e:\n",
    "    print(e)"
   ]
  },
  {
   "cell_type": "code",
   "execution_count": 16,
   "metadata": {
    "scrolled": true
   },
   "outputs": [
    {
     "name": "stdout",
     "output_type": "stream",
     "text": [
      "++++get_i64: b'3'\n",
      "0\n",
      "1\n",
      "db.next_i64:  b'5'\n",
      "db.previous_i64:  b'1'\n",
      "\n",
      "352\n"
     ]
    }
   ],
   "source": [
    "try:\n",
    "    r = eosapi.push_action(name, 'test', b'', {name:'active'})\n",
    "    print(r['processed']['action_traces'][0]['console'])\n",
    "    print(r['processed']['elapsed'])\n",
    "except Exception as e:\n",
    "    print(e)"
   ]
  }
 ],
 "metadata": {
  "kernelspec": {
   "display_name": "Python 3",
   "language": "python",
   "name": "python3"
  },
  "language_info": {
   "codemirror_mode": {
    "name": "ipython",
    "version": 3
   },
   "file_extension": ".py",
   "mimetype": "text/x-python",
   "name": "python",
   "nbconvert_exporter": "python",
   "pygments_lexer": "ipython3",
   "version": "3.7.3"
  }
 },
 "nbformat": 4,
 "nbformat_minor": 2
}
