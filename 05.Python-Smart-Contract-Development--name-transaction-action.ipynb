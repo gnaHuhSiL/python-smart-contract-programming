{
 "cells": [
  {
   "cell_type": "code",
   "execution_count": 4,
   "metadata": {},
   "outputs": [],
   "source": [
    "import os\n",
    "from pyeoskit import eosapi, wallet, db\n",
    "db.reset()"
   ]
  },
  {
   "cell_type": "code",
   "execution_count": 5,
   "metadata": {},
   "outputs": [
    {
     "data": {
      "text/plain": [
       "True"
      ]
     },
     "execution_count": 5,
     "metadata": {},
     "output_type": "execute_result"
    }
   ],
   "source": [
    "if os.path.exists('test.wallet'):\n",
    "    os.remove('test.wallet')\n",
    "psw = wallet.create('test')\n",
    "wallet.import_key('test', '5KH8vwQkP4QoTwgBtCV5ZYhKmv8mx56WeNrw9AZuhNRXTrPzgYc')"
   ]
  },
  {
   "cell_type": "code",
   "execution_count": 3,
   "metadata": {},
   "outputs": [],
   "source": [
    "from pyeoskit import config\n",
    "config.main_token = 'UUOS'"
   ]
  },
  {
   "cell_type": "markdown",
   "metadata": {},
   "source": [
    "# push_action"
   ]
  },
  {
   "cell_type": "code",
   "execution_count": 17,
   "metadata": {},
   "outputs": [
    {
     "data": {
      "text/plain": [
       "996.8"
      ]
     },
     "execution_count": 17,
     "metadata": {},
     "output_type": "execute_result"
    }
   ],
   "source": [
    "eosapi.get_balance('test11111111')"
   ]
  },
  {
   "cell_type": "code",
   "execution_count": 18,
   "metadata": {},
   "outputs": [],
   "source": [
    "args = {'from':'test11111111', 'to':'eosio', 'quantity':'0.1000 UUOS', 'memo':'hello,world'}\n",
    "name = 'test11111111'\n",
    "r = eosapi.push_action('eosio.token', 'transfer', args, {name:'active'})"
   ]
  },
  {
   "cell_type": "code",
   "execution_count": 19,
   "metadata": {
    "scrolled": true
   },
   "outputs": [
    {
     "data": {
      "text/plain": [
       "996.7"
      ]
     },
     "execution_count": 19,
     "metadata": {},
     "output_type": "execute_result"
    }
   ],
   "source": [
    "eosapi.get_balance('test11111111')"
   ]
  },
  {
   "cell_type": "markdown",
   "metadata": {},
   "source": [
    "# push_actions"
   ]
  },
  {
   "cell_type": "code",
   "execution_count": 20,
   "metadata": {},
   "outputs": [
    {
     "data": {
      "text/plain": [
       "996.7"
      ]
     },
     "execution_count": 20,
     "metadata": {},
     "output_type": "execute_result"
    }
   ],
   "source": [
    "eosapi.get_balance('test11111111')"
   ]
  },
  {
   "cell_type": "code",
   "execution_count": 21,
   "metadata": {},
   "outputs": [],
   "source": [
    "aa = []\n",
    "args = {'from':'test11111111', 'to':'eosio', 'quantity':'0.1000 UUOS', 'memo':'hello,world'}\n",
    "a = ['eosio.token', 'transfer', args, {'test11111111':'active'}]\n",
    "aa.append(a)\n",
    "\n",
    "args = {'from':'test11111111', 'to':'eosio', 'quantity':'0.2000 UUOS', 'memo':'hello,world'}\n",
    "a = ['eosio.token', 'transfer', args, {'test11111111':'active'}]\n",
    "aa.append(a)\n",
    "\n",
    "r = eosapi.push_actions(aa)"
   ]
  },
  {
   "cell_type": "code",
   "execution_count": 22,
   "metadata": {},
   "outputs": [
    {
     "data": {
      "text/plain": [
       "996.4"
      ]
     },
     "execution_count": 22,
     "metadata": {},
     "output_type": "execute_result"
    }
   ],
   "source": [
    "eosapi.get_balance('test11111111')"
   ]
  },
  {
   "cell_type": "markdown",
   "metadata": {},
   "source": [
    "# push_transaction"
   ]
  },
  {
   "cell_type": "code",
   "execution_count": null,
   "metadata": {},
   "outputs": [],
   "source": []
  },
  {
   "cell_type": "markdown",
   "metadata": {},
   "source": [
    "# push_transactions"
   ]
  },
  {
   "cell_type": "code",
   "execution_count": 23,
   "metadata": {},
   "outputs": [
    {
     "data": {
      "text/plain": [
       "996.4"
      ]
     },
     "execution_count": 23,
     "metadata": {},
     "output_type": "execute_result"
    }
   ],
   "source": [
    "eosapi.get_balance('test11111111')"
   ]
  },
  {
   "cell_type": "code",
   "execution_count": 30,
   "metadata": {},
   "outputs": [
    {
     "data": {
      "text/plain": [
       "[{'transaction_id': '17c3c14d66f05103bc40a2c69869b6ebbe01f880648a855f069a280d277ebe2c',\n",
       "  'processed': {'id': '17c3c14d66f05103bc40a2c69869b6ebbe01f880648a855f069a280d277ebe2c',\n",
       "   'block_num': 1056907,\n",
       "   'block_time': '2019-06-06T14:03:47.000',\n",
       "   'producer_block_id': None,\n",
       "   'receipt': {'status': 'executed',\n",
       "    'cpu_usage_us': 783,\n",
       "    'net_usage_words': 27},\n",
       "   'elapsed': 783,\n",
       "   'net_usage': 216,\n",
       "   'scheduled': False,\n",
       "   'action_traces': [{'receipt': {'receiver': 'eosio.token',\n",
       "      'act_digest': 'dfb9a34f1a2d49f5784202fbf7141f1e7ff4877fa8f10be017a83c454af1e792',\n",
       "      'global_sequence': 1058121,\n",
       "      'recv_sequence': 243,\n",
       "      'auth_sequence': [['test11111111', 204]],\n",
       "      'code_sequence': 1,\n",
       "      'abi_sequence': 1},\n",
       "     'act': {'account': 'eosio.token',\n",
       "      'name': 'transfer',\n",
       "      'authorization': [{'actor': 'test11111111', 'permission': 'active'}],\n",
       "      'data': {'from': 'test11111111',\n",
       "       'to': 'eosio',\n",
       "       'quantity': '0.1000 UUOS',\n",
       "       'memo': 'hello,world'},\n",
       "      'hex_data': '104208218490b1ca0000000000ea3055e8030000000000000455554f530000000b68656c6c6f2c776f726c64'},\n",
       "     'context_free': False,\n",
       "     'elapsed': 143,\n",
       "     'console': '',\n",
       "     'trx_id': '17c3c14d66f05103bc40a2c69869b6ebbe01f880648a855f069a280d277ebe2c',\n",
       "     'block_num': 1056907,\n",
       "     'block_time': '2019-06-06T14:03:47.000',\n",
       "     'producer_block_id': None,\n",
       "     'account_ram_deltas': [],\n",
       "     'except': None,\n",
       "     'inline_traces': [{'receipt': {'receiver': 'test11111111',\n",
       "        'act_digest': 'dfb9a34f1a2d49f5784202fbf7141f1e7ff4877fa8f10be017a83c454af1e792',\n",
       "        'global_sequence': 1058122,\n",
       "        'recv_sequence': 103,\n",
       "        'auth_sequence': [['test11111111', 205]],\n",
       "        'code_sequence': 1,\n",
       "        'abi_sequence': 1},\n",
       "       'act': {'account': 'eosio.token',\n",
       "        'name': 'transfer',\n",
       "        'authorization': [{'actor': 'test11111111', 'permission': 'active'}],\n",
       "        'data': {'from': 'test11111111',\n",
       "         'to': 'eosio',\n",
       "         'quantity': '0.1000 UUOS',\n",
       "         'memo': 'hello,world'},\n",
       "        'hex_data': '104208218490b1ca0000000000ea3055e8030000000000000455554f530000000b68656c6c6f2c776f726c64'},\n",
       "       'context_free': False,\n",
       "       'elapsed': 93,\n",
       "       'console': 'hello,world\\n',\n",
       "       'trx_id': '17c3c14d66f05103bc40a2c69869b6ebbe01f880648a855f069a280d277ebe2c',\n",
       "       'block_num': 1056907,\n",
       "       'block_time': '2019-06-06T14:03:47.000',\n",
       "       'producer_block_id': None,\n",
       "       'account_ram_deltas': [],\n",
       "       'except': None,\n",
       "       'inline_traces': []},\n",
       "      {'receipt': {'receiver': 'eosio',\n",
       "        'act_digest': 'dfb9a34f1a2d49f5784202fbf7141f1e7ff4877fa8f10be017a83c454af1e792',\n",
       "        'global_sequence': 1058123,\n",
       "        'recv_sequence': 1057428,\n",
       "        'auth_sequence': [['test11111111', 206]],\n",
       "        'code_sequence': 1,\n",
       "        'abi_sequence': 1},\n",
       "       'act': {'account': 'eosio.token',\n",
       "        'name': 'transfer',\n",
       "        'authorization': [{'actor': 'test11111111', 'permission': 'active'}],\n",
       "        'data': {'from': 'test11111111',\n",
       "         'to': 'eosio',\n",
       "         'quantity': '0.1000 UUOS',\n",
       "         'memo': 'hello,world'},\n",
       "        'hex_data': '104208218490b1ca0000000000ea3055e8030000000000000455554f530000000b68656c6c6f2c776f726c64'},\n",
       "       'context_free': False,\n",
       "       'elapsed': 31,\n",
       "       'console': '',\n",
       "       'trx_id': '17c3c14d66f05103bc40a2c69869b6ebbe01f880648a855f069a280d277ebe2c',\n",
       "       'block_num': 1056907,\n",
       "       'block_time': '2019-06-06T14:03:47.000',\n",
       "       'producer_block_id': None,\n",
       "       'account_ram_deltas': [],\n",
       "       'except': None,\n",
       "       'inline_traces': []}]},\n",
       "    {'receipt': {'receiver': 'eosio.token',\n",
       "      'act_digest': '7cfb875b92fe8a55158dd78a719520337c75a37cce01c89ce465901414b1185c',\n",
       "      'global_sequence': 1058124,\n",
       "      'recv_sequence': 244,\n",
       "      'auth_sequence': [['test11111111', 207]],\n",
       "      'code_sequence': 1,\n",
       "      'abi_sequence': 1},\n",
       "     'act': {'account': 'eosio.token',\n",
       "      'name': 'transfer',\n",
       "      'authorization': [{'actor': 'test11111111', 'permission': 'active'}],\n",
       "      'data': {'from': 'test11111111',\n",
       "       'to': 'eosio',\n",
       "       'quantity': '0.2000 UUOS',\n",
       "       'memo': 'hello,world'},\n",
       "      'hex_data': '104208218490b1ca0000000000ea3055d0070000000000000455554f530000000b68656c6c6f2c776f726c64'},\n",
       "     'context_free': False,\n",
       "     'elapsed': 162,\n",
       "     'console': '',\n",
       "     'trx_id': '17c3c14d66f05103bc40a2c69869b6ebbe01f880648a855f069a280d277ebe2c',\n",
       "     'block_num': 1056907,\n",
       "     'block_time': '2019-06-06T14:03:47.000',\n",
       "     'producer_block_id': None,\n",
       "     'account_ram_deltas': [],\n",
       "     'except': None,\n",
       "     'inline_traces': [{'receipt': {'receiver': 'test11111111',\n",
       "        'act_digest': '7cfb875b92fe8a55158dd78a719520337c75a37cce01c89ce465901414b1185c',\n",
       "        'global_sequence': 1058125,\n",
       "        'recv_sequence': 104,\n",
       "        'auth_sequence': [['test11111111', 208]],\n",
       "        'code_sequence': 1,\n",
       "        'abi_sequence': 1},\n",
       "       'act': {'account': 'eosio.token',\n",
       "        'name': 'transfer',\n",
       "        'authorization': [{'actor': 'test11111111', 'permission': 'active'}],\n",
       "        'data': {'from': 'test11111111',\n",
       "         'to': 'eosio',\n",
       "         'quantity': '0.2000 UUOS',\n",
       "         'memo': 'hello,world'},\n",
       "        'hex_data': '104208218490b1ca0000000000ea3055d0070000000000000455554f530000000b68656c6c6f2c776f726c64'},\n",
       "       'context_free': False,\n",
       "       'elapsed': 53,\n",
       "       'console': 'hello,world\\n',\n",
       "       'trx_id': '17c3c14d66f05103bc40a2c69869b6ebbe01f880648a855f069a280d277ebe2c',\n",
       "       'block_num': 1056907,\n",
       "       'block_time': '2019-06-06T14:03:47.000',\n",
       "       'producer_block_id': None,\n",
       "       'account_ram_deltas': [],\n",
       "       'except': None,\n",
       "       'inline_traces': []},\n",
       "      {'receipt': {'receiver': 'eosio',\n",
       "        'act_digest': '7cfb875b92fe8a55158dd78a719520337c75a37cce01c89ce465901414b1185c',\n",
       "        'global_sequence': 1058126,\n",
       "        'recv_sequence': 1057429,\n",
       "        'auth_sequence': [['test11111111', 209]],\n",
       "        'code_sequence': 1,\n",
       "        'abi_sequence': 1},\n",
       "       'act': {'account': 'eosio.token',\n",
       "        'name': 'transfer',\n",
       "        'authorization': [{'actor': 'test11111111', 'permission': 'active'}],\n",
       "        'data': {'from': 'test11111111',\n",
       "         'to': 'eosio',\n",
       "         'quantity': '0.2000 UUOS',\n",
       "         'memo': 'hello,world'},\n",
       "        'hex_data': '104208218490b1ca0000000000ea3055d0070000000000000455554f530000000b68656c6c6f2c776f726c64'},\n",
       "       'context_free': False,\n",
       "       'elapsed': 17,\n",
       "       'console': '',\n",
       "       'trx_id': '17c3c14d66f05103bc40a2c69869b6ebbe01f880648a855f069a280d277ebe2c',\n",
       "       'block_num': 1056907,\n",
       "       'block_time': '2019-06-06T14:03:47.000',\n",
       "       'producer_block_id': None,\n",
       "       'account_ram_deltas': [],\n",
       "       'except': None,\n",
       "       'inline_traces': []}]}],\n",
       "   'except': None}},\n",
       " {'transaction_id': '0000000000000000000000000000000000000000000000000000000000000000',\n",
       "  'processed': {'error': '3040008 tx_duplicate: Duplicate transaction\\nduplicate transaction 17c3c14d66f05103bc40a2c69869b6ebbe01f880648a855f069a280d277ebe2c\\n    {\"id\":\"17c3c14d66f05103bc40a2c69869b6ebbe01f880648a855f069a280d277ebe2c\"}\\n    thread-0  producer_plugin.cpp:410 process_incoming_transaction_async'}}]"
      ]
     },
     "execution_count": 30,
     "metadata": {},
     "output_type": "execute_result"
    }
   ],
   "source": [
    "aa = []\n",
    "args = {'from':'test11111111', 'to':'eosio', 'quantity':'0.1000 UUOS', 'memo':'hello,world'}\n",
    "a = ['eosio.token', 'transfer', args, {'test11111111':'active'}]\n",
    "aa.append(a)\n",
    "\n",
    "args = {'from':'test11111111', 'to':'eosio', 'quantity':'0.2000 UUOS', 'memo':'hello,world'}\n",
    "a = ['eosio.token', 'transfer', args, {'test11111111':'active'}]\n",
    "aa.append(a)\n",
    "\n",
    "\n",
    "bb = []\n",
    "args = {'from':'test11111111', 'to':'eosio', 'quantity':'0.1000 UUOS', 'memo':'hello,world'}\n",
    "a = ['eosio.token', 'transfer', args, {'test11111111':'active'}]\n",
    "bb.append(a)\n",
    "\n",
    "args = {'from':'test11111111', 'to':'eosio', 'quantity':'0.2000 UUOS', 'memo':'hello,world'}\n",
    "a = ['eosio.token', 'transfer', args, {'test11111111':'active'}]\n",
    "bb.append(a)\n",
    "\n",
    "\n",
    "eosapi.push_transactions([aa, bb])"
   ]
  },
  {
   "cell_type": "code",
   "execution_count": 25,
   "metadata": {},
   "outputs": [
    {
     "data": {
      "text/plain": [
       "995.8"
      ]
     },
     "execution_count": 25,
     "metadata": {},
     "output_type": "execute_result"
    }
   ],
   "source": [
    "eosapi.get_balance('test11111111')"
   ]
  }
 ],
 "metadata": {
  "kernelspec": {
   "display_name": "Python 3",
   "language": "python",
   "name": "python3"
  },
  "language_info": {
   "codemirror_mode": {
    "name": "ipython",
    "version": 3
   },
   "file_extension": ".py",
   "mimetype": "text/x-python",
   "name": "python",
   "nbconvert_exporter": "python",
   "pygments_lexer": "ipython3",
   "version": "3.7.3"
  }
 },
 "nbformat": 4,
 "nbformat_minor": 2
}
