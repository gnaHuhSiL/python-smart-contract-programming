{
 "cells": [
  {
   "cell_type": "code",
   "execution_count": 73,
   "metadata": {},
   "outputs": [],
   "source": [
    "import os\n",
    "import hashlib\n",
    "import marshal\n",
    "from pyeoskit import eosapi, wallet, db\n",
    "from pyeoskit import config\n",
    "\n",
    "db.reset()\n",
    "config.main_token = 'UUOS'\n",
    "\n",
    "if os.path.exists('test.wallet'):\n",
    "    os.remove('test.wallet')\n",
    "psw = wallet.create('test')\n",
    "\n",
    "wallet.import_key('test', '5KH8vwQkP4QoTwgBtCV5ZYhKmv8mx56WeNrw9AZuhNRXTrPzgYc')\n",
    "\n",
    "def publish_contract(account_name, code, abi):\n",
    "    m = hashlib.sha256()\n",
    "    code = compile(code, \"contract\", 'exec')\n",
    "    code = marshal.dumps(code)\n",
    "    m.update(code)\n",
    "    code_hash = m.hexdigest()\n",
    "    r = eosapi.get_code(account_name)\n",
    "    if code_hash != r['code_hash']:\n",
    "        eosapi.set_contract(account_name, code, abi, 1)\n",
    "    return True\n",
    "\n",
    "#eosapi.set_nodes(['https://nodes.uuos.network:8443'])\n",
    "eosapi.set_nodes(['http://127.0.0.1:8888'])\n",
    "\n",
    "def run_test_code(code, account_name='test11111111'):\n",
    "    publish_contract(account_name, code, abi)\n",
    "    try:\n",
    "        r = eosapi.push_action(account_name, 'sayhello', b'hello,world', {account_name:'active'})\n",
    "        print(r['processed']['action_traces'][0]['console'])\n",
    "    except Exception as e:\n",
    "        print(e)\n"
   ]
  },
  {
   "cell_type": "markdown",
   "metadata": {},
   "source": [
    "https://github.com/EOSIO/eosio.contracts/tree/master/contracts/eosio.token"
   ]
  },
  {
   "cell_type": "markdown",
   "metadata": {},
   "source": [
    "```C++\n",
    "void token::transfer( name    from,\n",
    "                      name    to,\n",
    "                      asset   quantity,\n",
    "                      string  memo )\n",
    "{\n",
    "    check( from != to, \"cannot transfer to self\" );\n",
    "    require_auth( from );\n",
    "    check( is_account( to ), \"to account does not exist\");\n",
    "    auto sym = quantity.symbol.code();\n",
    "    stats statstable( _self, sym.raw() );\n",
    "    const auto& st = statstable.get( sym.raw() );\n",
    "\n",
    "    require_recipient( from );\n",
    "    require_recipient( to );\n",
    "\n",
    "    check( quantity.is_valid(), \"invalid quantity\" );\n",
    "    check( quantity.amount > 0, \"must transfer positive quantity\" );\n",
    "    check( quantity.symbol == st.supply.symbol, \"symbol precision mismatch\" );\n",
    "    check( memo.size() <= 256, \"memo has more than 256 bytes\" );\n",
    "\n",
    "    auto payer = has_auth( to ) ? to : from;\n",
    "\n",
    "    sub_balance( from, quantity );\n",
    "    add_balance( to, quantity, payer );\n",
    "}\n",
    "```"
   ]
  },
  {
   "cell_type": "code",
   "execution_count": null,
   "metadata": {
    "scrolled": true
   },
   "outputs": [],
   "source": [
    "key1 = 'EOS7ent7keWbVgvptfYaMYeF2cenMBiwYKcwEuc11uCbStsFKsrmV'\n",
    "key2 = 'EOS7ent7keWbVgvptfYaMYeF2cenMBiwYKcwEuc11uCbStsFKsrmV'\n",
    "eosapi.create_account('test11111111', 'test11111112', key1, key2, 64*1024, 1.0, 1.0)"
   ]
  },
  {
   "cell_type": "code",
   "execution_count": null,
   "metadata": {},
   "outputs": [],
   "source": [
    "help(eosapi.create_account)"
   ]
  },
  {
   "cell_type": "code",
   "execution_count": null,
   "metadata": {},
   "outputs": [],
   "source": [
    "help(eosapi.create_account)"
   ]
  },
  {
   "cell_type": "markdown",
   "metadata": {},
   "source": [
    "### require_recipient\n",
    "def require_recipient(account: int) -> None:"
   ]
  },
  {
   "cell_type": "code",
   "execution_count": 75,
   "metadata": {},
   "outputs": [
    {
     "data": {
      "text/plain": [
       "True"
      ]
     },
     "execution_count": 75,
     "metadata": {},
     "output_type": "execute_result"
    }
   ],
   "source": [
    "name = 'test11111111'\n",
    "code = '''\n",
    "import struct\n",
    "def apply(receiver, code, action):\n",
    "    print(n2s(receiver), n2s(code), n2s(action))\n",
    "    data = read_action_data()\n",
    "    from_, to, amount, symbol = struct.unpack('QQQ8s', data[:32])\n",
    "    print(n2s(from_), n2s(to), symbol)\n",
    "'''\n",
    "abi = ''\n",
    "publish_contract(name, code, abi)"
   ]
  },
  {
   "cell_type": "code",
   "execution_count": 142,
   "metadata": {},
   "outputs": [
    {
     "data": {
      "text/plain": [
       "True"
      ]
     },
     "execution_count": 142,
     "metadata": {},
     "output_type": "execute_result"
    }
   ],
   "source": [
    "name = 'test11111112'\n",
    "code = '''\n",
    "import struct\n",
    "eosio_token = N('eosio.token')\n",
    "transfer = N('transfer')\n",
    "def apply(receiver, code, action):\n",
    "    if code == eosio_token and transfer == action:\n",
    "        data = read_action_data()\n",
    "        from_, to, amount, symbol = struct.unpack('QQq8s', data[:32])\n",
    "        if symbol==b'\\\\x04UUOS\\\\x00\\\\x00\\\\x00' and to == N('test11111112'):\n",
    "            print('Do your homework here!')\n",
    "        return\n",
    "'''\n",
    "abi = ''\n",
    "publish_contract(name, code, abi)\n"
   ]
  },
  {
   "cell_type": "code",
   "execution_count": 143,
   "metadata": {},
   "outputs": [
    {
     "name": "stdout",
     "output_type": "stream",
     "text": [
      "\n",
      "b' B\\x08!\\x84\\x90\\xb1\\xca\\x10B\\x08!\\x84\\x90\\xb1\\xca\\xe8\\x03\\x00\\x00\\x00\\x00\\x00\\x00\\x04UUOS\\x00\\x00\\x00\\x00'\n",
      "done!\n",
      "\n",
      "1667\n"
     ]
    }
   ],
   "source": [
    "r = eosapi.transfer('test11111112', 'test11111111', 0.1)\n",
    "print(r['processed']['action_traces'][0]['inline_traces'][0]['console'])\n",
    "print(r['processed']['action_traces'][0]['inline_traces'][1]['console'])\n",
    "print(r['processed']['elapsed'])"
   ]
  }
 ],
 "metadata": {
  "kernelspec": {
   "display_name": "Python 3",
   "language": "python",
   "name": "python3"
  },
  "language_info": {
   "codemirror_mode": {
    "name": "ipython",
    "version": 3
   },
   "file_extension": ".py",
   "mimetype": "text/x-python",
   "name": "python",
   "nbconvert_exporter": "python",
   "pygments_lexer": "ipython3",
   "version": "3.7.3"
  }
 },
 "nbformat": 4,
 "nbformat_minor": 2
}
