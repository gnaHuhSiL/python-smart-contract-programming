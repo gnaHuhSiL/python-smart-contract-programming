{
 "cells": [
  {
   "cell_type": "markdown",
   "metadata": {},
   "source": [
    "### 1. action_new\n",
    "```python\n",
    "def action_new(account, action, actor, permission, data) -> int\n",
    "```"
   ]
  },
  {
   "cell_type": "markdown",
   "metadata": {},
   "source": [
    "### 2. action_add_permission\n",
    "```python\n",
    "def action_add_permission(actor, permission) -> int\n",
    "```"
   ]
  },
  {
   "cell_type": "markdown",
   "metadata": {},
   "source": [
    "### 3. transaction_new\n",
    "```python\n",
    "def transaction_new(expiration, ref_block_num, ref_block_prefix, \\\n",
    "                    max_net_usage_words, max_cpu_usage_ms, delay_sec) -> int\n",
    "```\n"
   ]
  },
  {
   "cell_type": "markdown",
   "metadata": {},
   "source": [
    "### 4. transaction_send\n",
    "```python\n",
    "def transaction_send(trx_id, sender_id, payer, replace_existing) -> None\n",
    "```"
   ]
  },
  {
   "cell_type": "markdown",
   "metadata": {},
   "source": [
    "### 5. transaction_add_action\n",
    "```python\n",
    "transaction_add_action(trx_id, action_id) -> None\n",
    "```"
   ]
  },
  {
   "cell_type": "markdown",
   "metadata": {},
   "source": [
    "### 6. transaction_add_context_free_action\n",
    "```python\n",
    "def transaction_add_context_free_action(trx_id, action_id) -> None\n",
    "\n",
    "```"
   ]
  },
  {
   "cell_type": "markdown",
   "metadata": {},
   "source": [
    "### 7. transaction_cancel\n",
    "```python\n",
    "def transaction_cancel(action_id) -> None\n",
    "\n",
    "```"
   ]
  },
  {
   "cell_type": "markdown",
   "metadata": {},
   "source": [
    "#### 创建一个新的transaction:\n",
    "\n",
    "```python\n",
    "trx_id = transaction_new(0, 0, 0, 0, 0, 5)\n",
    "```\n",
    "\n",
    "transaction_new中的6个参数分别对应libraries/chain/include/eosio/chain/transaction.hpp头文件中的transaction结构体中的成员变量：\n",
    "\n",
    "```c++\n",
    "struct transaction_header {\n",
    "    time_point_sec         expiration;\n",
    "    uint16_t               ref_block_num       = 0U;\n",
    "    uint32_t               ref_block_prefix    = 0UL;\n",
    "    fc::unsigned_int       max_net_usage_words = 0UL;\n",
    "    uint8_t                max_cpu_usage_ms    = 0;\n",
    "    fc::unsigned_int       delay_sec           = 0UL;\n",
    "    ...\n",
    "}\n",
    "```"
   ]
  },
  {
   "cell_type": "markdown",
   "metadata": {},
   "source": [
    "\n",
    "#### 创建一个新的action:\n",
    "```python\n",
    "a = action_new(receiver, N('dosomething'), receiver, N('active'), b'hello,worddddd')\n",
    "```\n",
    "action_new对应libraries/chain/include/eosio/chain/action.hpp中的数据结构：\n",
    "\n",
    "```c++\n",
    "struct action {\n",
    "  account_name               account;\n",
    "  action_name                name;\n",
    "  vector<permission_level>   authorization;\n",
    "  bytes                      data;\n",
    "}\n",
    "```\n"
   ]
  },
  {
   "cell_type": "markdown",
   "metadata": {},
   "source": [
    "#### 将action添加到transaction:\n",
    "```python\n",
    "transaction_add_action(trx_id, a)\n",
    "```"
   ]
  },
  {
   "cell_type": "markdown",
   "metadata": {},
   "source": [
    "#### 发送deferred transaction\n",
    "```python\n",
    "sender_id = 1\n",
    "transaction_send(trx_id, sender_id, payer, 0)\n",
    "```"
   ]
  },
  {
   "cell_type": "markdown",
   "metadata": {},
   "source": [
    "#### 取消deferred transaction\n",
    "```\n",
    "transaction_cancel(1)\n",
    "```\n",
    "transaction_cancel的返回值为1时表示取消成功，为0时表示指定的deferred transaction不存在\n"
   ]
  },
  {
   "cell_type": "code",
   "execution_count": 92,
   "metadata": {},
   "outputs": [
    {
     "name": "stdout",
     "output_type": "stream",
     "text": [
      "done!\n"
     ]
    }
   ],
   "source": [
    "import os\n",
    "import hashlib\n",
    "import marshal\n",
    "from pyeoskit import eosapi, wallet, db\n",
    "from pyeoskit import config\n",
    "\n",
    "db.reset()\n",
    "config.main_token = 'UUOS'\n",
    "\n",
    "if os.path.exists('test.wallet'):\n",
    "    os.remove('test.wallet')\n",
    "psw = wallet.create('test')\n",
    "\n",
    "\n",
    "wallet.import_key('test', '5Ji6xuMzbv8UsvJxqFzzknBhWJQZKAjqAKcxnRtMehViNfS1CSS')\n",
    "\n",
    "def publish_contract(account_name, code, abi):\n",
    "    m = hashlib.sha256()\n",
    "    code = compile(code, \"contract\", 'exec')\n",
    "    code = marshal.dumps(code)\n",
    "    m.update(code)\n",
    "    code_hash = m.hexdigest()\n",
    "    r = eosapi.get_code(account_name)\n",
    "    if code_hash != r['code_hash']:\n",
    "        eosapi.set_contract(account_name, code, abi, 1)\n",
    "    return True\n",
    "\n",
    "#eosapi.set_nodes(['https://nodes.uuos.network:8443'])\n",
    "eosapi.set_nodes(['http://127.0.0.1:8888'])\n",
    "\n",
    "def run_test_code(code, account_name='test11111111'):\n",
    "    publish_contract(account_name, code, abi)\n",
    "    try:\n",
    "        r = eosapi.push_action(account_name, 'sayhello', b'hello,world', {account_name:'active'})\n",
    "        print(r['processed']['action_traces'][0]['console'])\n",
    "    except Exception as e:\n",
    "        print(e)\n",
    "print('done!')"
   ]
  },
  {
   "cell_type": "code",
   "execution_count": 4,
   "metadata": {},
   "outputs": [
    {
     "data": {
      "text/plain": [
       "{'public': 'EOS6DW7yDB68zSD7GbUycAkHk6XAxwxfuHMHPJBuz2YexsdnjSZvL',\n",
       " 'private': '5Ji6xuMzbv8UsvJxqFzzknBhWJQZKAjqAKcxnRtMehViNfS1CSS'}"
      ]
     },
     "execution_count": 4,
     "metadata": {},
     "output_type": "execute_result"
    }
   ],
   "source": [
    "eosapi.create_key()"
   ]
  },
  {
   "cell_type": "code",
   "execution_count": null,
   "metadata": {
    "scrolled": true
   },
   "outputs": [],
   "source": [
    "owner_key = 'EOS6DW7yDB68zSD7GbUycAkHk6XAxwxfuHMHPJBuz2YexsdnjSZvL'\n",
    "active_key = 'EOS6DW7yDB68zSD7GbUycAkHk6XAxwxfuHMHPJBuz2YexsdnjSZvL'\n",
    "\n",
    "eosapi.create_account('test11111111', 'helloworld11', owner_key, active_key, 64*1024, 1.0, 1.0)"
   ]
  },
  {
   "cell_type": "code",
   "execution_count": 43,
   "metadata": {
    "scrolled": true
   },
   "outputs": [
    {
     "data": {
      "text/plain": [
       "{\n",
       "    \"account_name\": \"helloworld11\",\n",
       "    \"head_block_num\": 1161,\n",
       "    \"head_block_time\": \"2019-06-11T03:47:00.000\",\n",
       "    \"privileged\": false,\n",
       "    \"last_code_update\": \"1970-01-01T00:00:00.000\",\n",
       "    \"created\": \"2019-06-11T03:42:46.000\",\n",
       "    \"core_liquid_balance\": \"1000000.0000 UUOS\",\n",
       "    \"ram_quota\": 65206,\n",
       "    \"net_weight\": 10000,\n",
       "    \"cpu_weight\": 10000,\n",
       "    \"net_limit\": {\n",
       "        \"used\": 0,\n",
       "        \"available\": \"578145772800\",\n",
       "        \"max\": \"578145772800\"\n",
       "    },\n",
       "    \"cpu_limit\": {\n",
       "        \"used\": 0,\n",
       "        \"available\": \"110117491200\",\n",
       "        \"max\": \"110117491200\"\n",
       "    },\n",
       "    \"ram_usage\": 3558,\n",
       "    \"permissions\": [\n",
       "        {\n",
       "            \"perm_name\": \"active\",\n",
       "            \"parent\": \"owner\",\n",
       "            \"required_auth\": {\n",
       "                \"threshold\": 1,\n",
       "                \"keys\": [\n",
       "                    {\n",
       "                        \"key\": \"EOS6DW7yDB68zSD7GbUycAkHk6XAxwxfuHMHPJBuz2YexsdnjSZvL\",\n",
       "                        \"weight\": 1\n",
       "                    }\n",
       "                ],\n",
       "                \"accounts\": [],\n",
       "                \"waits\": []\n",
       "            }\n",
       "        },\n",
       "        {\n",
       "            \"perm_name\": \"owner\",\n",
       "            \"parent\": \"\",\n",
       "            \"required_auth\": {\n",
       "                \"threshold\": 1,\n",
       "                \"keys\": [\n",
       "                    {\n",
       "                        \"key\": \"EOS6DW7yDB68zSD7GbUycAkHk6XAxwxfuHMHPJBuz2YexsdnjSZvL\",\n",
       "                        \"weight\": 1\n",
       "                    }\n",
       "                ],\n",
       "                \"accounts\": [],\n",
       "                \"waits\": []\n",
       "            }\n",
       "        }\n",
       "    ],\n",
       "    \"total_resources\": {\n",
       "        \"owner\": \"helloworld11\",\n",
       "        \"net_weight\": \"1.0000 UUOS\",\n",
       "        \"cpu_weight\": \"1.0000 UUOS\",\n",
       "        \"ram_bytes\": 65206\n",
       "    },\n",
       "    \"self_delegated_bandwidth\": {\n",
       "        \"from\": \"helloworld11\",\n",
       "        \"to\": \"helloworld11\",\n",
       "        \"net_weight\": \"1.0000 UUOS\",\n",
       "        \"cpu_weight\": \"1.0000 UUOS\"\n",
       "    },\n",
       "    \"refund_request\": null,\n",
       "    \"voter_info\": {\n",
       "        \"owner\": \"helloworld11\",\n",
       "        \"proxy\": \"\",\n",
       "        \"producers\": [],\n",
       "        \"staked\": 20000,\n",
       "        \"last_vote_weight\": \"0.00000000000000000\",\n",
       "        \"proxied_vote_weight\": \"0.00000000000000000\",\n",
       "        \"is_proxy\": 0\n",
       "    }\n",
       "}"
      ]
     },
     "execution_count": 43,
     "metadata": {},
     "output_type": "execute_result"
    }
   ],
   "source": [
    "eosapi.get_account('helloworld11')"
   ]
  },
  {
   "cell_type": "code",
   "execution_count": 93,
   "metadata": {},
   "outputs": [
    {
     "name": "stdout",
     "output_type": "stream",
     "text": [
      "done!\n"
     ]
    }
   ],
   "source": [
    "account_name = 'helloworld11'\n",
    "a = {\n",
    "    \"account\": account_name,\n",
    "    \"permission\": \"active\",\n",
    "    \"parent\": \"owner\",\n",
    "    \"auth\": {\n",
    "        \"threshold\": 1,\n",
    "        \"keys\": [\n",
    "            {\n",
    "                \"key\": \"EOS6DW7yDB68zSD7GbUycAkHk6XAxwxfuHMHPJBuz2YexsdnjSZvL\",\n",
    "                \"weight\": 1\n",
    "            },\n",
    "        ],\n",
    "        \"accounts\": [],\n",
    "        \"waits\": []\n",
    "    }\n",
    "}\n",
    "r = eosapi.push_action('eosio', 'updateauth', a, {account_name:'owner'})\n",
    "print('done!')"
   ]
  },
  {
   "cell_type": "code",
   "execution_count": 94,
   "metadata": {},
   "outputs": [
    {
     "name": "stdout",
     "output_type": "stream",
     "text": [
      "done!\n"
     ]
    }
   ],
   "source": [
    "account_name = 'helloworld11'\n",
    "a = {\n",
    "    \"account\": account_name,\n",
    "    \"permission\": \"active\",\n",
    "    \"parent\": \"owner\",\n",
    "    \"auth\": {\n",
    "        \"threshold\": 1,\n",
    "        \"keys\": [\n",
    "            {\n",
    "                \"key\": \"EOS6DW7yDB68zSD7GbUycAkHk6XAxwxfuHMHPJBuz2YexsdnjSZvL\",\n",
    "                \"weight\": 1\n",
    "            },\n",
    "        ],\n",
    "        \"accounts\": [{\"permission\":{\"actor\":'helloworld11',\"permission\":\"eosio.code\"},\"weight\":1}],\n",
    "        \"waits\": []\n",
    "    }\n",
    "}\n",
    "r = eosapi.push_action('eosio', 'updateauth', a, {account_name:'owner'})\n",
    "print('done!')\n"
   ]
  },
  {
   "cell_type": "code",
   "execution_count": 72,
   "metadata": {},
   "outputs": [
    {
     "data": {
      "text/plain": [
       "{\n",
       "    \"account_name\": \"helloworld11\",\n",
       "    \"head_block_num\": 16275,\n",
       "    \"head_block_time\": \"2019-06-11T08:15:06.000\",\n",
       "    \"privileged\": false,\n",
       "    \"last_code_update\": \"2019-06-11T06:37:46.000\",\n",
       "    \"created\": \"2019-06-11T03:42:46.000\",\n",
       "    \"core_liquid_balance\": \"1000000.0000 UUOS\",\n",
       "    \"ram_quota\": 65206,\n",
       "    \"net_weight\": 10000,\n",
       "    \"cpu_weight\": 10000,\n",
       "    \"net_limit\": {\n",
       "        \"used\": 7062,\n",
       "        \"available\": \"181193932792938\",\n",
       "        \"max\": \"181193932800000\"\n",
       "    },\n",
       "    \"cpu_limit\": {\n",
       "        \"used\": 11514,\n",
       "        \"available\": \"34559999988486\",\n",
       "        \"max\": \"34560000000000\"\n",
       "    },\n",
       "    \"ram_usage\": 5384,\n",
       "    \"permissions\": [\n",
       "        {\n",
       "            \"perm_name\": \"active\",\n",
       "            \"parent\": \"owner\",\n",
       "            \"required_auth\": {\n",
       "                \"threshold\": 1,\n",
       "                \"keys\": [\n",
       "                    {\n",
       "                        \"key\": \"EOS6DW7yDB68zSD7GbUycAkHk6XAxwxfuHMHPJBuz2YexsdnjSZvL\",\n",
       "                        \"weight\": 1\n",
       "                    }\n",
       "                ],\n",
       "                \"accounts\": [],\n",
       "                \"waits\": []\n",
       "            }\n",
       "        },\n",
       "        {\n",
       "            \"perm_name\": \"owner\",\n",
       "            \"parent\": \"\",\n",
       "            \"required_auth\": {\n",
       "                \"threshold\": 1,\n",
       "                \"keys\": [\n",
       "                    {\n",
       "                        \"key\": \"EOS6DW7yDB68zSD7GbUycAkHk6XAxwxfuHMHPJBuz2YexsdnjSZvL\",\n",
       "                        \"weight\": 1\n",
       "                    }\n",
       "                ],\n",
       "                \"accounts\": [],\n",
       "                \"waits\": []\n",
       "            }\n",
       "        }\n",
       "    ],\n",
       "    \"total_resources\": {\n",
       "        \"owner\": \"helloworld11\",\n",
       "        \"net_weight\": \"1.0000 UUOS\",\n",
       "        \"cpu_weight\": \"1.0000 UUOS\",\n",
       "        \"ram_bytes\": 65206\n",
       "    },\n",
       "    \"self_delegated_bandwidth\": {\n",
       "        \"from\": \"helloworld11\",\n",
       "        \"to\": \"helloworld11\",\n",
       "        \"net_weight\": \"1.0000 UUOS\",\n",
       "        \"cpu_weight\": \"1.0000 UUOS\"\n",
       "    },\n",
       "    \"refund_request\": null,\n",
       "    \"voter_info\": {\n",
       "        \"owner\": \"helloworld11\",\n",
       "        \"proxy\": \"\",\n",
       "        \"producers\": [],\n",
       "        \"staked\": 20000,\n",
       "        \"last_vote_weight\": \"0.00000000000000000\",\n",
       "        \"proxied_vote_weight\": \"0.00000000000000000\",\n",
       "        \"is_proxy\": 0\n",
       "    }\n",
       "}"
      ]
     },
     "execution_count": 72,
     "metadata": {},
     "output_type": "execute_result"
    }
   ],
   "source": [
    "eosapi.get_account('helloworld11')"
   ]
  },
  {
   "cell_type": "code",
   "execution_count": 81,
   "metadata": {},
   "outputs": [
    {
     "data": {
      "text/plain": [
       "True"
      ]
     },
     "execution_count": 81,
     "metadata": {},
     "output_type": "execute_result"
    }
   ],
   "source": [
    "code = '''\n",
    "import struct\n",
    "self_account = N('helloworld11')\n",
    "\n",
    "def apply(receiver, code, action):\n",
    "    if action == N('dosomething'):\n",
    "        print(publication_time())\n",
    "        print(current_time())\n",
    "        print(now())\n",
    "#        eosio_assert(0, 'hello,world')\n",
    "    elif action == N('onerror'):\n",
    "        print('oops, receive onerror action')\n",
    "        data = read_action_data()\n",
    "        sender_id = data[:16]\n",
    "        sender_id = int.from_bytes(sender_id, 'little')\n",
    "        trx = data[16:]\n",
    "        print('+++++++read_action_data:', sender_id, trx)\n",
    "    elif action == N('senddefer'):\n",
    "        trx_id = transaction_new(0, 0, 0, 0, 0, 10)\n",
    "\n",
    "        action_id = action_new(self_account, N('dosomething'), self_account, N('active'), b'hello,worddddd')\n",
    "        transaction_add_action(trx_id, action_id)\n",
    "\n",
    "        payer = self_account\n",
    "        transaction_send(trx_id, 1, payer, False)\n",
    "    elif action == N('canceldefer'):\n",
    "        ret = transaction_cancel(1)\n",
    "        print(ret)\n",
    "'''\n",
    "abi = ''\n",
    "name = 'helloworld11'\n",
    "publish_contract(name, code, abi)"
   ]
  },
  {
   "cell_type": "markdown",
   "metadata": {},
   "source": [
    "# 调用senddefer, deferred transaction将廷迟10秒执行"
   ]
  },
  {
   "cell_type": "code",
   "execution_count": 82,
   "metadata": {},
   "outputs": [
    {
     "name": "stdout",
     "output_type": "stream",
     "text": [
      "\n",
      "{'transaction_id': '4cf1e8e5c45af113f1497cd6ec5b5b010ccc10b56373699d5aefdf2c0279df40', 'processed': {'id': '4cf1e8e5c45af113f1497cd6ec5b5b010ccc10b56373699d5aefdf2c0279df40', 'block_num': 16736, 'block_time': '2019-06-11T08:18:56.500', 'producer_block_id': None, 'receipt': {'status': 'executed', 'cpu_usage_us': 722, 'net_usage_words': 19}, 'elapsed': 722, 'net_usage': 152, 'scheduled': False, 'action_traces': [{'receipt': {'receiver': 'helloworld11', 'act_digest': '12a9c28dbba0dc36a44e70dda2766ad6024039cb818871fe734cae269b291610', 'global_sequence': 16877, 'recv_sequence': 23, 'auth_sequence': [['helloworld11', 41]], 'code_sequence': 8, 'abi_sequence': 8}, 'act': {'account': 'helloworld11', 'name': 'senddefer', 'authorization': [{'actor': 'helloworld11', 'permission': 'active'}], 'data': '68656c6c6f2c776f726c64'}, 'context_free': False, 'elapsed': 429, 'console': '', 'trx_id': '4cf1e8e5c45af113f1497cd6ec5b5b010ccc10b56373699d5aefdf2c0279df40', 'block_num': 16736, 'block_time': '2019-06-11T08:18:56.500', 'producer_block_id': None, 'account_ram_deltas': [{'account': 'helloworld11', 'delta': 336}], 'except': None, 'inline_traces': []}], 'except': None}}\n"
     ]
    }
   ],
   "source": [
    "name = 'helloworld11'\n",
    "r = eosapi.push_action(name, 'senddefer', b'hello,world', {name:'active'})\n",
    "print(r['processed']['action_traces'][0]['console'])\n",
    "print(r)"
   ]
  },
  {
   "cell_type": "code",
   "execution_count": 62,
   "metadata": {},
   "outputs": [
    {
     "data": {
      "text/plain": [
       "{\n",
       "    \"transactions\": [\n",
       "        {\n",
       "            \"trx_id\": \"5439ef87cd1e2b039a5761fcf3dccb83e3fef367cddc2612fe0af8d61ee4948b\",\n",
       "            \"sender\": \"helloworld11\",\n",
       "            \"sender_id\": \"0x01000000000000000000000000000000\",\n",
       "            \"payer\": \"helloworld11\",\n",
       "            \"delay_until\": \"2019-06-11T06:37:59.000\",\n",
       "            \"expiration\": \"2019-06-11T06:47:59.000\",\n",
       "            \"published\": \"2019-06-11T06:37:49.000\",\n",
       "            \"transaction\": {\n",
       "                \"expiration\": \"2019-06-11T06:37:49\",\n",
       "                \"ref_block_num\": 5814,\n",
       "                \"ref_block_prefix\": 288273723,\n",
       "                \"max_net_usage_words\": 0,\n",
       "                \"max_cpu_usage_ms\": 0,\n",
       "                \"delay_sec\": 10,\n",
       "                \"context_free_actions\": [],\n",
       "                \"actions\": [\n",
       "                    {\n",
       "                        \"account\": \"helloworld11\",\n",
       "                        \"name\": \"dosomething\",\n",
       "                        \"authorization\": [\n",
       "                            {\n",
       "                                \"actor\": \"helloworld11\",\n",
       "                                \"permission\": \"active\"\n",
       "                            }\n",
       "                        ],\n",
       "                        \"data\": \"68656c6c6f2c776f726464646464\"\n",
       "                    }\n",
       "                ],\n",
       "                \"transaction_extensions\": []\n",
       "            }\n",
       "        }\n",
       "    ],\n",
       "    \"more\": \"\"\n",
       "}"
      ]
     },
     "execution_count": 62,
     "metadata": {},
     "output_type": "execute_result"
    }
   ],
   "source": [
    "eosapi.get_scheduled_transactions(True, '')"
   ]
  },
  {
   "cell_type": "code",
   "execution_count": 63,
   "metadata": {
    "scrolled": true
   },
   "outputs": [
    {
     "data": {
      "text/plain": [
       "{\n",
       "    \"id\": \"5439ef87cd1e2b039a5761fcf3dccb83e3fef367cddc2612fe0af8d61ee4948b\",\n",
       "    \"trx\": {\n",
       "        \"receipt\": {\n",
       "            \"status\": \"executed\",\n",
       "            \"cpu_usage_us\": 321,\n",
       "            \"net_usage_words\": 0,\n",
       "            \"trx\": [\n",
       "                0,\n",
       "                \"5439ef87cd1e2b039a5761fcf3dccb83e3fef367cddc2612fe0af8d61ee4948b\"\n",
       "            ]\n",
       "        }\n",
       "    },\n",
       "    \"block_time\": \"2019-06-11T06:37:59.000\",\n",
       "    \"block_num\": 5835,\n",
       "    \"last_irreversible_block\": 5877,\n",
       "    \"traces\": [\n",
       "        {\n",
       "            \"receipt\": {\n",
       "                \"receiver\": \"helloworld11\",\n",
       "                \"act_digest\": \"e1b8c3433851c497fdf644a27e4d028887bcdf520685ce5d024da01a33c4650e\",\n",
       "                \"global_sequence\": 5960,\n",
       "                \"recv_sequence\": 13,\n",
       "                \"auth_sequence\": [\n",
       "                    [\n",
       "                        \"helloworld11\",\n",
       "                        25\n",
       "                    ]\n",
       "                ],\n",
       "                \"code_sequence\": 6,\n",
       "                \"abi_sequence\": 6\n",
       "            },\n",
       "            \"act\": {\n",
       "                \"account\": \"helloworld11\",\n",
       "                \"name\": \"dosomething\",\n",
       "                \"authorization\": [\n",
       "                    {\n",
       "                        \"actor\": \"helloworld11\",\n",
       "                        \"permission\": \"active\"\n",
       "                    }\n",
       "                ],\n",
       "                \"data\": \"68656c6c6f2c776f726464646464\"\n",
       "            },\n",
       "            \"context_free\": false,\n",
       "            \"elapsed\": 212,\n",
       "            \"console\": \"1560235069000000\\n1560235079000000\\n1560235079\\n\",\n",
       "            \"trx_id\": \"5439ef87cd1e2b039a5761fcf3dccb83e3fef367cddc2612fe0af8d61ee4948b\",\n",
       "            \"block_num\": 5835,\n",
       "            \"block_time\": \"2019-06-11T06:37:59.000\",\n",
       "            \"producer_block_id\": null,\n",
       "            \"account_ram_deltas\": [],\n",
       "            \"except\": null,\n",
       "            \"inline_traces\": []\n",
       "        }\n",
       "    ]\n",
       "}"
      ]
     },
     "execution_count": 63,
     "metadata": {},
     "output_type": "execute_result"
    }
   ],
   "source": [
    "eosapi.get_transaction('5439ef87cd1e2b039a5761fcf3dccb83e3fef367cddc2612fe0af8d61ee4948b')"
   ]
  },
  {
   "cell_type": "code",
   "execution_count": 69,
   "metadata": {},
   "outputs": [
    {
     "name": "stdout",
     "output_type": "stream",
     "text": [
      "Tue, 11 Jun 2019 16:13:12 GMT\n",
      "Tue, 11 Jun 2019 16:13:22 GMT\n"
     ]
    }
   ],
   "source": [
    "import time\n",
    "t1 = 1560240792000000\n",
    "t2 = 1560240802000000\n",
    "\n",
    "local_time = time.localtime(t1/1e6)\n",
    "r = time.strftime('%a, %d %b %Y %H:%M:%S GMT', local_time)\n",
    "print(r)\n",
    "\n",
    "local_time = time.localtime(t2/1e6)\n",
    "r = time.strftime('%a, %d %b %Y %H:%M:%S GMT', local_time)\n",
    "print(r)"
   ]
  },
  {
   "cell_type": "markdown",
   "metadata": {},
   "source": [
    "# 取消deferred transaction"
   ]
  },
  {
   "cell_type": "code",
   "execution_count": 84,
   "metadata": {
    "scrolled": true
   },
   "outputs": [
    {
     "name": "stdout",
     "output_type": "stream",
     "text": [
      "0\n",
      "\n"
     ]
    }
   ],
   "source": [
    "name = 'helloworld11'\n",
    "publish_contract(name, code, abi)\n",
    "r = eosapi.push_action(name, 'canceldefer', b'hello,world', {name:'active'})\n",
    "print(r['processed']['action_traces'][0]['console'])\n"
   ]
  }
 ],
 "metadata": {
  "kernelspec": {
   "display_name": "Python 3",
   "language": "python",
   "name": "python3"
  },
  "language_info": {
   "codemirror_mode": {
    "name": "ipython",
    "version": 3
   },
   "file_extension": ".py",
   "mimetype": "text/x-python",
   "name": "python",
   "nbconvert_exporter": "python",
   "pygments_lexer": "ipython3",
   "version": "3.7.3"
  }
 },
 "nbformat": 4,
 "nbformat_minor": 2
}
