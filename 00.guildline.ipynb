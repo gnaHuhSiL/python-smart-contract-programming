{
 "cells": [
  {
   "cell_type": "markdown",
   "metadata": {},
   "source": [
    "[1.环境搭建](https://www.bilibili.com/video/av54628632/?p=1)\n",
    "\n",
    "[2.钱包模块](https://www.bilibili.com/video/av54628632/?p=2)\n",
    "\n",
    "[3.eosapi模块](https://www.bilibili.com/video/av54628632/?p=3)\n",
    "\n",
    "[5.name-transaction-action](https://www.bilibili.com/video/av54628632/?p=5)\n",
    "\n",
    "[11.权限管理](https://www.bilibili.com/video/av54628632/?p=11)\n",
    "\n",
    "[12.多重签名](https://www.bilibili.com/video/av54628632/?p=12)\n",
    "\n",
    "[14.ABI](https://www.bilibili.com/video/av54628632/?p=14)\n",
    "\n",
    "[20.调用C++代码](https://www.bilibili.com/video/av54628632/?p=20)\n",
    "\n",
    "[21.CPU-RAM-NET](https://www.bilibili.com/video/av54628632/?p=21)\n",
    "\n",
    "\n",
    "\n",
    "\n",
    "[4.helloworld](https://www.bilibili.com/video/av54628632/?p=4)\n",
    "\n",
    "[6.常用函数](https://www.bilibili.com/video/av54628632/?p=6)\n",
    "\n",
    "[7.require_recipient函数](https://www.bilibili.com/video/av54628632/?p=7)\n",
    "\n",
    "[8.require_recipient-续](https://www.bilibili.com/video/av54628632/?p=8)\n",
    "\n",
    "[9.send_inline函数](https://www.bilibili.com/video/av54628632/?p=9)\n",
    "\n",
    "[10.deffered transaction](https://www.bilibili.com/video/av54628632/?p=10)\n",
    "\n",
    "[13.token](https://www.bilibili.com/video/av54628632/?p=13)\n",
    "\n",
    "[15.pack&unpack](https://www.bilibili.com/video/av54628632/?p=15)\n",
    "\n",
    "[16.crypto相关函数](https://www.bilibili.com/video/av54628632/?p=16)\n",
    "\n",
    "[17.数据存储-1](https://www.bilibili.com/video/av54628632/?p=17)\n",
    "\n",
    "[18.数据存储-2-多重索引](https://www.bilibili.com/video/av54628632/?p=18)\n",
    "\n",
    "[19.数据存储-3-应用](https://www.bilibili.com/video/av54628632/?p=19)\n",
    "\n"
   ]
  }
 ],
 "metadata": {
  "kernelspec": {
   "display_name": "Python 3",
   "language": "python",
   "name": "python3"
  },
  "language_info": {
   "codemirror_mode": {
    "name": "ipython",
    "version": 3
   },
   "file_extension": ".py",
   "mimetype": "text/x-python",
   "name": "python",
   "nbconvert_exporter": "python",
   "pygments_lexer": "ipython3",
   "version": "3.7.3"
  }
 },
 "nbformat": 4,
 "nbformat_minor": 2
}
