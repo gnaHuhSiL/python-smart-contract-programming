{
 "cells": [
  {
   "cell_type": "code",
   "execution_count": 1,
   "metadata": {},
   "outputs": [],
   "source": [
    "import os\n",
    "import hashlib\n",
    "import marshal\n",
    "from pyeoskit import eosapi, wallet, db\n",
    "db.reset()\n",
    "\n",
    "if os.path.exists('test.wallet'):\n",
    "    os.remove('test.wallet')\n",
    "psw = wallet.create('test')\n",
    "wallet.import_key('test', '5KH8vwQkP4QoTwgBtCV5ZYhKmv8mx56WeNrw9AZuhNRXTrPzgYc')\n",
    "wallet.import_key('test', '5KFQ5opDDCADMZwwwsKF89przC9pZc9Dc4Ed2GYbGo8S32Yy2Gw')\n",
    "wallet.import_key('test', '5KQwrPbwdL6PhXujxW37FSSQZ1JiwsST4cqQzDeyXtP79zkvFD3')\n",
    "\n",
    "\n",
    "def publish_contract(account_name, code, abi):\n",
    "    m = hashlib.sha256()\n",
    "    code = compile(code, \"contract\", 'exec')\n",
    "    code = marshal.dumps(code)\n",
    "    m.update(code)\n",
    "    code_hash = m.hexdigest()\n",
    "    r = eosapi.get_code(account_name)\n",
    "    if code_hash != r['code_hash']:\n",
    "        eosapi.set_contract(account_name, code, abi, 1)\n",
    "    return True\n",
    "#eosapi.set_nodes(['https://nodes.uuos.network:8443'])\n",
    "eosapi.set_nodes(['http://127.0.0.1:8888'])\n"
   ]
  },
  {
   "cell_type": "code",
   "execution_count": 12,
   "metadata": {},
   "outputs": [
    {
     "data": {
      "text/plain": [
       "'EOS7u2gnQzoybz6YZvoi5RY6rMqkbAycDBFEFGhsvHEDmB7tffc2h'"
      ]
     },
     "execution_count": 12,
     "metadata": {},
     "output_type": "execute_result"
    }
   ],
   "source": [
    "eosapi.get_public_key('5KH8vwQkP4QoTwgBtCV5ZYhKmv8mx56WeNrw9AZuhNRXTrPzgYc')"
   ]
  },
  {
   "cell_type": "code",
   "execution_count": 37,
   "metadata": {
    "scrolled": true
   },
   "outputs": [
    {
     "name": "stdout",
     "output_type": "stream",
     "text": [
      "b'hello,world'\n",
      "\n",
      "273\n"
     ]
    }
   ],
   "source": [
    "code = '''\n",
    "import db\n",
    "def apply(receiver, code, action):\n",
    "    if not receiver == code:\n",
    "        return\n",
    "\n",
    "    code = receiver\n",
    "    scope = 'scope'\n",
    "    table = 'table'\n",
    "    payer = receiver\n",
    "    id = 'hello'\n",
    "    data = read_action_data()\n",
    "#    print(data)\n",
    "    \n",
    "    itr = db.find_i64(code, scope, table, id)\n",
    "#    print(itr)\n",
    "    if N('setvalue') == action:\n",
    "        if itr < 0:\n",
    "            db.store_i64(scope, table, payer, id, b'world')\n",
    "        else:\n",
    "            old_data = db.get_i64(itr)\n",
    "            print(old_data)\n",
    "            db.update_i64(itr, receiver, data)\n",
    "    elif N('getvalue') == action:\n",
    "        data = db.get_i64(itr)\n",
    "        print(data)\n",
    "'''\n",
    "\n",
    "abi = ''\n",
    "account_name = 'helloworld11'\n",
    "publish_contract(account_name, code, abi)\n",
    "try:\n",
    "    r = eosapi.push_action(account_name, 'setvalue', b'hello,world', {account_name:'active'})\n",
    "    print(r['processed']['action_traces'][0]['console'])\n",
    "    print(r['processed']['elapsed'])\n",
    "except Exception as e:\n",
    "    print(e)"
   ]
  },
  {
   "cell_type": "code",
   "execution_count": 31,
   "metadata": {},
   "outputs": [
    {
     "data": {
      "text/plain": [
       "{\n",
       "    \"results\": {\n",
       "        \"error\": {\n",
       "            \"name\": \"table_access_violation\",\n",
       "            \"code\": 3160002,\n",
       "            \"what\": \"Table access violation (3160002)\\ncan not write to read only database\\npending console output: b'hello,world'\\n\\n\"\n",
       "        }\n",
       "    }\n",
       "}"
      ]
     },
     "execution_count": 31,
     "metadata": {},
     "output_type": "execute_result"
    }
   ],
   "source": [
    "eosapi.call_contract(name, 'setvalue', b'hello'.hex())"
   ]
  },
  {
   "cell_type": "code",
   "execution_count": 32,
   "metadata": {},
   "outputs": [
    {
     "data": {
      "text/plain": [
       "{\n",
       "    \"results\": {\n",
       "        \"output\": \"b'hello,world'\\n\"\n",
       "    }\n",
       "}"
      ]
     },
     "execution_count": 32,
     "metadata": {},
     "output_type": "execute_result"
    }
   ],
   "source": [
    "eosapi.call_contract(name, 'getvalue', b'hello'.hex())"
   ]
  }
 ],
 "metadata": {
  "kernelspec": {
   "display_name": "Python 3",
   "language": "python",
   "name": "python3"
  },
  "language_info": {
   "codemirror_mode": {
    "name": "ipython",
    "version": 3
   },
   "file_extension": ".py",
   "mimetype": "text/x-python",
   "name": "python",
   "nbconvert_exporter": "python",
   "pygments_lexer": "ipython3",
   "version": "3.7.3"
  }
 },
 "nbformat": 4,
 "nbformat_minor": 2
}
