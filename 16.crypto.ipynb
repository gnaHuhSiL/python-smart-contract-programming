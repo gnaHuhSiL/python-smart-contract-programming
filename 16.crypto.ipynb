{
 "cells": [
  {
   "cell_type": "markdown",
   "metadata": {},
   "source": [
    "```python\n",
    "def sha1(data: bytes) -> bytes\n",
    "def sha256(data: bytes) -> bytes\n",
    "def sha512(data: bytes) -> bytes\n",
    "def ripemd160(data: bytes) -> bytes\n",
    "def recover_key(data: bytes) -> bytes\n",
    "\n",
    "def assert_sha1(data: bytes, hash: bytes)\n",
    "def assert_sha256(data: bytes, hash: bytes)\n",
    "def assert_sha512(data: bytes, hash: bytes)\n",
    "def assert_ripemd160(data: bytes, hash: bytes)\n",
    "def assert_recover_key(data: bytes, hash: bytes)\n",
    "```"
   ]
  },
  {
   "cell_type": "code",
   "execution_count": 96,
   "metadata": {},
   "outputs": [
    {
     "name": "stdout",
     "output_type": "stream",
     "text": [
      "done!\n"
     ]
    }
   ],
   "source": [
    "import os\n",
    "import hashlib\n",
    "import marshal\n",
    "from pyeoskit import eosapi, wallet, db\n",
    "from pyeoskit import config\n",
    "\n",
    "db.reset()\n",
    "config.main_token = 'UUOS'\n",
    "\n",
    "if os.path.exists('test.wallet'):\n",
    "    os.remove('test.wallet')\n",
    "psw = wallet.create('test')\n",
    "\n",
    "\n",
    "wallet.import_key('test', '5KH8vwQkP4QoTwgBtCV5ZYhKmv8mx56WeNrw9AZuhNRXTrPzgYc')\n",
    "\n",
    "def publish_contract(account_name, code, abi):\n",
    "    m = hashlib.sha256()\n",
    "    code = compile(code, \"contract\", 'exec')\n",
    "    code = marshal.dumps(code)\n",
    "    m.update(code)\n",
    "    code_hash = m.hexdigest()\n",
    "    r = eosapi.get_code(account_name)\n",
    "    if code_hash != r['code_hash']:\n",
    "        eosapi.set_contract(account_name, code, abi, 1)\n",
    "    return True\n",
    "\n",
    "#eosapi.set_nodes(['https://nodes.uuos.network:8443'])\n",
    "eosapi.set_nodes(['http://127.0.0.1:8888'])\n",
    "\n",
    "def run_test_code(code, account_name='helloworld11'):\n",
    "    publish_contract(account_name, code, abi)\n",
    "    try:\n",
    "        r = eosapi.push_action(account_name, 'sayhello', b'hello,world', {account_name:'active'})\n",
    "        print(r['processed']['action_traces'][0]['console'])\n",
    "    except Exception as e:\n",
    "        print(e)\n",
    "print('done!')"
   ]
  },
  {
   "cell_type": "code",
   "execution_count": 99,
   "metadata": {},
   "outputs": [
    {
     "name": "stdout",
     "output_type": "stream",
     "text": [
      "b'j\\xdf\\xb1\\x83\\xa4\\xa2\\xc9J/\\x92\\xda\\xb5\\xad\\xe7b\\xa4x\\x89\\xa5\\xa1'\n",
      "\n"
     ]
    }
   ],
   "source": [
    "code = '''\n",
    "import hashlib\n",
    "def apply(receiver, code, action):\n",
    "    print(sha1(b'helloworld'))\n",
    "    assert_sha1(b'helloworld', sha1(b'helloworld'))\n",
    "    assert_sha256(b'helloworld', sha256(b'helloworld'))\n",
    "    assert_sha512(b'helloworld', sha512(b'helloworld'))\n",
    "    assert_ripemd160(b'helloworld', ripemd160(b'helloworld'))\n",
    "'''\n",
    "abi = ''\n",
    "name = 'helloworld11'\n",
    "publish_contract(name, code, abi)\n",
    "try:\n",
    "    r = eosapi.push_action(name, 'sayhello', b'hello,world', {name:'active'})\n",
    "    print(r['processed']['action_traces'][0]['console'])\n",
    "except Exception as e:\n",
    "    print(e)"
   ]
  },
  {
   "cell_type": "code",
   "execution_count": 100,
   "metadata": {
    "scrolled": true
   },
   "outputs": [
    {
     "data": {
      "text/plain": [
       "{\n",
       "    \"account_name\": \"helloworld11\",\n",
       "    \"head_block_num\": 173325,\n",
       "    \"head_block_time\": \"2019-06-17T10:56:28.500\",\n",
       "    \"privileged\": false,\n",
       "    \"last_code_update\": \"2019-06-17T10:55:18.000\",\n",
       "    \"created\": \"2019-06-15T14:30:00.500\",\n",
       "    \"core_liquid_balance\": \"8.0000 UUOS\",\n",
       "    \"ram_quota\": 65206,\n",
       "    \"net_weight\": 10000,\n",
       "    \"cpu_weight\": 10000,\n",
       "    \"net_limit\": {\n",
       "        \"used\": 36703,\n",
       "        \"available\": \"181193932763297\",\n",
       "        \"max\": \"181193932800000\"\n",
       "    },\n",
       "    \"cpu_limit\": {\n",
       "        \"used\": 109766,\n",
       "        \"available\": \"34559999890234\",\n",
       "        \"max\": \"34560000000000\"\n",
       "    },\n",
       "    \"ram_usage\": 4366,\n",
       "    \"permissions\": [\n",
       "        {\n",
       "            \"perm_name\": \"active\",\n",
       "            \"parent\": \"owner\",\n",
       "            \"required_auth\": {\n",
       "                \"threshold\": 1,\n",
       "                \"keys\": [\n",
       "                    {\n",
       "                        \"key\": \"EOS7ent7keWbVgvptfYaMYeF2cenMBiwYKcwEuc11uCbStsFKsrmV\",\n",
       "                        \"weight\": 1\n",
       "                    }\n",
       "                ],\n",
       "                \"accounts\": [],\n",
       "                \"waits\": []\n",
       "            }\n",
       "        },\n",
       "        {\n",
       "            \"perm_name\": \"owner\",\n",
       "            \"parent\": \"\",\n",
       "            \"required_auth\": {\n",
       "                \"threshold\": 1,\n",
       "                \"keys\": [\n",
       "                    {\n",
       "                        \"key\": \"EOS7ent7keWbVgvptfYaMYeF2cenMBiwYKcwEuc11uCbStsFKsrmV\",\n",
       "                        \"weight\": 1\n",
       "                    }\n",
       "                ],\n",
       "                \"accounts\": [],\n",
       "                \"waits\": []\n",
       "            }\n",
       "        }\n",
       "    ],\n",
       "    \"total_resources\": {\n",
       "        \"owner\": \"helloworld11\",\n",
       "        \"net_weight\": \"1.0000 UUOS\",\n",
       "        \"cpu_weight\": \"1.0000 UUOS\",\n",
       "        \"ram_bytes\": 65206\n",
       "    },\n",
       "    \"self_delegated_bandwidth\": {\n",
       "        \"from\": \"helloworld11\",\n",
       "        \"to\": \"helloworld11\",\n",
       "        \"net_weight\": \"1.0000 UUOS\",\n",
       "        \"cpu_weight\": \"1.0000 UUOS\"\n",
       "    },\n",
       "    \"refund_request\": null,\n",
       "    \"voter_info\": {\n",
       "        \"owner\": \"helloworld11\",\n",
       "        \"proxy\": \"\",\n",
       "        \"producers\": [],\n",
       "        \"staked\": 20000,\n",
       "        \"last_vote_weight\": \"0.00000000000000000\",\n",
       "        \"proxied_vote_weight\": \"0.00000000000000000\",\n",
       "        \"is_proxy\": 0\n",
       "    }\n",
       "}"
      ]
     },
     "execution_count": 100,
     "metadata": {},
     "output_type": "execute_result"
    }
   ],
   "source": [
    "eosapi.get_account('helloworld11')"
   ]
  },
  {
   "cell_type": "code",
   "execution_count": null,
   "metadata": {},
   "outputs": [],
   "source": [
    "b'EOS7ent7keWbVgvptfYaMYeF2cenMBiwYKcwEuc11uCbStsFKsrmV"
   ]
  },
  {
   "cell_type": "code",
   "execution_count": 101,
   "metadata": {},
   "outputs": [
    {
     "name": "stdout",
     "output_type": "stream",
     "text": [
      "EOS7ent7keWbVgvptfYaMYeF2cenMBiwYKcwEuc11uCbStsFKsrmV\n"
     ]
    },
    {
     "data": {
      "text/plain": [
       "b'\\x00\\x03k\\xfc\\\\\\xc1\\xe9!V%\\xa2\\xf2_\\xd1\\x01<\\xden{\\x9do)GS\\xcc\\xe4\\x98\\xf5u\\xa2\\xe74\\xa7\\x00O}\\xcc\\xa8'"
      ]
     },
     "execution_count": 101,
     "metadata": {},
     "output_type": "execute_result"
    }
   ],
   "source": [
    "import base58\n",
    "public_key = 'EOS7ent7keWbVgvptfYaMYeF2cenMBiwYKcwEuc11uCbStsFKsrmV'\n",
    "\n",
    "print(public_key)\n",
    "b'\\x00'+base58.b58decode(public_key[3:])"
   ]
  },
  {
   "cell_type": "markdown",
   "metadata": {},
   "source": [
    "```python\n",
    "def assert_recover_key(digest, sign, public_key) -> None\n",
    "def recover_key(digest, sign) -> bytes\n",
    "```"
   ]
  },
  {
   "cell_type": "code",
   "execution_count": 102,
   "metadata": {},
   "outputs": [
    {
     "name": "stdout",
     "output_type": "stream",
     "text": [
      "b'hello,world'\n",
      "b'\\x0bhello,world\\x00\\x1f+v\\x98\\x0c\\x1b\\x84\\x91\\xa4:\\xc2b\\xa2q\\xeb)\\xd3\\x8f\\x89\\x8cm\\x1d\\x9a\\xd7\\xc2o\\xa4\\x03\\xe2K>\\xc5,\\x06-\\xbf\\xd5i#\\xfb\\xb4|Q\\xf8:\\x9dtN\\x83\\xab\\x88JJ\\xac\\nPh\\xcc\\xa5\\xe0\\xb15$\\x9b\\xcd'\n",
      "38\n",
      "b'\\x00\\x03k\\xfc\\\\\\xc1\\xe9!V%\\xa2\\xf2_\\xd1\\x01<\\xden{\\x9do)GS\\xcc\\xe4\\x98\\xf5u\\xa2\\xe74\\xa7\\x00'\n",
      "34\n",
      "b'O}\\xcc\\xa8\\x8c\\x8d\\x82\\xf4^4\\xbe|\\xa5\\x07\\x15M\\xe3,\\xbdy'\n",
      "\n"
     ]
    }
   ],
   "source": [
    "abi = '''\n",
    "{\n",
    "   \"version\": \"eosio::abi/1.0\",\n",
    "   \"types\": [],\n",
    "  \"structs\": [{\n",
    "      \"name\": \"sayhello\",\n",
    "      \"base\": \"\",\n",
    "      \"fields\": [\n",
    "        {\"name\":\"text\", \"type\":\"bytes\"},\n",
    "        {\"name\":\"sign\", \"type\":\"signature\"}\n",
    "        ]\n",
    "    }\n",
    "  ],\n",
    "  \"actions\": [{\n",
    "      \"name\": \"sayhello\",\n",
    "      \"type\": \"sayhello\",\n",
    "      \"ricardian_contract\": \"\"\n",
    "    }\n",
    "  ],\n",
    "  \"tables\": [\n",
    "  ]\n",
    "}\n",
    "'''\n",
    "\n",
    "\n",
    "code = r'''\n",
    "import struct\n",
    "import hashlib\n",
    "public_key = b'\\x00\\x03k\\xfc\\\\\\xc1\\xe9!V%\\xa2\\xf2_\\xd1\\x01<\\xden{\\x9do)GS\\xcc\\xe4\\x98\\xf5u\\xa2\\xe74\\xa7\\x00O}\\xcc\\xa8'\n",
    "\n",
    "def apply(receiver, code, action):\n",
    "    data = read_action_data()\n",
    "    n1, n2 = struct.unpack_uint32(data)\n",
    "    text = data[n2:n1+n2]\n",
    "    sign = data[n1+n2:]\n",
    "    print(text)\n",
    "    print(data)\n",
    "    print(len(public_key))\n",
    "\n",
    "    digest = sha256(text)\n",
    "    assert_recover_key(digest, sign, public_key)\n",
    "    \n",
    "    key = recover_key(digest, sign)\n",
    "    print(key)\n",
    "    print(len(key))\n",
    "    \n",
    "    checksum = ripemd160(key[1:])\n",
    "    print(checksum)\n",
    "'''\n",
    "\n",
    "name = 'helloworld11'\n",
    "publish_contract(name, code, abi)\n",
    "\n",
    "try:\n",
    "    text = b'hello,world'\n",
    "    h = hashlib.sha256()\n",
    "    h.update(text)\n",
    "    signature = wallet.sign_digest(h.digest(), 'EOS7ent7keWbVgvptfYaMYeF2cenMBiwYKcwEuc11uCbStsFKsrmV')\n",
    "\n",
    "    args = {'text': text.hex(), 'sign': signature}\n",
    "    r = eosapi.push_action(name, 'sayhello', args, {name:'active'})\n",
    "    print(r['processed']['action_traces'][0]['console'])\n",
    "except Exception as e:\n",
    "    print(e)\n"
   ]
  },
  {
   "cell_type": "code",
   "execution_count": 105,
   "metadata": {},
   "outputs": [
    {
     "data": {
      "text/plain": [
       "b'EOS7ent7keWbVgvptfYaMYeF2cenMBiwYKcwEuc11uCbStsFKsrmV'"
      ]
     },
     "execution_count": 105,
     "metadata": {},
     "output_type": "execute_result"
    }
   ],
   "source": [
    "import base58\n",
    "h = hashlib.new('ripemd160')\n",
    "h.update(b'\\x03k\\xfc\\\\\\xc1\\xe9!V%\\xa2\\xf2_\\xd1\\x01<\\xden{\\x9do)GS\\xcc\\xe4\\x98\\xf5u\\xa2\\xe74\\xa7\\x00')\n",
    "\n",
    "digest = h.digest()\n",
    "\n",
    "public_key = b'\\x03k\\xfc\\\\\\xc1\\xe9!V%\\xa2\\xf2_\\xd1\\x01<\\xden{\\x9do)GS\\xcc\\xe4\\x98\\xf5u\\xa2\\xe74\\xa7\\x00'\n",
    "public_key += digest[:4]\n",
    "b'EOS'+base58.b58encode(public_key)\n"
   ]
  },
  {
   "cell_type": "code",
   "execution_count": null,
   "metadata": {},
   "outputs": [],
   "source": [
    "base58.b58encode(b'\\x03k\\xfc\\\\\\xc1\\xe9!V%\\xa2\\xf2_\\xd1\\x01<\\xden{\\x9do)GS\\xcc\\xe4\\x98\\xf5u\\xa2\\xe74\\xa7\\x00O}\\xcc\\xa8')\n"
   ]
  },
  {
   "cell_type": "code",
   "execution_count": null,
   "metadata": {},
   "outputs": [],
   "source": [
    "EOS7ent7keWbVgvptfYaMYeF2cenMBiwYKcwEuc11uCbStsFKsrmV\n"
   ]
  },
  {
   "cell_type": "code",
   "execution_count": null,
   "metadata": {},
   "outputs": [],
   "source": [
    "import base58\n",
    "public_key = 'EOS7ent7keWbVgvptfYaMYeF2cenMBiwYKcwEuc11uCbStsFKsrmV'\n",
    "public_key = base58.b58decode(public_key[3:])\n",
    "print(public_key)\n",
    "h = hashlib.new('ripemd160')\n",
    "h.update(public_key[:33])\n",
    "print(h.digest())"
   ]
  }
 ],
 "metadata": {
  "kernelspec": {
   "display_name": "Python 3",
   "language": "python",
   "name": "python3"
  },
  "language_info": {
   "codemirror_mode": {
    "name": "ipython",
    "version": 3
   },
   "file_extension": ".py",
   "mimetype": "text/x-python",
   "name": "python",
   "nbconvert_exporter": "python",
   "pygments_lexer": "ipython3",
   "version": "3.7.3"
  }
 },
 "nbformat": 4,
 "nbformat_minor": 2
}
