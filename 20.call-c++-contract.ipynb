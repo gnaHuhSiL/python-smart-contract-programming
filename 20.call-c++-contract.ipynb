{
 "cells": [
  {
   "cell_type": "code",
   "execution_count": 1,
   "metadata": {},
   "outputs": [
    {
     "name": "stdout",
     "output_type": "stream",
     "text": [
      "\n",
      "\n",
      "\n",
      "done!\n"
     ]
    }
   ],
   "source": [
    "from init import *\n",
    "code = r'''\n",
    "#include <eosio/eosio.hpp>\n",
    "#include <eosio/action.hpp>\n",
    "#include <eosio/print.hpp>\n",
    "\n",
    "extern \"C\" {\n",
    "    __attribute__((eosio_wasm_import))\n",
    "    int call_contract_get_extra_args(void* extra_args, size_t size1);\n",
    "\n",
    "    __attribute__((eosio_wasm_import))\n",
    "    int call_contract_set_results(void* result, size_t size1);\n",
    "\n",
    "    void apply( uint64_t receiver, uint64_t code, uint64_t action ) {\n",
    "        eosio::print(\"hello,world\\n\");\n",
    "    }\n",
    "\n",
    "   void call(uint64_t func, uint64_t arg1, uint64_t arg2, uint64_t arg3) {\n",
    "      if (func == eosio::name(\"calltest1\").value) {\n",
    "         uint64_t extra_args;\n",
    "         ::call_contract_get_extra_args(&extra_args, sizeof(extra_args));\n",
    "         eosio::print(\"+++++++++++call: extra_args:\", extra_args, \"\\n\");\n",
    "         extra_args += 1;\n",
    "         ::call_contract_set_results(&extra_args, sizeof(extra_args));\n",
    "      }\n",
    "   }\n",
    "}\n",
    "'''\n",
    "\n",
    "publish_cpp_contract('helloworld12', code, abi='', includes = [], entry='call')\n",
    "\n",
    "print('done!')"
   ]
  },
  {
   "cell_type": "code",
   "execution_count": 7,
   "metadata": {},
   "outputs": [
    {
     "name": "stdout",
     "output_type": "stream",
     "text": [
      "\n",
      "171\n"
     ]
    }
   ],
   "source": [
    "from pyeoskit import db\n",
    "db.reset()\n",
    "code = '''\n",
    "def apply(receiver, code, action):\n",
    "    ret = call_contract('helloworld12', 'calltest1', 0, 0, 0, int.to_bytes(1, 8, 'little'))\n",
    "    print(ret)\n",
    "    print(int.from_bytes(ret, 'little'))\n",
    "'''\n",
    "abi = ''\n",
    "name = 'helloworld11'\n",
    "publish_contract(name, code, abi)\n",
    "try:\n",
    "    r = eosapi.push_action(name, 'sayhello', b'hello,world', {name:'active'})\n",
    "    print(r['processed']['action_traces'][0]['console'])\n",
    "    print(r['processed']['elapsed'])\n",
    "except Exception as e:\n",
    "    print(e)"
   ]
  },
  {
   "cell_type": "code",
   "execution_count": null,
   "metadata": {},
   "outputs": [],
   "source": []
  }
 ],
 "metadata": {
  "kernelspec": {
   "display_name": "Python 3",
   "language": "python",
   "name": "python3"
  },
  "language_info": {
   "codemirror_mode": {
    "name": "ipython",
    "version": 3
   },
   "file_extension": ".py",
   "mimetype": "text/x-python",
   "name": "python",
   "nbconvert_exporter": "python",
   "pygments_lexer": "ipython3",
   "version": "3.7.3"
  }
 },
 "nbformat": 4,
 "nbformat_minor": 2
}
