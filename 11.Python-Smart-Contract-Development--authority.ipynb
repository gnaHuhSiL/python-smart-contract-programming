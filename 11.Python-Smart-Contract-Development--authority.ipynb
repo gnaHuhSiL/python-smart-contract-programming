{
 "cells": [
  {
   "cell_type": "code",
   "execution_count": 10,
   "metadata": {},
   "outputs": [
    {
     "name": "stdout",
     "output_type": "stream",
     "text": [
      "done!\n"
     ]
    }
   ],
   "source": [
    "import os\n",
    "import hashlib\n",
    "import marshal\n",
    "from pyeoskit import eosapi, wallet, db\n",
    "from pyeoskit import config\n",
    "db.reset()\n",
    "config.main_token = 'UUOS'\n",
    "\n",
    "\n",
    "if os.path.exists('test.wallet'):\n",
    "    os.remove('test.wallet')\n",
    "psw = wallet.create('test')\n",
    "\n",
    "wallet.import_key('test', '5KH8vwQkP4QoTwgBtCV5ZYhKmv8mx56WeNrw9AZuhNRXTrPzgYc')\n",
    "wallet.import_key('test', '5KFQ5opDDCADMZwwwsKF89przC9pZc9Dc4Ed2GYbGo8S32Yy2Gw')\n",
    "wallet.import_key('test', '5Ji6xuMzbv8UsvJxqFzzknBhWJQZKAjqAKcxnRtMehViNfS1CSS')\n",
    "\n",
    "def publish_contract(account_name, code, abi):\n",
    "    m = hashlib.sha256()\n",
    "    code = compile(code, \"contract\", 'exec')\n",
    "    code = marshal.dumps(code)\n",
    "    m.update(code)\n",
    "    code_hash = m.hexdigest()\n",
    "    r = eosapi.get_code(account_name)\n",
    "    if code_hash != r['code_hash']:\n",
    "        eosapi.set_contract(account_name, code, abi, 1)\n",
    "    return True\n",
    "\n",
    "#eosapi.set_nodes(['https://nodes.uuos.network:8443'])\n",
    "eosapi.set_nodes(['http://127.0.0.1:8888'])\n",
    "\n",
    "def run_test_code(code, account_name='helloworld11'):\n",
    "    abi = ''\n",
    "    publish_contract(account_name, code, abi)\n",
    "    try:\n",
    "        r = eosapi.push_action(account_name, 'sayhello', b'hello,world', {account_name:'active'})\n",
    "        print(r['processed']['action_traces'][0]['console'])\n",
    "    except Exception as e:\n",
    "        print(e)\n",
    "print('done!')"
   ]
  },
  {
   "cell_type": "code",
   "execution_count": 87,
   "metadata": {},
   "outputs": [
    {
     "data": {
      "text/plain": [
       "'EOS7ent7keWbVgvptfYaMYeF2cenMBiwYKcwEuc11uCbStsFKsrmV'"
      ]
     },
     "execution_count": 87,
     "metadata": {},
     "output_type": "execute_result"
    }
   ],
   "source": [
    "eosapi.get_public_key('5KH8vwQkP4QoTwgBtCV5ZYhKmv8mx56WeNrw9AZuhNRXTrPzgYc')"
   ]
  },
  {
   "cell_type": "code",
   "execution_count": 88,
   "metadata": {},
   "outputs": [
    {
     "data": {
      "text/plain": [
       "'EOS7u2gnQzoybz6YZvoi5RY6rMqkbAycDBFEFGhsvHEDmB7tffc2h'"
      ]
     },
     "execution_count": 88,
     "metadata": {},
     "output_type": "execute_result"
    }
   ],
   "source": [
    "eosapi.get_public_key('5KFQ5opDDCADMZwwwsKF89przC9pZc9Dc4Ed2GYbGo8S32Yy2Gw')"
   ]
  },
  {
   "cell_type": "code",
   "execution_count": 127,
   "metadata": {},
   "outputs": [
    {
     "data": {
      "text/plain": [
       "'EOS6DW7yDB68zSD7GbUycAkHk6XAxwxfuHMHPJBuz2YexsdnjSZvL'"
      ]
     },
     "execution_count": 127,
     "metadata": {},
     "output_type": "execute_result"
    }
   ],
   "source": [
    "eosapi.get_public_key('5Ji6xuMzbv8UsvJxqFzzknBhWJQZKAjqAKcxnRtMehViNfS1CSS')"
   ]
  },
  {
   "cell_type": "code",
   "execution_count": 141,
   "metadata": {
    "scrolled": false
   },
   "outputs": [
    {
     "data": {
      "text/plain": [
       "{\n",
       "    \"account_name\": \"helloworld11\",\n",
       "    \"head_block_num\": 113299,\n",
       "    \"head_block_time\": \"2019-06-12T11:27:01.500\",\n",
       "    \"privileged\": false,\n",
       "    \"last_code_update\": \"2019-06-12T11:26:39.000\",\n",
       "    \"created\": \"2019-06-11T03:42:46.000\",\n",
       "    \"core_liquid_balance\": \"1000000.0000 UUOS\",\n",
       "    \"ram_quota\": 65206,\n",
       "    \"net_weight\": 10000,\n",
       "    \"cpu_weight\": 10000,\n",
       "    \"net_limit\": {\n",
       "        \"used\": 2876,\n",
       "        \"available\": \"181193932797124\",\n",
       "        \"max\": \"181193932800000\"\n",
       "    },\n",
       "    \"cpu_limit\": {\n",
       "        \"used\": 9757,\n",
       "        \"available\": \"34559999990243\",\n",
       "        \"max\": \"34560000000000\"\n",
       "    },\n",
       "    \"ram_usage\": 4076,\n",
       "    \"permissions\": [\n",
       "        {\n",
       "            \"perm_name\": \"active\",\n",
       "            \"parent\": \"owner\",\n",
       "            \"required_auth\": {\n",
       "                \"threshold\": 1,\n",
       "                \"keys\": [\n",
       "                    {\n",
       "                        \"key\": \"EOS7u2gnQzoybz6YZvoi5RY6rMqkbAycDBFEFGhsvHEDmB7tffc2h\",\n",
       "                        \"weight\": 1\n",
       "                    }\n",
       "                ],\n",
       "                \"accounts\": [],\n",
       "                \"waits\": []\n",
       "            }\n",
       "        },\n",
       "        {\n",
       "            \"perm_name\": \"owner\",\n",
       "            \"parent\": \"\",\n",
       "            \"required_auth\": {\n",
       "                \"threshold\": 1,\n",
       "                \"keys\": [\n",
       "                    {\n",
       "                        \"key\": \"EOS7u2gnQzoybz6YZvoi5RY6rMqkbAycDBFEFGhsvHEDmB7tffc2h\",\n",
       "                        \"weight\": 1\n",
       "                    }\n",
       "                ],\n",
       "                \"accounts\": [],\n",
       "                \"waits\": []\n",
       "            }\n",
       "        }\n",
       "    ],\n",
       "    \"total_resources\": {\n",
       "        \"owner\": \"helloworld11\",\n",
       "        \"net_weight\": \"1.0000 UUOS\",\n",
       "        \"cpu_weight\": \"1.0000 UUOS\",\n",
       "        \"ram_bytes\": 65206\n",
       "    },\n",
       "    \"self_delegated_bandwidth\": {\n",
       "        \"from\": \"helloworld11\",\n",
       "        \"to\": \"helloworld11\",\n",
       "        \"net_weight\": \"1.0000 UUOS\",\n",
       "        \"cpu_weight\": \"1.0000 UUOS\"\n",
       "    },\n",
       "    \"refund_request\": null,\n",
       "    \"voter_info\": {\n",
       "        \"owner\": \"helloworld11\",\n",
       "        \"proxy\": \"\",\n",
       "        \"producers\": [],\n",
       "        \"staked\": 20000,\n",
       "        \"last_vote_weight\": \"0.00000000000000000\",\n",
       "        \"proxied_vote_weight\": \"0.00000000000000000\",\n",
       "        \"is_proxy\": 0\n",
       "    }\n",
       "}"
      ]
     },
     "execution_count": 141,
     "metadata": {},
     "output_type": "execute_result"
    }
   ],
   "source": [
    "eosapi.get_account('helloworld11')"
   ]
  },
  {
   "cell_type": "code",
   "execution_count": 14,
   "metadata": {},
   "outputs": [
    {
     "name": "stdout",
     "output_type": "stream",
     "text": [
      "done!\n"
     ]
    }
   ],
   "source": [
    "account_name = 'helloworld11'\n",
    "a = {\n",
    "    \"account\": account_name,\n",
    "    \"permission\": \"active\",\n",
    "    \"parent\": \"owner\",\n",
    "    \"auth\": {\n",
    "        \"threshold\": 1,\n",
    "        \"keys\": [\n",
    "            {\n",
    "                \"key\": \"EOS6DW7yDB68zSD7GbUycAkHk6XAxwxfuHMHPJBuz2YexsdnjSZvL\",\n",
    "                \"weight\": 1\n",
    "            }\n",
    "        ],\n",
    "        \"accounts\": [],\n",
    "        \"waits\": []\n",
    "    }\n",
    "}\n",
    "r = eosapi.push_action('eosio', 'updateauth', a, {account_name:'owner'})\n",
    "print('done!')"
   ]
  },
  {
   "cell_type": "code",
   "execution_count": 4,
   "metadata": {
    "scrolled": true
   },
   "outputs": [
    {
     "data": {
      "text/plain": [
       "{\n",
       "    \"account_name\": \"helloworld11\",\n",
       "    \"head_block_num\": 114438,\n",
       "    \"head_block_time\": \"2019-06-12T11:36:31.000\",\n",
       "    \"privileged\": false,\n",
       "    \"last_code_update\": \"2019-06-12T11:26:39.000\",\n",
       "    \"created\": \"2019-06-11T03:42:46.000\",\n",
       "    \"core_liquid_balance\": \"1000000.0000 UUOS\",\n",
       "    \"ram_quota\": 65206,\n",
       "    \"net_weight\": 10000,\n",
       "    \"cpu_weight\": 10000,\n",
       "    \"net_limit\": {\n",
       "        \"used\": 3017,\n",
       "        \"available\": \"181193932796983\",\n",
       "        \"max\": \"181193932800000\"\n",
       "    },\n",
       "    \"cpu_limit\": {\n",
       "        \"used\": 10027,\n",
       "        \"available\": \"34559999989973\",\n",
       "        \"max\": \"34560000000000\"\n",
       "    },\n",
       "    \"ram_usage\": 4076,\n",
       "    \"permissions\": [\n",
       "        {\n",
       "            \"perm_name\": \"active\",\n",
       "            \"parent\": \"owner\",\n",
       "            \"required_auth\": {\n",
       "                \"threshold\": 1,\n",
       "                \"keys\": [\n",
       "                    {\n",
       "                        \"key\": \"EOS7u2gnQzoybz6YZvoi5RY6rMqkbAycDBFEFGhsvHEDmB7tffc2h\",\n",
       "                        \"weight\": 1\n",
       "                    }\n",
       "                ],\n",
       "                \"accounts\": [],\n",
       "                \"waits\": []\n",
       "            }\n",
       "        },\n",
       "        {\n",
       "            \"perm_name\": \"owner\",\n",
       "            \"parent\": \"\",\n",
       "            \"required_auth\": {\n",
       "                \"threshold\": 1,\n",
       "                \"keys\": [\n",
       "                    {\n",
       "                        \"key\": \"EOS7u2gnQzoybz6YZvoi5RY6rMqkbAycDBFEFGhsvHEDmB7tffc2h\",\n",
       "                        \"weight\": 1\n",
       "                    }\n",
       "                ],\n",
       "                \"accounts\": [],\n",
       "                \"waits\": []\n",
       "            }\n",
       "        }\n",
       "    ],\n",
       "    \"total_resources\": {\n",
       "        \"owner\": \"helloworld11\",\n",
       "        \"net_weight\": \"1.0000 UUOS\",\n",
       "        \"cpu_weight\": \"1.0000 UUOS\",\n",
       "        \"ram_bytes\": 65206\n",
       "    },\n",
       "    \"self_delegated_bandwidth\": {\n",
       "        \"from\": \"helloworld11\",\n",
       "        \"to\": \"helloworld11\",\n",
       "        \"net_weight\": \"1.0000 UUOS\",\n",
       "        \"cpu_weight\": \"1.0000 UUOS\"\n",
       "    },\n",
       "    \"refund_request\": null,\n",
       "    \"voter_info\": {\n",
       "        \"owner\": \"helloworld11\",\n",
       "        \"proxy\": \"\",\n",
       "        \"producers\": [],\n",
       "        \"staked\": 20000,\n",
       "        \"last_vote_weight\": \"0.00000000000000000\",\n",
       "        \"proxied_vote_weight\": \"0.00000000000000000\",\n",
       "        \"is_proxy\": 0\n",
       "    }\n",
       "}"
      ]
     },
     "execution_count": 4,
     "metadata": {},
     "output_type": "execute_result"
    }
   ],
   "source": [
    "eosapi.get_account('helloworld11')"
   ]
  },
  {
   "cell_type": "code",
   "execution_count": 13,
   "metadata": {},
   "outputs": [
    {
     "name": "stdout",
     "output_type": "stream",
     "text": [
      "done!\n"
     ]
    }
   ],
   "source": [
    "account_name = 'helloworld11'\n",
    "a = {\n",
    "    \"account\": account_name,\n",
    "    \"permission\": \"owner\",\n",
    "    \"parent\": \"\",\n",
    "    \"auth\": {\n",
    "        \"threshold\": 1,\n",
    "        \"keys\": [\n",
    "            {\n",
    "                \"key\": \"EOS6DW7yDB68zSD7GbUycAkHk6XAxwxfuHMHPJBuz2YexsdnjSZvL\",\n",
    "                \"weight\": 1\n",
    "            }\n",
    "        ],\n",
    "        \"accounts\": [],\n",
    "        \"waits\": []\n",
    "    }\n",
    "}\n",
    "r = eosapi.push_action('eosio', 'updateauth', a, {account_name:'owner'})\n",
    "print('done!')"
   ]
  },
  {
   "cell_type": "code",
   "execution_count": 6,
   "metadata": {
    "scrolled": true
   },
   "outputs": [
    {
     "data": {
      "text/plain": [
       "{\n",
       "    \"account_name\": \"helloworld11\",\n",
       "    \"head_block_num\": 114527,\n",
       "    \"head_block_time\": \"2019-06-12T11:37:15.500\",\n",
       "    \"privileged\": false,\n",
       "    \"last_code_update\": \"2019-06-12T11:26:39.000\",\n",
       "    \"created\": \"2019-06-11T03:42:46.000\",\n",
       "    \"core_liquid_balance\": \"1000000.0000 UUOS\",\n",
       "    \"ram_quota\": 65206,\n",
       "    \"net_weight\": 10000,\n",
       "    \"cpu_weight\": 10000,\n",
       "    \"net_limit\": {\n",
       "        \"used\": 3175,\n",
       "        \"available\": \"181193932796825\",\n",
       "        \"max\": \"181193932800000\"\n",
       "    },\n",
       "    \"cpu_limit\": {\n",
       "        \"used\": 10319,\n",
       "        \"available\": \"34559999989681\",\n",
       "        \"max\": \"34560000000000\"\n",
       "    },\n",
       "    \"ram_usage\": 4076,\n",
       "    \"permissions\": [\n",
       "        {\n",
       "            \"perm_name\": \"active\",\n",
       "            \"parent\": \"owner\",\n",
       "            \"required_auth\": {\n",
       "                \"threshold\": 1,\n",
       "                \"keys\": [\n",
       "                    {\n",
       "                        \"key\": \"EOS7u2gnQzoybz6YZvoi5RY6rMqkbAycDBFEFGhsvHEDmB7tffc2h\",\n",
       "                        \"weight\": 1\n",
       "                    }\n",
       "                ],\n",
       "                \"accounts\": [],\n",
       "                \"waits\": []\n",
       "            }\n",
       "        },\n",
       "        {\n",
       "            \"perm_name\": \"owner\",\n",
       "            \"parent\": \"\",\n",
       "            \"required_auth\": {\n",
       "                \"threshold\": 1,\n",
       "                \"keys\": [\n",
       "                    {\n",
       "                        \"key\": \"EOS7u2gnQzoybz6YZvoi5RY6rMqkbAycDBFEFGhsvHEDmB7tffc2h\",\n",
       "                        \"weight\": 1\n",
       "                    }\n",
       "                ],\n",
       "                \"accounts\": [],\n",
       "                \"waits\": []\n",
       "            }\n",
       "        }\n",
       "    ],\n",
       "    \"total_resources\": {\n",
       "        \"owner\": \"helloworld11\",\n",
       "        \"net_weight\": \"1.0000 UUOS\",\n",
       "        \"cpu_weight\": \"1.0000 UUOS\",\n",
       "        \"ram_bytes\": 65206\n",
       "    },\n",
       "    \"self_delegated_bandwidth\": {\n",
       "        \"from\": \"helloworld11\",\n",
       "        \"to\": \"helloworld11\",\n",
       "        \"net_weight\": \"1.0000 UUOS\",\n",
       "        \"cpu_weight\": \"1.0000 UUOS\"\n",
       "    },\n",
       "    \"refund_request\": null,\n",
       "    \"voter_info\": {\n",
       "        \"owner\": \"helloworld11\",\n",
       "        \"proxy\": \"\",\n",
       "        \"producers\": [],\n",
       "        \"staked\": 20000,\n",
       "        \"last_vote_weight\": \"0.00000000000000000\",\n",
       "        \"proxied_vote_weight\": \"0.00000000000000000\",\n",
       "        \"is_proxy\": 0\n",
       "    }\n",
       "}"
      ]
     },
     "execution_count": 6,
     "metadata": {},
     "output_type": "execute_result"
    }
   ],
   "source": [
    "eosapi.get_account('helloworld11')"
   ]
  },
  {
   "cell_type": "code",
   "execution_count": 4,
   "metadata": {
    "scrolled": true
   },
   "outputs": [
    {
     "name": "stdout",
     "output_type": "stream",
     "text": [
      "done!\n"
     ]
    }
   ],
   "source": [
    "account_name = 'helloworld11'\n",
    "authority = {\n",
    "    \"account\": account_name,\n",
    "    \"permission\": \"active\",\n",
    "    \"parent\": \"owner\",\n",
    "    \"auth\": {\n",
    "        \"threshold\": 1,\n",
    "        \"keys\": [\n",
    "        ],\n",
    "        \"accounts\": [],\n",
    "        \"waits\": []\n",
    "    }\n",
    "}\n",
    "\n",
    "public_keys = ['EOS7u2gnQzoybz6YZvoi5RY6rMqkbAycDBFEFGhsvHEDmB7tffc2h', 'EOS7ent7keWbVgvptfYaMYeF2cenMBiwYKcwEuc11uCbStsFKsrmV',]\n",
    "public_keys.sort()\n",
    "\n",
    "key = {\"key\": public_keys[0], \"weight\": 1}\n",
    "\n",
    "authority['auth']['keys'].append(key)\n",
    "\n",
    "key = {\"key\": public_keys[1], \"weight\": 1}\n",
    "authority['auth']['keys'].append(key)\n",
    "\n",
    "accounts = ['eosio', 'eosio.token']\n",
    "accounts.sort()\n",
    "\n",
    "account = {\"permission\":{\"actor\":accounts[0],\"permission\":\"active\"},\"weight\":1}\n",
    "authority['auth']['accounts'].append(account)\n",
    "\n",
    "account = {\"permission\":{\"actor\":accounts[1],\"permission\":\"active\"},\"weight\":1}\n",
    "authority['auth']['accounts'].append(account)\n",
    "\n",
    "\n",
    "r = eosapi.push_action('eosio', 'updateauth', authority, {account_name:'owner'})\n",
    "print('done!')\n",
    "\n"
   ]
  },
  {
   "cell_type": "code",
   "execution_count": 5,
   "metadata": {
    "scrolled": true
   },
   "outputs": [
    {
     "data": {
      "text/plain": [
       "{\n",
       "    \"account_name\": \"helloworld11\",\n",
       "    \"head_block_num\": 118850,\n",
       "    \"head_block_time\": \"2019-06-12T12:13:17.000\",\n",
       "    \"privileged\": false,\n",
       "    \"last_code_update\": \"2019-06-12T12:13:05.000\",\n",
       "    \"created\": \"2019-06-11T03:42:46.000\",\n",
       "    \"core_liquid_balance\": \"1000000.0000 UUOS\",\n",
       "    \"ram_quota\": 65206,\n",
       "    \"net_weight\": 10000,\n",
       "    \"cpu_weight\": 10000,\n",
       "    \"net_limit\": {\n",
       "        \"used\": 5731,\n",
       "        \"available\": \"181193932794269\",\n",
       "        \"max\": \"181193932800000\"\n",
       "    },\n",
       "    \"cpu_limit\": {\n",
       "        \"used\": 15114,\n",
       "        \"available\": \"34559999984886\",\n",
       "        \"max\": \"34560000000000\"\n",
       "    },\n",
       "    \"ram_usage\": 4204,\n",
       "    \"permissions\": [\n",
       "        {\n",
       "            \"perm_name\": \"active\",\n",
       "            \"parent\": \"owner\",\n",
       "            \"required_auth\": {\n",
       "                \"threshold\": 1,\n",
       "                \"keys\": [\n",
       "                    {\n",
       "                        \"key\": \"EOS7ent7keWbVgvptfYaMYeF2cenMBiwYKcwEuc11uCbStsFKsrmV\",\n",
       "                        \"weight\": 1\n",
       "                    },\n",
       "                    {\n",
       "                        \"key\": \"EOS7u2gnQzoybz6YZvoi5RY6rMqkbAycDBFEFGhsvHEDmB7tffc2h\",\n",
       "                        \"weight\": 1\n",
       "                    }\n",
       "                ],\n",
       "                \"accounts\": [\n",
       "                    {\n",
       "                        \"permission\": {\n",
       "                            \"actor\": \"eosio\",\n",
       "                            \"permission\": \"active\"\n",
       "                        },\n",
       "                        \"weight\": 1\n",
       "                    },\n",
       "                    {\n",
       "                        \"permission\": {\n",
       "                            \"actor\": \"eosio.token\",\n",
       "                            \"permission\": \"active\"\n",
       "                        },\n",
       "                        \"weight\": 1\n",
       "                    }\n",
       "                ],\n",
       "                \"waits\": []\n",
       "            }\n",
       "        },\n",
       "        {\n",
       "            \"perm_name\": \"owner\",\n",
       "            \"parent\": \"\",\n",
       "            \"required_auth\": {\n",
       "                \"threshold\": 1,\n",
       "                \"keys\": [\n",
       "                    {\n",
       "                        \"key\": \"EOS7u2gnQzoybz6YZvoi5RY6rMqkbAycDBFEFGhsvHEDmB7tffc2h\",\n",
       "                        \"weight\": 1\n",
       "                    }\n",
       "                ],\n",
       "                \"accounts\": [],\n",
       "                \"waits\": []\n",
       "            }\n",
       "        }\n",
       "    ],\n",
       "    \"total_resources\": {\n",
       "        \"owner\": \"helloworld11\",\n",
       "        \"net_weight\": \"1.0000 UUOS\",\n",
       "        \"cpu_weight\": \"1.0000 UUOS\",\n",
       "        \"ram_bytes\": 65206\n",
       "    },\n",
       "    \"self_delegated_bandwidth\": {\n",
       "        \"from\": \"helloworld11\",\n",
       "        \"to\": \"helloworld11\",\n",
       "        \"net_weight\": \"1.0000 UUOS\",\n",
       "        \"cpu_weight\": \"1.0000 UUOS\"\n",
       "    },\n",
       "    \"refund_request\": null,\n",
       "    \"voter_info\": {\n",
       "        \"owner\": \"helloworld11\",\n",
       "        \"proxy\": \"\",\n",
       "        \"producers\": [],\n",
       "        \"staked\": 20000,\n",
       "        \"last_vote_weight\": \"0.00000000000000000\",\n",
       "        \"proxied_vote_weight\": \"0.00000000000000000\",\n",
       "        \"is_proxy\": 0\n",
       "    }\n",
       "}"
      ]
     },
     "execution_count": 5,
     "metadata": {},
     "output_type": "execute_result"
    }
   ],
   "source": [
    "eosapi.get_account('helloworld11')"
   ]
  },
  {
   "cell_type": "markdown",
   "metadata": {},
   "source": [
    "# has_auth"
   ]
  },
  {
   "cell_type": "code",
   "execution_count": 8,
   "metadata": {},
   "outputs": [
    {
     "name": "stdout",
     "output_type": "stream",
     "text": [
      "True\n",
      "False\n",
      "False\n",
      "\n"
     ]
    }
   ],
   "source": [
    "code = '''\n",
    "def apply(receiver, code, action):\n",
    "    print(has_auth(receiver))\n",
    "    print(has_auth('test11111111'))\n",
    "    print(has_auth('eosio'))\n",
    "'''\n",
    "\n",
    "run_test_code(code)\n"
   ]
  },
  {
   "cell_type": "markdown",
   "metadata": {},
   "source": [
    "# require_auth/require_auth2"
   ]
  },
  {
   "cell_type": "code",
   "execution_count": 9,
   "metadata": {},
   "outputs": [
    {
     "name": "stdout",
     "output_type": "stream",
     "text": [
      "done!\n",
      "\n"
     ]
    }
   ],
   "source": [
    "code = '''\n",
    "def apply(receiver, code, action):\n",
    "#    require_auth('eosio')\n",
    "    require_auth2('helloworld11', 'active')\n",
    "    print('done!')\n",
    "'''\n",
    "\n",
    "abi = ''\n",
    "account_name = 'helloworld11'\n",
    "publish_contract(account_name, code, abi)\n",
    "try:\n",
    "    r = eosapi.push_action(account_name, 'sayhello', b'hello,world', {account_name:'active'})\n",
    "    print(r['processed']['action_traces'][0]['console'])\n",
    "except Exception as e:\n",
    "    print(e)"
   ]
  },
  {
   "cell_type": "code",
   "execution_count": 13,
   "metadata": {},
   "outputs": [
    {
     "data": {
      "text/plain": [
       "{\n",
       "    \"account_name\": \"helloworld11\",\n",
       "    \"head_block_num\": 115292,\n",
       "    \"head_block_time\": \"2019-06-12T11:43:38.000\",\n",
       "    \"privileged\": false,\n",
       "    \"last_code_update\": \"2019-06-12T11:26:39.000\",\n",
       "    \"created\": \"2019-06-11T03:42:46.000\",\n",
       "    \"core_liquid_balance\": \"1000000.0000 UUOS\",\n",
       "    \"ram_quota\": 65206,\n",
       "    \"net_weight\": 10000,\n",
       "    \"cpu_weight\": 10000,\n",
       "    \"net_limit\": {\n",
       "        \"used\": 3554,\n",
       "        \"available\": \"181193932796446\",\n",
       "        \"max\": \"181193932800000\"\n",
       "    },\n",
       "    \"cpu_limit\": {\n",
       "        \"used\": 11199,\n",
       "        \"available\": \"34559999988801\",\n",
       "        \"max\": \"34560000000000\"\n",
       "    },\n",
       "    \"ram_usage\": 4190,\n",
       "    \"permissions\": [\n",
       "        {\n",
       "            \"perm_name\": \"active\",\n",
       "            \"parent\": \"owner\",\n",
       "            \"required_auth\": {\n",
       "                \"threshold\": 1,\n",
       "                \"keys\": [\n",
       "                    {\n",
       "                        \"key\": \"EOS7ent7keWbVgvptfYaMYeF2cenMBiwYKcwEuc11uCbStsFKsrmV\",\n",
       "                        \"weight\": 1\n",
       "                    },\n",
       "                    {\n",
       "                        \"key\": \"EOS7u2gnQzoybz6YZvoi5RY6rMqkbAycDBFEFGhsvHEDmB7tffc2h\",\n",
       "                        \"weight\": 1\n",
       "                    }\n",
       "                ],\n",
       "                \"accounts\": [\n",
       "                    {\n",
       "                        \"permission\": {\n",
       "                            \"actor\": \"eosio\",\n",
       "                            \"permission\": \"active\"\n",
       "                        },\n",
       "                        \"weight\": 1\n",
       "                    },\n",
       "                    {\n",
       "                        \"permission\": {\n",
       "                            \"actor\": \"eosio.token\",\n",
       "                            \"permission\": \"active\"\n",
       "                        },\n",
       "                        \"weight\": 1\n",
       "                    }\n",
       "                ],\n",
       "                \"waits\": []\n",
       "            }\n",
       "        },\n",
       "        {\n",
       "            \"perm_name\": \"owner\",\n",
       "            \"parent\": \"\",\n",
       "            \"required_auth\": {\n",
       "                \"threshold\": 1,\n",
       "                \"keys\": [\n",
       "                    {\n",
       "                        \"key\": \"EOS7u2gnQzoybz6YZvoi5RY6rMqkbAycDBFEFGhsvHEDmB7tffc2h\",\n",
       "                        \"weight\": 1\n",
       "                    }\n",
       "                ],\n",
       "                \"accounts\": [],\n",
       "                \"waits\": []\n",
       "            }\n",
       "        }\n",
       "    ],\n",
       "    \"total_resources\": {\n",
       "        \"owner\": \"helloworld11\",\n",
       "        \"net_weight\": \"1.0000 UUOS\",\n",
       "        \"cpu_weight\": \"1.0000 UUOS\",\n",
       "        \"ram_bytes\": 65206\n",
       "    },\n",
       "    \"self_delegated_bandwidth\": {\n",
       "        \"from\": \"helloworld11\",\n",
       "        \"to\": \"helloworld11\",\n",
       "        \"net_weight\": \"1.0000 UUOS\",\n",
       "        \"cpu_weight\": \"1.0000 UUOS\"\n",
       "    },\n",
       "    \"refund_request\": null,\n",
       "    \"voter_info\": {\n",
       "        \"owner\": \"helloworld11\",\n",
       "        \"proxy\": \"\",\n",
       "        \"producers\": [],\n",
       "        \"staked\": 20000,\n",
       "        \"last_vote_weight\": \"0.00000000000000000\",\n",
       "        \"proxied_vote_weight\": \"0.00000000000000000\",\n",
       "        \"is_proxy\": 0\n",
       "    }\n",
       "}"
      ]
     },
     "execution_count": 13,
     "metadata": {},
     "output_type": "execute_result"
    }
   ],
   "source": [
    "eosapi.get_account('helloworld11')"
   ]
  },
  {
   "cell_type": "code",
   "execution_count": 22,
   "metadata": {},
   "outputs": [
    {
     "data": {
      "text/plain": [
       "['EOS7ent7keWbVgvptfYaMYeF2cenMBiwYKcwEuc11uCbStsFKsrmV',\n",
       " 'EOS7u2gnQzoybz6YZvoi5RY6rMqkbAycDBFEFGhsvHEDmB7tffc2h']"
      ]
     },
     "execution_count": 22,
     "metadata": {},
     "output_type": "execute_result"
    }
   ],
   "source": [
    "eosapi.get_available_public_keys('helloworld11', 'active')"
   ]
  },
  {
   "cell_type": "code",
   "execution_count": 25,
   "metadata": {},
   "outputs": [
    {
     "data": {
      "text/plain": [
       "'/Users/newworld/anaconda3/lib/python3.7/site-packages/pyeoskit/__init__.py'"
      ]
     },
     "execution_count": 25,
     "metadata": {},
     "output_type": "execute_result"
    }
   ],
   "source": [
    "import pyeoskit\n",
    "pyeoskit.__file__"
   ]
  }
 ],
 "metadata": {
  "kernelspec": {
   "display_name": "Python 3",
   "language": "python",
   "name": "python3"
  },
  "language_info": {
   "codemirror_mode": {
    "name": "ipython",
    "version": 3
   },
   "file_extension": ".py",
   "mimetype": "text/x-python",
   "name": "python",
   "nbconvert_exporter": "python",
   "pygments_lexer": "ipython3",
   "version": "3.7.3"
  }
 },
 "nbformat": 4,
 "nbformat_minor": 2
}
