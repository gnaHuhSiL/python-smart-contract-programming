{
 "cells": [
  {
   "cell_type": "code",
   "execution_count": 2,
   "metadata": {},
   "outputs": [],
   "source": [
    "from inittest import abi, publish_contract"
   ]
  },
  {
   "cell_type": "markdown",
   "metadata": {},
   "source": [
    "pythonvm内置一些常用的函数，这里一一作下介绍"
   ]
  },
  {
   "cell_type": "markdown",
   "metadata": {},
   "source": [
    "# s2n, n2s, N"
   ]
  },
  {
   "cell_type": "markdown",
   "metadata": {},
   "source": [
    "s2n把字符串转成uint64_t类型， n2s, N的功能一样，都是把uint64_t类型转换成字符串，\n",
    "注意这里的N是一个函数，参数是一个字符串，不要和C++里面的宏`N`混淆了，C++里的`N`是不用带\"\"的\n"
   ]
  },
  {
   "cell_type": "markdown",
   "metadata": {},
   "source": [
    "接下来看示例："
   ]
  },
  {
   "cell_type": "code",
   "execution_count": 6,
   "metadata": {},
   "outputs": [
    {
     "name": "stdout",
     "output_type": "stream",
     "text": [
      "helloworld12 helloworld12 sayhello \n",
      "True \n",
      "True \n",
      "\n"
     ]
    }
   ],
   "source": [
    "code = '''\n",
    "import struct\n",
    "def apply(receiver, code, action):\n",
    "    print(n2s(receiver), n2s(code), n2s(action))\n",
    "    print(n2s(receiver) == 'helloworld12')\n",
    "    print(N('helloworld12') == receiver)\n",
    "'''\n",
    "name = 'helloworld12'\n",
    "publish_contract(name, code, abi)\n",
    "try:\n",
    "    r = eosapi.push_action(name, 'sayhello', b'hello,world', {name:'active'})\n",
    "    print(r['processed']['action_traces'][0]['console'])\n",
    "except Exception as e:\n",
    "    print(e)"
   ]
  },
  {
   "cell_type": "markdown",
   "metadata": {},
   "source": [
    "用法很简单，不多作解释"
   ]
  },
  {
   "cell_type": "markdown",
   "metadata": {},
   "source": [
    "# current_receiver\n",
    "获取当前的receiver"
   ]
  },
  {
   "cell_type": "code",
   "execution_count": 8,
   "metadata": {},
   "outputs": [
    {
     "name": "stdout",
     "output_type": "stream",
     "text": [
      "True \n",
      "\n"
     ]
    }
   ],
   "source": [
    "code = '''\n",
    "import struct\n",
    "def apply(receiver, code, action):\n",
    "    print(receiver == current_receiver())\n",
    "'''\n",
    "name = 'helloworld12'\n",
    "publish_contract(name, code, abi)\n",
    "try:\n",
    "    r = eosapi.push_action(name, 'sayhello', b'hello,world', {name:'active'})\n",
    "    print(r['processed']['action_traces'][0]['console'])\n",
    "except Exception as e:\n",
    "    print(e)"
   ]
  },
  {
   "cell_type": "markdown",
   "metadata": {},
   "source": [
    "# read_action_data"
   ]
  },
  {
   "cell_type": "markdown",
   "metadata": {},
   "source": [
    "获取action的data字段"
   ]
  },
  {
   "cell_type": "code",
   "execution_count": 10,
   "metadata": {},
   "outputs": [
    {
     "name": "stdout",
     "output_type": "stream",
     "text": [
      "b'hello,world' \n",
      "\n"
     ]
    }
   ],
   "source": [
    "code = '''\n",
    "import struct\n",
    "def apply(receiver, code, action):\n",
    "    print(read_action_data())\n",
    "    print(is_account('test11111111'))\n",
    "'''\n",
    "name = 'helloworld12'\n",
    "publish_contract(name, code, abi)\n",
    "try:\n",
    "    r = eosapi.push_action(name, 'sayhello', b'hello,world', {name:'active'})\n",
    "    print(r['processed']['action_traces'][0]['console'])\n",
    "except Exception as e:\n",
    "    print(e)"
   ]
  },
  {
   "cell_type": "markdown",
   "metadata": {},
   "source": [
    "# is_account"
   ]
  }
 ],
 "metadata": {
  "kernelspec": {
   "display_name": "Python 3",
   "language": "python",
   "name": "python3"
  },
  "language_info": {
   "codemirror_mode": {
    "name": "ipython",
    "version": 3
   },
   "file_extension": ".py",
   "mimetype": "text/x-python",
   "name": "python",
   "nbconvert_exporter": "python",
   "pygments_lexer": "ipython3",
   "version": "3.7.3"
  }
 },
 "nbformat": 4,
 "nbformat_minor": 2
}
