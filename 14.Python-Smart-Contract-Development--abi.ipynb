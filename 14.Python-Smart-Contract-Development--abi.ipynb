{
 "cells": [
  {
   "cell_type": "code",
   "execution_count": 2,
   "metadata": {},
   "outputs": [],
   "source": [
    "from pyeoskit._hello import _eosapi"
   ]
  },
  {
   "cell_type": "markdown",
   "metadata": {},
   "source": [
    "```\n",
    "_eosapi.unpack_args\n",
    "_eosapi.pack_args\n",
    "```"
   ]
  },
  {
   "cell_type": "markdown",
   "metadata": {},
   "source": [
    "# string"
   ]
  },
  {
   "cell_type": "code",
   "execution_count": 39,
   "metadata": {},
   "outputs": [
    {
     "name": "stdout",
     "output_type": "stream",
     "text": [
      "b'\\x80\\x01aaaaaaaaaaaaaaaaaaaaaaaaaaaaaaaaaaaaaaaaaaaaaaaaaaaaaaaaaaaaaaaaaaaaaaaaaaaaaaaaaaaaaaaaaaaaaaaaaaaaaaaaaaaaaaaaaaaaaaaaaaaaaaaa'\n",
      "{'worlds': 'aaaaaaaaaaaaaaaaaaaaaaaaaaaaaaaaaaaaaaaaaaaaaaaaaaaaaaaaaaaaaaaaaaaaaaaaaaaaaaaaaaaaaaaaaaaaaaaaaaaaaaaaaaaaaaaaaaaaaaaaaaaaaaaa'}\n"
     ]
    }
   ],
   "source": [
    "\n",
    "abi = '''\n",
    "{\n",
    "   \"version\": \"eosio::abi/1.0\",\n",
    "   \"types\": [],\n",
    "  \"structs\": [{\n",
    "      \"name\": \"sayhello\",\n",
    "      \"base\": \"\",\n",
    "      \"fields\": [\n",
    "        {\"name\":\"worlds\", \"type\":\"string\"},\n",
    "      ]\n",
    "    }\n",
    "  ],\n",
    "  \"actions\": [{\n",
    "      \"name\": \"sayhello\",\n",
    "      \"type\": \"sayhello\",\n",
    "      \"ricardian_contract\": \"\"\n",
    "    }\n",
    "  ],\n",
    "  \"tables\": [\n",
    "  ]\n",
    "}\n",
    "'''\n",
    "args = {'worlds':'a'*128}\n",
    "packed_args = _eosapi.pack_args(abi, 'sayhello', args)\n",
    "print(packed_args)\n",
    "args = _eosapi.unpack_args(abi, 'sayhello', packed_args)\n",
    "print(args)"
   ]
  },
  {
   "cell_type": "code",
   "execution_count": null,
   "metadata": {},
   "outputs": [],
   "source": []
  },
  {
   "cell_type": "markdown",
   "metadata": {},
   "source": [
    "# bytes"
   ]
  },
  {
   "cell_type": "code",
   "execution_count": 40,
   "metadata": {},
   "outputs": [
    {
     "name": "stdout",
     "output_type": "stream",
     "text": [
      "68656c6c6f2c776f726c64\n",
      "b'\\x0bhello,world'\n"
     ]
    }
   ],
   "source": [
    "abi = '''\n",
    "{\n",
    "   \"version\": \"eosio::abi/1.0\",\n",
    "   \"types\": [],\n",
    "  \"structs\": [{\n",
    "      \"name\": \"sayhello\",\n",
    "      \"base\": \"\",\n",
    "      \"fields\": [\n",
    "        {\"name\":\"worlds\", \"type\":\"bytes\"},\n",
    "      ]\n",
    "    }\n",
    "  ],\n",
    "  \"actions\": [{\n",
    "      \"name\": \"sayhello\",\n",
    "      \"type\": \"sayhello\",\n",
    "      \"ricardian_contract\": \"\"\n",
    "    }\n",
    "  ],\n",
    "  \"tables\": [\n",
    "  ]\n",
    "}\n",
    "'''\n",
    "print(bytes.hex(b'hello,world'))\n",
    "args = {'worlds':bytes.hex(b'hello,world')}\n",
    "packed_args = _eosapi.pack_args(abi, 'sayhello', args)\n",
    "print(packed_args)"
   ]
  },
  {
   "cell_type": "markdown",
   "metadata": {},
   "source": [
    "# array"
   ]
  },
  {
   "cell_type": "code",
   "execution_count": 43,
   "metadata": {},
   "outputs": [
    {
     "name": "stdout",
     "output_type": "stream",
     "text": [
      "b'\\x02\\x0bhello,world\\x05hello'\n",
      "{'worlds': ['hello,world', 'hello']}\n"
     ]
    }
   ],
   "source": [
    "abi = '''\n",
    "{\n",
    "   \"version\": \"eosio::abi/1.0\",\n",
    "   \"types\": [],\n",
    "  \"structs\": [{\n",
    "      \"name\": \"sayhello\",\n",
    "      \"base\": \"\",\n",
    "      \"fields\": [\n",
    "        {\"name\":\"worlds\", \"type\":\"string[]\"},\n",
    "      ]\n",
    "    }\n",
    "  ],\n",
    "  \"actions\": [{\n",
    "      \"name\": \"sayhello\",\n",
    "      \"type\": \"sayhello\",\n",
    "      \"ricardian_contract\": \"\"\n",
    "    }\n",
    "  ],\n",
    "  \"tables\": [\n",
    "  ]\n",
    "}\n",
    "'''\n",
    "args = {'worlds':['hello,world', 'hello']}\n",
    "packed_args = _eosapi.pack_args(abi, 'sayhello', args)\n",
    "print(packed_args)\n",
    "args = _eosapi.unpack_args(abi, 'sayhello', packed_args)\n",
    "print(args)\n"
   ]
  },
  {
   "cell_type": "markdown",
   "metadata": {},
   "source": [
    "# symbol"
   ]
  },
  {
   "cell_type": "code",
   "execution_count": 47,
   "metadata": {},
   "outputs": [
    {
     "name": "stdout",
     "output_type": "stream",
     "text": [
      "b'\\x04SSSSSSS'\n",
      "{'test': '4,SSSSSSS'}\n"
     ]
    }
   ],
   "source": [
    "abi = '''\n",
    "{\n",
    "   \"version\": \"eosio::abi/1.0\",\n",
    "   \"types\": [],\n",
    "  \"structs\": [{\n",
    "      \"name\": \"test\",\n",
    "      \"base\": \"\",\n",
    "      \"fields\": [\n",
    "        {\"name\":\"test\", \"type\":\"symbol\"},\n",
    "      ]\n",
    "    }\n",
    "  ],\n",
    "  \"actions\": [{\n",
    "      \"name\": \"test\",\n",
    "      \"type\": \"test\",\n",
    "      \"ricardian_contract\": \"\"\n",
    "    }\n",
    "  ],\n",
    "  \"tables\": [\n",
    "  ]\n",
    "}\n",
    "'''\n",
    "args = {'test':'4,SSSSSSS'}\n",
    "packed_args = _eosapi.pack_args(abi, 'test', args)\n",
    "print(packed_args)\n",
    "print(_eosapi.unpack_args(abi, 'test', packed_args))"
   ]
  },
  {
   "cell_type": "markdown",
   "metadata": {},
   "source": [
    "# asset\n",
    "```c++\n",
    "struct asset {\n",
    "  int64_t      amount;\n",
    "  symbol_type  symbol;\n",
    "}\n",
    "```"
   ]
  },
  {
   "cell_type": "code",
   "execution_count": 50,
   "metadata": {},
   "outputs": [
    {
     "name": "stdout",
     "output_type": "stream",
     "text": [
      "b'@B\\x0f\\x00\\x00\\x00\\x00\\x00\\x04SYS\\x00\\x00\\x00\\x00'\n",
      "{'test': '100.0000 SYS'}\n"
     ]
    }
   ],
   "source": [
    "abi = '''\n",
    "{\n",
    "   \"version\": \"eosio::abi/1.0\",\n",
    "   \"types\": [],\n",
    "  \"structs\": [{\n",
    "      \"name\": \"test\",\n",
    "      \"base\": \"\",\n",
    "      \"fields\": [\n",
    "        {\"name\":\"test\", \"type\":\"asset\"},\n",
    "      ]\n",
    "    }\n",
    "  ],\n",
    "  \"actions\": [{\n",
    "      \"name\": \"test\",\n",
    "      \"type\": \"test\",\n",
    "      \"ricardian_contract\": \"\"\n",
    "    }\n",
    "  ],\n",
    "  \"tables\": [\n",
    "  ]\n",
    "}\n",
    "'''\n",
    "args = {'test':'100.0000 SYS'}\n",
    "packed_args = _eosapi.pack_args(abi, 'test', args)\n",
    "print(packed_args)\n",
    "args = _eosapi.unpack_args(abi, 'test', packed_args)\n",
    "print(args)\n"
   ]
  },
  {
   "cell_type": "code",
   "execution_count": 52,
   "metadata": {},
   "outputs": [
    {
     "name": "stdout",
     "output_type": "stream",
     "text": [
      "b'\\x00\\x00\\x00\\x00\\x00\\xea0U\\x00\\xa6\\x824\\x03\\xea0U@B\\x0f\\x00\\x00\\x00\\x00\\x00\\x04UUOS\\x00\\x00\\x00\\x0bhello,world'\n",
      "{'from': 'eosio', 'to': 'eosio.token', 'quantity': '100.0000 UUOS', 'memo': 'hello,world'}\n"
     ]
    }
   ],
   "source": [
    "abi = '''\n",
    "{\n",
    "   \"version\": \"eosio::abi/1.0\",\n",
    "   \"types\": [{\n",
    "      \"new_type_name\": \"account_name\",\n",
    "      \"type\": \"name\"\n",
    "   }],\n",
    "  \"structs\": [{\n",
    "      \"name\": \"transfer\",\n",
    "      \"base\": \"\",\n",
    "      \"fields\": [\n",
    "        {\"name\":\"from\", \"type\":\"account_name\"},\n",
    "        {\"name\":\"to\", \"type\":\"account_name\"},\n",
    "        {\"name\":\"quantity\", \"type\":\"asset\"},\n",
    "        {\"name\":\"memo\", \"type\":\"string\"}\n",
    "      ]\n",
    "    }\n",
    "  ],\n",
    "  \"actions\": [{\n",
    "      \"name\": \"transfer\",\n",
    "      \"type\": \"transfer\",\n",
    "      \"ricardian_contract\": \"\"\n",
    "    }\n",
    "  ],\n",
    "  \"tables\": [\n",
    "  ],\n",
    "  \"ricardian_clauses\": [],\n",
    "  \"abi_extensions\": []\n",
    "}\n",
    "'''\n",
    "args = {'from':'eosio', 'to':'eosio.token', 'quantity':'100.0000 UUOS', 'memo':'hello,world'}\n",
    "packed_args = _eosapi.pack_args(abi, 'transfer', args)\n",
    "print(packed_args)\n",
    "args = _eosapi.unpack_args(abi, 'transfer', packed_args)\n",
    "print(args)"
   ]
  },
  {
   "cell_type": "code",
   "execution_count": null,
   "metadata": {},
   "outputs": [],
   "source": []
  },
  {
   "cell_type": "markdown",
   "metadata": {},
   "source": [
    "# float64"
   ]
  },
  {
   "cell_type": "code",
   "execution_count": 27,
   "metadata": {},
   "outputs": [
    {
     "name": "stdout",
     "output_type": "stream",
     "text": [
      "b'\\x00\\x00\\x00\\x00\\x00\\x90g@'\n",
      "{'test': '188.50000000000000000'}\n"
     ]
    }
   ],
   "source": [
    "abi = '''{\n",
    "   \"version\": \"eosio::abi/1.0\",\n",
    "   \"types\": [],\n",
    "  \"structs\": [{\n",
    "      \"name\": \"test\",\n",
    "      \"base\": \"\",\n",
    "      \"fields\": [\n",
    "        {\"name\":\"test\", \"type\":\"float64\"},\n",
    "      ]\n",
    "    }\n",
    "  ],\n",
    "  \"actions\": [{\n",
    "      \"name\": \"test\",\n",
    "      \"type\": \"test\",\n",
    "      \"ricardian_contract\": \"\"\n",
    "    }\n",
    "  ],\n",
    "  \"tables\": [\n",
    "  ]\n",
    "}\n",
    "'''\n",
    "args = {'test':188.5}\n",
    "packed_args = _eosapi.pack_args(abi, 'test', args)\n",
    "print(packed_args)\n",
    "args = _eosapi.unpack_args(abi, 'test', packed_args)\n",
    "print(args)"
   ]
  },
  {
   "cell_type": "markdown",
   "metadata": {},
   "source": [
    "# public_key"
   ]
  },
  {
   "cell_type": "code",
   "execution_count": 3,
   "metadata": {},
   "outputs": [
    {
     "name": "stdout",
     "output_type": "stream",
     "text": [
      "b'\\x00\\x03k\\xfc\\\\\\xc1\\xe9!V%\\xa2\\xf2_\\xd1\\x01<\\xden{\\x9do)GS\\xcc\\xe4\\x98\\xf5u\\xa2\\xe74\\xa7\\x00'\n",
      "{'test': 'EOS7ent7keWbVgvptfYaMYeF2cenMBiwYKcwEuc11uCbStsFKsrmV'}\n"
     ]
    }
   ],
   "source": [
    "abi = '''\n",
    "{\n",
    "   \"version\": \"eosio::abi/1.0\",\n",
    "   \"types\": [],\n",
    "  \"structs\": [{\n",
    "      \"name\": \"test\",\n",
    "      \"base\": \"\",\n",
    "      \"fields\": [\n",
    "        {\"name\":\"test\", \"type\":\"public_key\"},\n",
    "      ]\n",
    "    }\n",
    "  ],\n",
    "  \"actions\": [{\n",
    "      \"name\": \"test\",\n",
    "      \"type\": \"test\",\n",
    "      \"ricardian_contract\": \"\"\n",
    "    }\n",
    "  ],\n",
    "  \"tables\": [\n",
    "  ]\n",
    "}\n",
    "'''\n",
    "args = {'test':'EOS7ent7keWbVgvptfYaMYeF2cenMBiwYKcwEuc11uCbStsFKsrmV'}\n",
    "packed_args = _eosapi.pack_args(abi, 'test', args)\n",
    "print(packed_args)\n",
    "args = _eosapi.unpack_args(abi, 'test', packed_args)\n",
    "print(args)"
   ]
  },
  {
   "cell_type": "markdown",
   "metadata": {},
   "source": [
    "# signature"
   ]
  },
  {
   "cell_type": "code",
   "execution_count": 33,
   "metadata": {},
   "outputs": [
    {
     "name": "stdout",
     "output_type": "stream",
     "text": [
      "b'\\x00\\x1f+v\\x98\\x0c\\x1b\\x84\\x91\\xa4:\\xc2b\\xa2q\\xeb)\\xd3\\x8f\\x89\\x8cm\\x1d\\x9a\\xd7\\xc2o\\xa4\\x03\\xe2K>\\xc5,\\x06-\\xbf\\xd5i#\\xfb\\xb4|Q\\xf8:\\x9dtN\\x83\\xab\\x88JJ\\xac\\nPh\\xcc\\xa5\\xe0\\xb15$\\x9b\\xcd'\n",
      "{'test': 'SIG_K1_JzwaU4Zf1ZzyRDsg5EtoThjqtECKMcKozDTHwEtBpqoCQAYu1JnZXSTc7Tjpb1AzLNxu8gCXRrHYhLgz7v9M2iu3Th8Qow'}\n"
     ]
    }
   ],
   "source": [
    "import os\n",
    "from pyeoskit import wallet\n",
    "if os.path.exists('testabi.wallet'):\n",
    "    os.remove('testabi.wallet')\n",
    "psw = wallet.create('testabi')\n",
    "wallet.import_key('testabi', '5KH8vwQkP4QoTwgBtCV5ZYhKmv8mx56WeNrw9AZuhNRXTrPzgYc')\n",
    "\n",
    "abi = '''\n",
    "{\n",
    "   \"version\": \"eosio::abi/1.0\",\n",
    "   \"types\": [],\n",
    "  \"structs\": [{\n",
    "      \"name\": \"test\",\n",
    "      \"base\": \"\",\n",
    "      \"fields\": [\n",
    "        {\"name\":\"test\", \"type\":\"signature\"},\n",
    "      ]\n",
    "    }\n",
    "  ],\n",
    "  \"actions\": [{\n",
    "      \"name\": \"test\",\n",
    "      \"type\": \"test\",\n",
    "      \"ricardian_contract\": \"\"\n",
    "    }\n",
    "  ],\n",
    "  \"tables\": [\n",
    "  ]\n",
    "}\n",
    "'''\n",
    "import hashlib\n",
    "h = hashlib.sha256()\n",
    "h.update(b'hello,world')\n",
    "digest = h.digest()\n",
    "digest = wallet.sign_digest(digest, 'EOS7ent7keWbVgvptfYaMYeF2cenMBiwYKcwEuc11uCbStsFKsrmV')\n",
    "args = {'test':digest}\n",
    "packed_args = _eosapi.pack_args(abi, 'test', args)\n",
    "print(packed_args)\n",
    "args = _eosapi.unpack_args(abi, 'test', packed_args)\n",
    "print(args)\n"
   ]
  },
  {
   "cell_type": "code",
   "execution_count": 9,
   "metadata": {},
   "outputs": [
    {
     "data": {
      "text/plain": [
       "b'\\x03k\\xfc\\\\\\xc1\\xe9!V%\\xa2\\xf2_\\xd1\\x01<\\xden{\\x9do)GS\\xcc\\xe4\\x98\\xf5u\\xa2\\xe74\\xa7\\x00O}\\xcc\\xa8'"
      ]
     },
     "execution_count": 9,
     "metadata": {},
     "output_type": "execute_result"
    }
   ],
   "source": [
    "import base58\n",
    "dir(base58)\n",
    "base58.b58decode('7ent7keWbVgvptfYaMYeF2cenMBiwYKcwEuc11uCbStsFKsrmV')"
   ]
  },
  {
   "cell_type": "markdown",
   "metadata": {},
   "source": [
    "# checksum160"
   ]
  },
  {
   "cell_type": "code",
   "execution_count": 15,
   "metadata": {},
   "outputs": [
    {
     "name": "stdout",
     "output_type": "stream",
     "text": [
      "b'\\xaa\\xf4\\xc6\\x1d\\xdc\\xc5\\xe8\\xa2\\xda\\xbe\\xde\\x0f;H,\\xd9\\xae\\xa9CM'\n",
      "{'test': 'aaf4c61ddcc5e8a2dabede0f3b482cd9aea9434d'}\n"
     ]
    }
   ],
   "source": [
    "abi = '''\n",
    "{\n",
    "   \"version\": \"eosio::abi/1.0\",\n",
    "   \"types\": [],\n",
    "  \"structs\": [{\n",
    "      \"name\": \"test\",\n",
    "      \"base\": \"\",\n",
    "      \"fields\": [\n",
    "        {\"name\":\"test\", \"type\":\"checksum160\"},\n",
    "      ]\n",
    "    }\n",
    "  ],\n",
    "  \"actions\": [{\n",
    "      \"name\": \"test\",\n",
    "      \"type\": \"test\",\n",
    "      \"ricardian_contract\": \"\"\n",
    "    }\n",
    "  ],\n",
    "  \"tables\": [\n",
    "  ]\n",
    "}\n",
    "'''\n",
    "import hashlib\n",
    "h = hashlib.sha1()\n",
    "h.update(b'hello')\n",
    "digest = h.hexdigest()\n",
    "args = {'test': digest}\n",
    "packed_args = _eosapi.pack_args(abi, 'test', args)\n",
    "print(packed_args)\n",
    "args = _eosapi.unpack_args(abi, 'test', packed_args)\n",
    "print(args)"
   ]
  },
  {
   "cell_type": "markdown",
   "metadata": {},
   "source": [
    "# checksum256"
   ]
  },
  {
   "cell_type": "code",
   "execution_count": 14,
   "metadata": {},
   "outputs": [
    {
     "name": "stdout",
     "output_type": "stream",
     "text": [
      "b',\\xf2M\\xba_\\xb0\\xa3\\x0e&\\xe8;*\\xc5\\xb9\\xe2\\x9e\\x1b\\x16\\x1e\\\\\\x1f\\xa7B^s\\x043b\\x93\\x8b\\x98$'\n",
      "{'test': '2cf24dba5fb0a30e26e83b2ac5b9e29e1b161e5c1fa7425e73043362938b9824'}\n"
     ]
    }
   ],
   "source": [
    "abi = '''\n",
    "{\n",
    "   \"version\": \"eosio::abi/1.0\",\n",
    "   \"types\": [],\n",
    "  \"structs\": [{\n",
    "      \"name\": \"test\",\n",
    "      \"base\": \"\",\n",
    "      \"fields\": [\n",
    "        {\"name\":\"test\", \"type\":\"checksum256\"},\n",
    "      ]\n",
    "    }\n",
    "  ],\n",
    "  \"actions\": [{\n",
    "      \"name\": \"test\",\n",
    "      \"type\": \"test\",\n",
    "      \"ricardian_contract\": \"\"\n",
    "    }\n",
    "  ],\n",
    "  \"tables\": [\n",
    "  ]\n",
    "}\n",
    "'''\n",
    "import hashlib\n",
    "h = hashlib.sha256()\n",
    "h.update(b'hello')\n",
    "digest = h.hexdigest()\n",
    "args = {'test':digest}\n",
    "packed_args = _eosapi.pack_args(abi, 'test', args)\n",
    "print(packed_args)\n",
    "args = _eosapi.unpack_args(abi, 'test', packed_args)\n",
    "print(args)"
   ]
  },
  {
   "cell_type": "code",
   "execution_count": null,
   "metadata": {},
   "outputs": [],
   "source": []
  }
 ],
 "metadata": {
  "kernelspec": {
   "display_name": "Python 3",
   "language": "python",
   "name": "python3"
  },
  "language_info": {
   "codemirror_mode": {
    "name": "ipython",
    "version": 3
   },
   "file_extension": ".py",
   "mimetype": "text/x-python",
   "name": "python",
   "nbconvert_exporter": "python",
   "pygments_lexer": "ipython3",
   "version": "3.7.3"
  }
 },
 "nbformat": 4,
 "nbformat_minor": 2
}
