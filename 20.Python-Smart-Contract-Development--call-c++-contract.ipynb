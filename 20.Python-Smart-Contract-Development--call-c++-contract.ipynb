{
 "cells": [
  {
   "cell_type": "code",
   "execution_count": 25,
   "metadata": {},
   "outputs": [
    {
     "name": "stdout",
     "output_type": "stream",
     "text": [
      "done!\n"
     ]
    }
   ],
   "source": [
    "import os\n",
    "import hashlib\n",
    "import marshal\n",
    "from pyeoskit import eosapi, wallet, db\n",
    "from pyeoskit import config\n",
    "from pyeoskit._hello import _eosapi\n",
    "\n",
    "db.reset()\n",
    "config.main_token = 'UUOS'\n",
    "\n",
    "if os.path.exists('test.wallet'):\n",
    "    os.remove('test.wallet')\n",
    "psw = wallet.create('test')\n",
    "\n",
    "wallet.import_key('test', '5KH8vwQkP4QoTwgBtCV5ZYhKmv8mx56WeNrw9AZuhNRXTrPzgYc')\n",
    "wallet.import_key('test', '5JMXaLz5xnVvwrnvAGaZKQZFCDdeU6wjmuJY1rDnXiUZz7Gyi1o')\n",
    "\n",
    "def publish_contract(account_name, code, abi):\n",
    "    m = hashlib.sha256()\n",
    "    code = compile(code, \"contract\", 'exec')\n",
    "    code = marshal.dumps(code)\n",
    "    m.update(code)\n",
    "    code_hash = m.hexdigest()\n",
    "    r = eosapi.get_code(account_name)\n",
    "    if code_hash != r['code_hash']:\n",
    "        eosapi.set_contract(account_name, code, abi, 1)\n",
    "    return True\n",
    "\n",
    "#eosapi.set_nodes(['https://nodes.uuos.network:8443'])\n",
    "eosapi.set_nodes(['http://127.0.0.1:8888'])\n",
    "\n",
    "def run_test_code(code, account_name='helloworld11'):\n",
    "    publish_contract(account_name, code, abi)\n",
    "    try:\n",
    "        r = eosapi.push_action(account_name, 'sayhello', b'hello,world', {account_name:'active'})\n",
    "        print(r['processed']['action_traces'][0]['console'])\n",
    "    except Exception as e:\n",
    "        print(e)\n",
    "\n",
    "\n",
    "def set_code(account_name, code):\n",
    "    m = hashlib.sha256()\n",
    "    code = compile(code, \"contract\", 'exec')\n",
    "    code = marshal.dumps(code)\n",
    "    m.update(code)\n",
    "    code_hash = m.hexdigest()\n",
    "    r = eosapi.get_code(account_name)\n",
    "    if code_hash == r['code_hash']:\n",
    "        return\n",
    "\n",
    "    setcode = {\"account\":account_name,\n",
    "               \"vmtype\": 1,\n",
    "               \"vmversion\":0,\n",
    "               \"code\":code.hex()\n",
    "               }\n",
    "    eosapi.push_action('eosio', 'setcode', setcode, {account_name:'active'})\n",
    "    \n",
    "    return True\n",
    "\n",
    "def set_abi(account, abi):\n",
    "    db.set_abi(account, abi)\n",
    "    abi = _eosapi.pack_abi(abi)\n",
    "    setabi ={'account':account, 'abi':abi.hex()}\n",
    "    eosapi.push_action('eosio', 'setabi', setabi, {account:'active'})\n",
    "\n",
    "print('done!')"
   ]
  },
  {
   "cell_type": "code",
   "execution_count": null,
   "metadata": {},
   "outputs": [],
   "source": [
    "eosapi.get_public_key('5KH8vwQkP4QoTwgBtCV5ZYhKmv8mx56WeNrw9AZuhNRXTrPzgYc')"
   ]
  },
  {
   "cell_type": "code",
   "execution_count": null,
   "metadata": {},
   "outputs": [],
   "source": [
    "eosapi.get_public_key('5JMXaLz5xnVvwrnvAGaZKQZFCDdeU6wjmuJY1rDnXiUZz7Gyi1o')"
   ]
  },
  {
   "cell_type": "code",
   "execution_count": null,
   "metadata": {},
   "outputs": [],
   "source": [
    "eosapi.get_balance('helloworld11')"
   ]
  },
  {
   "cell_type": "code",
   "execution_count": null,
   "metadata": {
    "scrolled": true
   },
   "outputs": [],
   "source": [
    "key1 = 'EOS7ZC3YFTCpPknEniq5xiHxHBt2tSW2E5eMXEcxHDD54UBWEgN4G'\n",
    "key2 = 'EOS7ZC3YFTCpPknEniq5xiHxHBt2tSW2E5eMXEcxHDD54UBWEgN4G'\n",
    "eosapi.create_account('helloworld11', 'helloworld33', key1, key2, 64*1024, 1.0, 1.0)"
   ]
  },
  {
   "cell_type": "code",
   "execution_count": 28,
   "metadata": {},
   "outputs": [],
   "source": [
    "from IPython.core.interactiveshell import InteractiveShell\n",
    "InteractiveShell.ast_node_interactivity = \"all\""
   ]
  },
  {
   "cell_type": "code",
   "execution_count": 60,
   "metadata": {},
   "outputs": [
    {
     "data": {
      "text/plain": [
       "[]"
      ]
     },
     "execution_count": 60,
     "metadata": {},
     "output_type": "execute_result"
    },
    {
     "data": {
      "text/plain": [
       "['Warning, empty ricardian clause file',\n",
       " 'Warning, empty ricardian clause file']"
      ]
     },
     "execution_count": 60,
     "metadata": {},
     "output_type": "execute_result"
    },
    {
     "data": {
      "text/plain": [
       "[]"
      ]
     },
     "execution_count": 60,
     "metadata": {},
     "output_type": "execute_result"
    }
   ],
   "source": [
    "from pyeoskit import db\n",
    "db.reset()\n",
    "code = r'''\n",
    "#include <eosio/eosio.hpp>\n",
    "#include <eosio/action.hpp>\n",
    "#include <eosio/print.hpp>\n",
    "\n",
    "extern \"C\" {\n",
    "    __attribute__((eosio_wasm_import))\n",
    "    int call_contract_get_extra_args(void* extra_args, size_t size1);\n",
    "\n",
    "    __attribute__((eosio_wasm_import))\n",
    "    int call_contract_set_results(void* result, size_t size1);\n",
    "\n",
    "    void apply( uint64_t receiver, uint64_t code, uint64_t action ) {\n",
    "        eosio::print(\"hello,world\\n\");\n",
    "    }\n",
    "\n",
    "   void call(uint64_t func, uint64_t arg1, uint64_t arg2, uint64_t arg3) {\n",
    "      if (func == eosio::name(\"calltest1\").value) {\n",
    "         uint64_t extra_args;\n",
    "         ::call_contract_get_extra_args(&extra_args, sizeof(extra_args));\n",
    "         eosio::print(\"+++++++++++call: extra_args:\", extra_args, \"\\n\");\n",
    "         extra_args += 1;\n",
    "         ::call_contract_set_results(&extra_args, sizeof(extra_args));\n",
    "      }\n",
    "   }\n",
    "}\n",
    "'''\n",
    "\n",
    "r = open('test.cpp', 'w').write(code)\n",
    "\n",
    "\n",
    "%system rm test.obj test.wasm\n",
    "%system eosio-cpp -I/usr/local/Cellar/eosio.cdt/1.6.1/opt/eosio.cdt/include/eosiolib/capi -I/usr/local/Cellar/eosio.cdt/1.6.1/opt/eosio.cdt/include/eosiolib/core -O3 -contract test -o test.obj -c test.cpp\n",
    "%system eosio-ld test.obj -o test.wasm\n",
    "\n",
    "\n",
    "account_name = 'helloworld33'\n",
    "code = open('test.wasm', 'rb').read()\n",
    "m = hashlib.sha256()\n",
    "m.update(code)\n",
    "code_hash = m.hexdigest()\n",
    "r = eosapi.get_code(account_name)\n",
    "if code_hash != r['code_hash']:\n",
    "    abi = ''\n",
    "    print('update code')\n",
    "    r = eosapi.set_contract(account_name, code, abi, 0)\n"
   ]
  },
  {
   "cell_type": "code",
   "execution_count": 62,
   "metadata": {},
   "outputs": [
    {
     "data": {
      "text/plain": [
       "True"
      ]
     },
     "execution_count": 62,
     "metadata": {},
     "output_type": "execute_result"
    },
    {
     "name": "stdout",
     "output_type": "stream",
     "text": [
      "b'\\x02\\x00\\x00\\x00\\x00\\x00\\x00\\x00'\n",
      "2\n",
      "\n"
     ]
    }
   ],
   "source": [
    "from pyeoskit import db\n",
    "db.reset()\n",
    "code = '''\n",
    "def apply(receiver, code, action):\n",
    "    ret = call_contract('helloworld33', 'calltest1', 0, 0, 0, int.to_bytes(1, 8, 'little'))\n",
    "    print(ret)\n",
    "    print(int.from_bytes(ret, 'little'))\n",
    "'''\n",
    "abi = ''\n",
    "name = 'helloworld11'\n",
    "publish_contract(name, code, abi)\n",
    "try:\n",
    "    r = eosapi.push_action(name, 'sayhello', b'hello,world', {name:'active'})\n",
    "    print(r['processed']['action_traces'][0]['console'])\n",
    "except Exception as e:\n",
    "    print(e)"
   ]
  },
  {
   "cell_type": "code",
   "execution_count": null,
   "metadata": {},
   "outputs": [],
   "source": []
  }
 ],
 "metadata": {
  "kernelspec": {
   "display_name": "Python 3",
   "language": "python",
   "name": "python3"
  },
  "language_info": {
   "codemirror_mode": {
    "name": "ipython",
    "version": 3
   },
   "file_extension": ".py",
   "mimetype": "text/x-python",
   "name": "python",
   "nbconvert_exporter": "python",
   "pygments_lexer": "ipython3",
   "version": "3.7.3"
  }
 },
 "nbformat": 4,
 "nbformat_minor": 2
}
