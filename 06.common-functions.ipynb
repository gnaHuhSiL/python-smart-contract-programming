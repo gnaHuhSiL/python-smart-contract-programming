{
 "cells": [
  {
   "cell_type": "code",
   "execution_count": 3,
   "metadata": {},
   "outputs": [],
   "source": [
    "import os\n",
    "import hashlib\n",
    "import marshal\n",
    "from pyeoskit import eosapi, wallet, db\n",
    "db.reset()\n",
    "\n",
    "if os.path.exists('test.wallet'):\n",
    "    os.remove('test.wallet')\n",
    "psw = wallet.create('test')\n",
    "\n",
    "wallet.import_key('test', '5KH8vwQkP4QoTwgBtCV5ZYhKmv8mx56WeNrw9AZuhNRXTrPzgYc')\n",
    "\n",
    "def publish_contract(account_name, code, abi):\n",
    "    m = hashlib.sha256()\n",
    "    code = compile(code, \"contract\", 'exec')\n",
    "    code = marshal.dumps(code)\n",
    "    m.update(code)\n",
    "    code_hash = m.hexdigest()\n",
    "    r = eosapi.get_code(account_name)\n",
    "    if code_hash != r['code_hash']:\n",
    "        eosapi.set_contract(account_name, code, abi, 1)\n",
    "    return True\n",
    "\n",
    "#eosapi.set_nodes(['https://nodes.uuos.network:8443'])\n",
    "eosapi.set_nodes(['http://127.0.0.1:8888'])\n",
    "\n",
    "def run_test_code(code):\n",
    "    abi = ''\n",
    "    account_name = 'test11111111'\n",
    "    publish_contract(account_name, code, abi)\n",
    "    try:\n",
    "        r = eosapi.push_action(account_name, 'sayhello', b'hello,world', {account_name:'active'})\n",
    "        print(r['processed']['action_traces'][0]['console'])\n",
    "    except Exception as e:\n",
    "        print(e)"
   ]
  },
  {
   "cell_type": "markdown",
   "metadata": {},
   "source": [
    "# s2n, n2s, N"
   ]
  },
  {
   "cell_type": "markdown",
   "metadata": {},
   "source": [
    "s2n把字符串转成uint64_t类型， n2s, N的功能一样，都是把uint64_t类型转换成字符串，\n",
    "注意这里的N是一个函数，参数是一个字符串，不要和C++里面的宏`N`混淆了，C++里的`N`是不用带\"\"的\n"
   ]
  },
  {
   "cell_type": "code",
   "execution_count": 36,
   "metadata": {},
   "outputs": [
    {
     "name": "stdout",
     "output_type": "stream",
     "text": [
      "14605613963703501328 14605613963703501328 13960267442438537216\n",
      "test11111111 test11111111 sayhello\n",
      "True\n",
      "True\n",
      "\n"
     ]
    }
   ],
   "source": [
    "code = '''\n",
    "def apply(receiver, code, action):\n",
    "    print(receiver, code, action)\n",
    "    print(n2s(receiver), n2s(code), n2s(action))\n",
    "    print(n2s(receiver) == 'test11111111')\n",
    "    print(N('test11111111') == receiver)\n",
    "'''\n",
    "name = 'test11111111'\n",
    "publish_contract(name, code, abi)\n",
    "try:\n",
    "    r = eosapi.push_action(name, 'sayhello', b'hello,world', {name:'active'})\n",
    "    print(r['processed']['action_traces'][0]['console'])\n",
    "except Exception as e:\n",
    "    print(e)"
   ]
  },
  {
   "cell_type": "markdown",
   "metadata": {},
   "source": [
    "# current_receiver\n",
    "获取当前的receiver"
   ]
  },
  {
   "cell_type": "code",
   "execution_count": 38,
   "metadata": {},
   "outputs": [
    {
     "name": "stdout",
     "output_type": "stream",
     "text": [
      "True\n",
      "test11111111\n",
      "\n"
     ]
    }
   ],
   "source": [
    "code = '''\n",
    "import struct\n",
    "def apply(receiver, code, action):\n",
    "    print(receiver == current_receiver())\n",
    "    print(n2s(current_receiver()))\n",
    "    \n",
    "'''\n",
    "name = 'test11111111'\n",
    "publish_contract(name, code, abi)\n",
    "try:\n",
    "    r = eosapi.push_action(name, 'sayhello', b'hello,world', {name:'active'})\n",
    "    print(r['processed']['action_traces'][0]['console'])\n",
    "except Exception as e:\n",
    "    print(e)"
   ]
  },
  {
   "cell_type": "markdown",
   "metadata": {},
   "source": [
    "# read_action_data"
   ]
  },
  {
   "cell_type": "markdown",
   "metadata": {},
   "source": [
    "获取action的data字段"
   ]
  },
  {
   "cell_type": "code",
   "execution_count": 40,
   "metadata": {},
   "outputs": [
    {
     "name": "stdout",
     "output_type": "stream",
     "text": [
      "b'goodbye,world'\n",
      "\n",
      "283\n"
     ]
    }
   ],
   "source": [
    "code = '''\n",
    "def apply(receiver, code, action):\n",
    "    print(read_action_data())\n",
    "'''\n",
    "\n",
    "abi = ''\n",
    "account_name = 'test11111111'\n",
    "publish_contract(account_name, code, abi)\n",
    "try:\n",
    "    r = eosapi.push_action(account_name, 'sayhello', b'goodbye,world', {account_name:'active'})\n",
    "    print(r['processed']['action_traces'][0]['console'])\n",
    "    print(r['processed']['elapsed'])\n",
    "except Exception as e:\n",
    "    print(e)\n"
   ]
  },
  {
   "cell_type": "markdown",
   "metadata": {},
   "source": [
    "# is_account"
   ]
  },
  {
   "cell_type": "code",
   "execution_count": 46,
   "metadata": {},
   "outputs": [
    {
     "name": "stdout",
     "output_type": "stream",
     "text": [
      "True\n",
      "True\n",
      "\n"
     ]
    }
   ],
   "source": [
    "code = '''\n",
    "def apply(receiver, code, action):\n",
    "    print(is_account(receiver))\n",
    "    print(is_account('test11111111'))\n",
    "'''\n",
    "\n",
    "run_test_code(code)"
   ]
  },
  {
   "cell_type": "markdown",
   "metadata": {},
   "source": [
    "# publication_time"
   ]
  },
  {
   "cell_type": "code",
   "execution_count": 5,
   "metadata": {},
   "outputs": [
    {
     "name": "stdout",
     "output_type": "stream",
     "text": [
      "1559921419500000\n",
      "1559921419500000\n",
      "1559921419\n",
      "\n"
     ]
    }
   ],
   "source": [
    "code = '''\n",
    "def apply(receiver, code, action):\n",
    "    print(publication_time())\n",
    "'''\n",
    "\n",
    "run_test_code(code)"
   ]
  },
  {
   "cell_type": "code",
   "execution_count": 23,
   "metadata": {},
   "outputs": [
    {
     "name": "stdout",
     "output_type": "stream",
     "text": [
      "Sat, 08 Jun 2019 00:50:07 GMT\n",
      "Sat, 08 Jun 2019 00:50:12 GMT\n"
     ]
    }
   ],
   "source": [
    "import time\n",
    "local_time = time.localtime(1559901448500000/1e6)\n",
    "time.strftime('%a, %d %b %Y %H:%M:%S GMT', local_time)"
   ]
  },
  {
   "cell_type": "markdown",
   "metadata": {},
   "source": [
    "# has_auth"
   ]
  },
  {
   "cell_type": "code",
   "execution_count": 49,
   "metadata": {},
   "outputs": [
    {
     "name": "stdout",
     "output_type": "stream",
     "text": [
      "True\n",
      "True\n",
      "False\n",
      "\n"
     ]
    }
   ],
   "source": [
    "code = '''\n",
    "def apply(receiver, code, action):\n",
    "    print(has_auth(receiver))\n",
    "    print(has_auth('test11111111'))\n",
    "    print(has_auth('eosio'))\n",
    "'''\n",
    "\n",
    "run_test_code(code)"
   ]
  },
  {
   "cell_type": "markdown",
   "metadata": {},
   "source": [
    "# require_auth/require_auth2"
   ]
  },
  {
   "cell_type": "code",
   "execution_count": 53,
   "metadata": {},
   "outputs": [
    {
     "name": "stdout",
     "output_type": "stream",
     "text": [
      "done!\n",
      "\n"
     ]
    }
   ],
   "source": [
    "code = '''\n",
    "def apply(receiver, code, action):\n",
    "#    require_auth('eosio')\n",
    "    require_auth2('test11111111', 'owner')\n",
    "    print('done!')\n",
    "'''\n",
    "\n",
    "abi = ''\n",
    "account_name = 'test11111111'\n",
    "publish_contract(account_name, code, abi)\n",
    "try:\n",
    "    r = eosapi.push_action(account_name, 'sayhello', b'hello,world', {account_name:'owner'})\n",
    "    print(r['processed']['action_traces'][0]['console'])\n",
    "except Exception as e:\n",
    "    print(e)"
   ]
  },
  {
   "cell_type": "markdown",
   "metadata": {},
   "source": [
    "# publication_time/current_time/now"
   ]
  },
  {
   "cell_type": "markdown",
   "metadata": {},
   "source": [
    "```C++\n",
    "uint64_t  publication_time() {\n",
    "   return static_cast<uint64_t>( ctx().trx_context.published.time_since_epoch().count() );\n",
    "}\n",
    "\n",
    "uint64_t  current_time() {\n",
    "   return static_cast<uint64_t>( ctx().control.pending_block_time().time_since_epoch().count() );\n",
    "}\n",
    "\n",
    "uint32_t  now() {\n",
    "   return (uint32_t)( current_time() / 1000000 );\n",
    "}\n",
    "\n",
    "```"
   ]
  },
  {
   "cell_type": "code",
   "execution_count": 35,
   "metadata": {},
   "outputs": [
    {
     "name": "stdout",
     "output_type": "stream",
     "text": [
      "1559965875500000\n",
      "1559965875500000\n",
      "1559965875\n",
      "\n"
     ]
    }
   ],
   "source": [
    "code = '''\n",
    "def apply(receiver, code, action):\n",
    "    print(publication_time())\n",
    "    print(current_time())\n",
    "    print(now())\n",
    "'''\n",
    "\n",
    "abi = ''\n",
    "account_name = 'test11111111'\n",
    "publish_contract(account_name, code, abi)\n",
    "try:\n",
    "    r = eosapi.push_action(account_name, 'sayhello', b'hello,world', {account_name:'owner'})\n",
    "    print(r['processed']['action_traces'][0]['console'])\n",
    "except Exception as e:\n",
    "    print(e)"
   ]
  },
  {
   "cell_type": "markdown",
   "metadata": {},
   "source": [
    "# eosio_assert/eosio_assert_code"
   ]
  },
  {
   "cell_type": "code",
   "execution_count": 43,
   "metadata": {},
   "outputs": [
    {
     "name": "stderr",
     "output_type": "stream",
     "text": [
      "INFO:pyeoskit.http_client:non ok response: 500\n"
     ]
    },
    {
     "name": "stdout",
     "output_type": "stream",
     "text": [
      "API returned status code: 500 {\"code\":500,\"message\":\"Internal Service Error\",\"error\":{\"code\":3050003,\"name\":\"eosio_assert_message_exception\",\"what\":\"eosio_assert_message assertion failure\",\"details\":[{\"message\":\"assertion failure with message: oops!\",\"file\":\"system.cpp\",\"line_number\":18,\"method\":\"eosio_assert\"}]}}\n"
     ]
    }
   ],
   "source": [
    "code = '''\n",
    "def apply(receiver, code, action):\n",
    "    eosio_assert(False, 'oops!')\n",
    "    eosio_assert_code(receiver!=code, 111)\n",
    "'''\n",
    "\n",
    "abi = ''\n",
    "account_name = 'test11111111'\n",
    "publish_contract(account_name, code, abi)\n",
    "try:\n",
    "    r = eosapi.push_action(account_name, 'sayhello', b'hello,world', {account_name:'owner'})\n",
    "    print(r['processed']['action_traces'][0]['console'])\n",
    "except Exception as e:\n",
    "    print(e)"
   ]
  }
 ],
 "metadata": {
  "kernelspec": {
   "display_name": "Python 3",
   "language": "python",
   "name": "python3"
  },
  "language_info": {
   "codemirror_mode": {
    "name": "ipython",
    "version": 3
   },
   "file_extension": ".py",
   "mimetype": "text/x-python",
   "name": "python",
   "nbconvert_exporter": "python",
   "pygments_lexer": "ipython3",
   "version": "3.7.3"
  }
 },
 "nbformat": 4,
 "nbformat_minor": 2
}
