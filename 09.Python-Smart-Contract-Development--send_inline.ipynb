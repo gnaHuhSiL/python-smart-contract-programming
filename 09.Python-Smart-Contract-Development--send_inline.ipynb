{
 "cells": [
  {
   "cell_type": "code",
   "execution_count": 232,
   "metadata": {
    "scrolled": false
   },
   "outputs": [
    {
     "name": "stdout",
     "output_type": "stream",
     "text": [
      "done!\n"
     ]
    }
   ],
   "source": [
    "import os\n",
    "import hashlib\n",
    "import marshal\n",
    "from pyeoskit import eosapi, wallet, db\n",
    "from pyeoskit import config\n",
    "\n",
    "db.reset()\n",
    "config.main_token = 'UUOS'\n",
    "\n",
    "if os.path.exists('test.wallet'):\n",
    "    os.remove('test.wallet')\n",
    "psw = wallet.create('test')\n",
    "\n",
    "wallet.import_key('test', '5KH8vwQkP4QoTwgBtCV5ZYhKmv8mx56WeNrw9AZuhNRXTrPzgYc')\n",
    "wallet.import_key('test', '5KFQ5opDDCADMZwwwsKF89przC9pZc9Dc4Ed2GYbGo8S32Yy2Gw')\n",
    "\n",
    "def publish_contract(account_name, code, abi):\n",
    "    m = hashlib.sha256()\n",
    "    code = compile(code, \"contract\", 'exec')\n",
    "    code = marshal.dumps(code)\n",
    "    m.update(code)\n",
    "    code_hash = m.hexdigest()\n",
    "    r = eosapi.get_code(account_name)\n",
    "    if code_hash != r['code_hash']:\n",
    "        eosapi.set_contract(account_name, code, abi, 1)\n",
    "    return True\n",
    "\n",
    "#eosapi.set_nodes(['https://nodes.uuos.network:8443'])\n",
    "eosapi.set_nodes(['http://127.0.0.1:8888'])\n",
    "\n",
    "def run_test_code(code, account_name='test11111111'):\n",
    "    publish_contract(account_name, code, abi)\n",
    "    try:\n",
    "        r = eosapi.push_action(account_name, 'sayhello', b'hello,world', {account_name:'active'})\n",
    "        print(r['processed']['action_traces'][0]['console'])\n",
    "    except Exception as e:\n",
    "        print(e)\n",
    "print('done!')"
   ]
  },
  {
   "cell_type": "code",
   "execution_count": 234,
   "metadata": {},
   "outputs": [
    {
     "data": {
      "text/plain": [
       "'EOS7ent7keWbVgvptfYaMYeF2cenMBiwYKcwEuc11uCbStsFKsrmV'"
      ]
     },
     "execution_count": 234,
     "metadata": {},
     "output_type": "execute_result"
    }
   ],
   "source": [
    "eosapi.get_public_key('5KH8vwQkP4QoTwgBtCV5ZYhKmv8mx56WeNrw9AZuhNRXTrPzgYc')"
   ]
  },
  {
   "cell_type": "code",
   "execution_count": 235,
   "metadata": {},
   "outputs": [
    {
     "data": {
      "text/plain": [
       "'EOS7u2gnQzoybz6YZvoi5RY6rMqkbAycDBFEFGhsvHEDmB7tffc2h'"
      ]
     },
     "execution_count": 235,
     "metadata": {},
     "output_type": "execute_result"
    }
   ],
   "source": [
    "eosapi.get_public_key('5KFQ5opDDCADMZwwwsKF89przC9pZc9Dc4Ed2GYbGo8S32Yy2Gw')"
   ]
  },
  {
   "cell_type": "markdown",
   "metadata": {},
   "source": [
    "###  send_inline(account, action_name, actor, permission, data) -> None\n",
    "发送一个内联action"
   ]
  },
  {
   "cell_type": "code",
   "execution_count": 218,
   "metadata": {},
   "outputs": [
    {
     "data": {
      "text/plain": [
       "True"
      ]
     },
     "execution_count": 218,
     "metadata": {},
     "output_type": "execute_result"
    }
   ],
   "source": [
    "name = 'test11111111'\n",
    "code = '''\n",
    "import db\n",
    "def apply(receiver, code, action):\n",
    "    print(n2s(receiver), n2s(code), n2s(action))\n",
    "    if action == N('sayhello'):\n",
    "        data = read_action_data()\n",
    "        print(data)\n",
    "    elif action == N('sendinline'):\n",
    "        receiver = N('test11111112')\n",
    "        send_inline(receiver, N('sayhello'), N('test11111112'), N('active'), b'hellooooo,world')\n",
    "'''\n",
    "abi = ''\n",
    "publish_contract(name, code, abi)"
   ]
  },
  {
   "cell_type": "code",
   "execution_count": 212,
   "metadata": {},
   "outputs": [
    {
     "data": {
      "text/plain": [
       "True"
      ]
     },
     "execution_count": 212,
     "metadata": {},
     "output_type": "execute_result"
    }
   ],
   "source": [
    "account_name = 'test11111112'\n",
    "code = '''\n",
    "import db\n",
    "def apply(receiver, code, action):\n",
    "    if action == N('sayhello'):\n",
    "        data = read_action_data()\n",
    "        print(data)\n",
    "'''\n",
    "abi = ''\n",
    "publish_contract(account_name, code, abi)"
   ]
  },
  {
   "cell_type": "code",
   "execution_count": 231,
   "metadata": {},
   "outputs": [
    {
     "ename": "HttpAPIError",
     "evalue": "API returned status code: 500 {\"code\":500,\"message\":\"Internal Service Error\",\"error\":{\"code\":3090003,\"name\":\"unsatisfied_authorization\",\"what\":\"Provided keys, permissions, and delays do not satisfy declared authorizations\",\"details\":[{\"message\":\"transaction declares authority '${auth}', but does not have signatures for it under a provided delay of 0 ms, provided permissions ${provided_permissions}, provided keys ${provided_keys}, and a delay max limit of 3888000000 ms\",\"file\":\"authorization_manager.cpp\",\"line_number\":520,\"method\":\"check_authorization\"}]}}",
     "output_type": "error",
     "traceback": [
      "\u001b[0;31m---------------------------------------------------------------------------\u001b[0m",
      "\u001b[0;31mHttpAPIError\u001b[0m                              Traceback (most recent call last)",
      "\u001b[0;32m<ipython-input-231-e5b867c48242>\u001b[0m in \u001b[0;36m<module>\u001b[0;34m\u001b[0m\n\u001b[1;32m      1\u001b[0m \u001b[0mname\u001b[0m \u001b[0;34m=\u001b[0m \u001b[0;34m'test11111111'\u001b[0m\u001b[0;34m\u001b[0m\u001b[0;34m\u001b[0m\u001b[0m\n\u001b[0;32m----> 2\u001b[0;31m \u001b[0mr\u001b[0m \u001b[0;34m=\u001b[0m \u001b[0meosapi\u001b[0m\u001b[0;34m.\u001b[0m\u001b[0mpush_action\u001b[0m\u001b[0;34m(\u001b[0m\u001b[0mname\u001b[0m\u001b[0;34m,\u001b[0m \u001b[0;34m'sendinline'\u001b[0m\u001b[0;34m,\u001b[0m \u001b[0;34mb'hello,world'\u001b[0m\u001b[0;34m,\u001b[0m \u001b[0;34m{\u001b[0m\u001b[0mname\u001b[0m\u001b[0;34m:\u001b[0m\u001b[0;34m'active'\u001b[0m\u001b[0;34m,\u001b[0m \u001b[0;34m'test11111112'\u001b[0m\u001b[0;34m:\u001b[0m\u001b[0;34m'active'\u001b[0m\u001b[0;34m}\u001b[0m\u001b[0;34m)\u001b[0m\u001b[0;34m\u001b[0m\u001b[0;34m\u001b[0m\u001b[0m\n\u001b[0m\u001b[1;32m      3\u001b[0m \u001b[0mprint\u001b[0m\u001b[0;34m(\u001b[0m\u001b[0mr\u001b[0m\u001b[0;34m[\u001b[0m\u001b[0;34m'processed'\u001b[0m\u001b[0;34m]\u001b[0m\u001b[0;34m[\u001b[0m\u001b[0;34m'action_traces'\u001b[0m\u001b[0;34m]\u001b[0m\u001b[0;34m[\u001b[0m\u001b[0;36m0\u001b[0m\u001b[0;34m]\u001b[0m\u001b[0;34m[\u001b[0m\u001b[0;34m'console'\u001b[0m\u001b[0;34m]\u001b[0m\u001b[0;34m)\u001b[0m\u001b[0;34m\u001b[0m\u001b[0;34m\u001b[0m\u001b[0m\n\u001b[1;32m      4\u001b[0m \u001b[0mprint\u001b[0m\u001b[0;34m(\u001b[0m\u001b[0mr\u001b[0m\u001b[0;34m[\u001b[0m\u001b[0;34m'processed'\u001b[0m\u001b[0;34m]\u001b[0m\u001b[0;34m[\u001b[0m\u001b[0;34m'action_traces'\u001b[0m\u001b[0;34m]\u001b[0m\u001b[0;34m[\u001b[0m\u001b[0;36m0\u001b[0m\u001b[0;34m]\u001b[0m\u001b[0;34m[\u001b[0m\u001b[0;34m'inline_traces'\u001b[0m\u001b[0;34m]\u001b[0m\u001b[0;34m[\u001b[0m\u001b[0;36m0\u001b[0m\u001b[0;34m]\u001b[0m\u001b[0;34m[\u001b[0m\u001b[0;34m'console'\u001b[0m\u001b[0;34m]\u001b[0m\u001b[0;34m)\u001b[0m\u001b[0;34m\u001b[0m\u001b[0;34m\u001b[0m\u001b[0m\n",
      "\u001b[0;32m~/anaconda3/lib/python3.7/site-packages/pyeoskit/eosapi.py\u001b[0m in \u001b[0;36mpush_action\u001b[0;34m(self, contract, action, args, permissions)\u001b[0m\n\u001b[1;32m    213\u001b[0m         \u001b[0mtrx\u001b[0m \u001b[0;34m=\u001b[0m \u001b[0mwallet\u001b[0m\u001b[0;34m.\u001b[0m\u001b[0msign_transaction\u001b[0m\u001b[0;34m(\u001b[0m\u001b[0mtrx\u001b[0m\u001b[0;34m,\u001b[0m \u001b[0mkeys\u001b[0m\u001b[0;34m,\u001b[0m \u001b[0mself\u001b[0m\u001b[0;34m.\u001b[0m\u001b[0mget_info\u001b[0m\u001b[0;34m(\u001b[0m\u001b[0;34m)\u001b[0m\u001b[0;34m.\u001b[0m\u001b[0mchain_id\u001b[0m\u001b[0;34m)\u001b[0m\u001b[0;34m\u001b[0m\u001b[0;34m\u001b[0m\u001b[0m\n\u001b[1;32m    214\u001b[0m         \u001b[0mtrx\u001b[0m \u001b[0;34m=\u001b[0m \u001b[0m_eosapi\u001b[0m\u001b[0;34m.\u001b[0m\u001b[0mpack_transaction\u001b[0m\u001b[0;34m(\u001b[0m\u001b[0mtrx\u001b[0m\u001b[0;34m,\u001b[0m \u001b[0;36m0\u001b[0m\u001b[0;34m)\u001b[0m\u001b[0;34m\u001b[0m\u001b[0;34m\u001b[0m\u001b[0m\n\u001b[0;32m--> 215\u001b[0;31m         \u001b[0;32mreturn\u001b[0m \u001b[0mself\u001b[0m\u001b[0;34m.\u001b[0m\u001b[0mclient\u001b[0m\u001b[0;34m.\u001b[0m\u001b[0mpush_transaction\u001b[0m\u001b[0;34m(\u001b[0m\u001b[0mtrx\u001b[0m\u001b[0;34m)\u001b[0m\u001b[0;34m\u001b[0m\u001b[0;34m\u001b[0m\u001b[0m\n\u001b[0m\u001b[1;32m    216\u001b[0m \u001b[0;34m\u001b[0m\u001b[0m\n\u001b[1;32m    217\u001b[0m     \u001b[0;32mdef\u001b[0m \u001b[0mpush_actions\u001b[0m\u001b[0;34m(\u001b[0m\u001b[0mself\u001b[0m\u001b[0;34m,\u001b[0m \u001b[0mactions\u001b[0m\u001b[0;34m)\u001b[0m\u001b[0;34m:\u001b[0m\u001b[0;34m\u001b[0m\u001b[0;34m\u001b[0m\u001b[0m\n",
      "\u001b[0;32m~/anaconda3/lib/python3.7/site-packages/pyeoskit/client.py\u001b[0m in \u001b[0;36mpush_transaction\u001b[0;34m(self, signed_transaction)\u001b[0m\n\u001b[1;32m    354\u001b[0m             \u001b[0mapi\u001b[0m\u001b[0;34m=\u001b[0m\u001b[0;34m'chain'\u001b[0m\u001b[0;34m,\u001b[0m\u001b[0;34m\u001b[0m\u001b[0;34m\u001b[0m\u001b[0m\n\u001b[1;32m    355\u001b[0m             \u001b[0mendpoint\u001b[0m\u001b[0;34m=\u001b[0m\u001b[0;34m'push_transaction'\u001b[0m\u001b[0;34m,\u001b[0m\u001b[0;34m\u001b[0m\u001b[0;34m\u001b[0m\u001b[0m\n\u001b[0;32m--> 356\u001b[0;31m             \u001b[0mbody\u001b[0m\u001b[0;34m=\u001b[0m\u001b[0mbody\u001b[0m\u001b[0;34m\u001b[0m\u001b[0;34m\u001b[0m\u001b[0m\n\u001b[0m\u001b[1;32m    357\u001b[0m         )\n\u001b[1;32m    358\u001b[0m \u001b[0;34m\u001b[0m\u001b[0m\n",
      "\u001b[0;32m~/anaconda3/lib/python3.7/site-packages/pyeoskit/http_client.py\u001b[0m in \u001b[0;36mexec\u001b[0;34m(self, api, endpoint, body, _ret_cnt)\u001b[0m\n\u001b[1;32m    158\u001b[0m                 return self._return(\n\u001b[1;32m    159\u001b[0m                     \u001b[0mresponse\u001b[0m\u001b[0;34m=\u001b[0m\u001b[0mresponse\u001b[0m\u001b[0;34m,\u001b[0m\u001b[0;34m\u001b[0m\u001b[0;34m\u001b[0m\u001b[0m\n\u001b[0;32m--> 160\u001b[0;31m                     body=body)\n\u001b[0m\u001b[1;32m    161\u001b[0m \u001b[0;34m\u001b[0m\u001b[0m\n\u001b[1;32m    162\u001b[0m     \u001b[0;34m@\u001b[0m\u001b[0mstaticmethod\u001b[0m\u001b[0;34m\u001b[0m\u001b[0;34m\u001b[0m\u001b[0m\n",
      "\u001b[0;32m~/anaconda3/lib/python3.7/site-packages/pyeoskit/http_client.py\u001b[0m in \u001b[0;36m_return\u001b[0;34m(response, body)\u001b[0m\n\u001b[1;32m    185\u001b[0m                         \u001b[0mresponse\u001b[0m\u001b[0;34m.\u001b[0m\u001b[0mstatus\u001b[0m\u001b[0;34m,\u001b[0m\u001b[0;34m\u001b[0m\u001b[0;34m\u001b[0m\u001b[0m\n\u001b[1;32m    186\u001b[0m                         extra=extra)\n\u001b[0;32m--> 187\u001b[0;31m             \u001b[0;32mraise\u001b[0m \u001b[0mHttpAPIError\u001b[0m\u001b[0;34m(\u001b[0m\u001b[0mresponse\u001b[0m\u001b[0;34m.\u001b[0m\u001b[0mstatus\u001b[0m\u001b[0;34m,\u001b[0m \u001b[0mresult\u001b[0m\u001b[0;34m)\u001b[0m\u001b[0;34m\u001b[0m\u001b[0;34m\u001b[0m\u001b[0m\n\u001b[0m\u001b[1;32m    188\u001b[0m \u001b[0;34m\u001b[0m\u001b[0m\n\u001b[1;32m    189\u001b[0m         \u001b[0;32mtry\u001b[0m\u001b[0;34m:\u001b[0m\u001b[0;34m\u001b[0m\u001b[0;34m\u001b[0m\u001b[0m\n",
      "\u001b[0;31mHttpAPIError\u001b[0m: API returned status code: 500 {\"code\":500,\"message\":\"Internal Service Error\",\"error\":{\"code\":3090003,\"name\":\"unsatisfied_authorization\",\"what\":\"Provided keys, permissions, and delays do not satisfy declared authorizations\",\"details\":[{\"message\":\"transaction declares authority '${auth}', but does not have signatures for it under a provided delay of 0 ms, provided permissions ${provided_permissions}, provided keys ${provided_keys}, and a delay max limit of 3888000000 ms\",\"file\":\"authorization_manager.cpp\",\"line_number\":520,\"method\":\"check_authorization\"}]}}"
     ]
    }
   ],
   "source": [
    "name = 'test11111111'\n",
    "r = eosapi.push_action(name, 'sendinline', b'hello,world', {name:'active', 'test11111112':'active'})\n",
    "print(r['processed']['action_traces'][0]['console'])\n",
    "print(r['processed']['action_traces'][0]['inline_traces'][0]['console'])"
   ]
  },
  {
   "cell_type": "code",
   "execution_count": 216,
   "metadata": {
    "scrolled": true
   },
   "outputs": [
    {
     "data": {
      "text/plain": [
       "{\n",
       "    \"account_name\": \"test11111112\",\n",
       "    \"head_block_num\": 1366810,\n",
       "    \"head_block_time\": \"2019-06-10T14:15:22.500\",\n",
       "    \"privileged\": false,\n",
       "    \"last_code_update\": \"2019-06-10T12:57:46.500\",\n",
       "    \"created\": \"2019-06-03T09:14:25.000\",\n",
       "    \"core_liquid_balance\": \"7.3000 UUOS\",\n",
       "    \"ram_quota\": 65206,\n",
       "    \"net_weight\": 10000,\n",
       "    \"cpu_weight\": 10000,\n",
       "    \"net_limit\": {\n",
       "        \"used\": 20874,\n",
       "        \"available\": \"25884847521983\",\n",
       "        \"max\": \"25884847542857\"\n",
       "    },\n",
       "    \"cpu_limit\": {\n",
       "        \"used\": 20615,\n",
       "        \"available\": \"4937142836527\",\n",
       "        \"max\": \"4937142857142\"\n",
       "    },\n",
       "    \"ram_usage\": 4237,\n",
       "    \"permissions\": [\n",
       "        {\n",
       "            \"perm_name\": \"active\",\n",
       "            \"parent\": \"owner\",\n",
       "            \"required_auth\": {\n",
       "                \"threshold\": 1,\n",
       "                \"keys\": [\n",
       "                    {\n",
       "                        \"key\": \"EOS7ent7keWbVgvptfYaMYeF2cenMBiwYKcwEuc11uCbStsFKsrmV\",\n",
       "                        \"weight\": 1\n",
       "                    }\n",
       "                ],\n",
       "                \"accounts\": [],\n",
       "                \"waits\": []\n",
       "            }\n",
       "        },\n",
       "        {\n",
       "            \"perm_name\": \"owner\",\n",
       "            \"parent\": \"\",\n",
       "            \"required_auth\": {\n",
       "                \"threshold\": 1,\n",
       "                \"keys\": [\n",
       "                    {\n",
       "                        \"key\": \"EOS7ent7keWbVgvptfYaMYeF2cenMBiwYKcwEuc11uCbStsFKsrmV\",\n",
       "                        \"weight\": 1\n",
       "                    }\n",
       "                ],\n",
       "                \"accounts\": [],\n",
       "                \"waits\": []\n",
       "            }\n",
       "        }\n",
       "    ],\n",
       "    \"total_resources\": {\n",
       "        \"owner\": \"test11111112\",\n",
       "        \"net_weight\": \"1.0000 UUOS\",\n",
       "        \"cpu_weight\": \"1.0000 UUOS\",\n",
       "        \"ram_bytes\": 65206\n",
       "    },\n",
       "    \"self_delegated_bandwidth\": {\n",
       "        \"from\": \"test11111112\",\n",
       "        \"to\": \"test11111112\",\n",
       "        \"net_weight\": \"1.0000 UUOS\",\n",
       "        \"cpu_weight\": \"1.0000 UUOS\"\n",
       "    },\n",
       "    \"refund_request\": null,\n",
       "    \"voter_info\": {\n",
       "        \"owner\": \"test11111112\",\n",
       "        \"proxy\": \"\",\n",
       "        \"producers\": [],\n",
       "        \"staked\": 20000,\n",
       "        \"last_vote_weight\": \"0.00000000000000000\",\n",
       "        \"proxied_vote_weight\": \"0.00000000000000000\",\n",
       "        \"is_proxy\": 0\n",
       "    }\n",
       "}"
      ]
     },
     "execution_count": 216,
     "metadata": {},
     "output_type": "execute_result"
    }
   ],
   "source": [
    "eosapi.get_account('test11111112')"
   ]
  },
  {
   "cell_type": "code",
   "execution_count": 225,
   "metadata": {},
   "outputs": [
    {
     "data": {
      "text/plain": [
       "{\n",
       "    \"account_name\": \"test11111112\",\n",
       "    \"head_block_num\": 1367633,\n",
       "    \"head_block_time\": \"2019-06-10T14:22:14.000\",\n",
       "    \"privileged\": false,\n",
       "    \"last_code_update\": \"2019-06-10T12:57:46.500\",\n",
       "    \"created\": \"2019-06-03T09:14:25.000\",\n",
       "    \"core_liquid_balance\": \"7.3000 UUOS\",\n",
       "    \"ram_quota\": 65206,\n",
       "    \"net_weight\": 10000,\n",
       "    \"cpu_weight\": 10000,\n",
       "    \"net_limit\": {\n",
       "        \"used\": 21217,\n",
       "        \"available\": \"25884847521640\",\n",
       "        \"max\": \"25884847542857\"\n",
       "    },\n",
       "    \"cpu_limit\": {\n",
       "        \"used\": 21666,\n",
       "        \"available\": \"4937142835476\",\n",
       "        \"max\": \"4937142857142\"\n",
       "    },\n",
       "    \"ram_usage\": 4237,\n",
       "    \"permissions\": [\n",
       "        {\n",
       "            \"perm_name\": \"active\",\n",
       "            \"parent\": \"owner\",\n",
       "            \"required_auth\": {\n",
       "                \"threshold\": 1,\n",
       "                \"keys\": [\n",
       "                    {\n",
       "                        \"key\": \"EOS7ent7keWbVgvptfYaMYeF2cenMBiwYKcwEuc11uCbStsFKsrmV\",\n",
       "                        \"weight\": 1\n",
       "                    }\n",
       "                ],\n",
       "                \"accounts\": [],\n",
       "                \"waits\": []\n",
       "            }\n",
       "        },\n",
       "        {\n",
       "            \"perm_name\": \"owner\",\n",
       "            \"parent\": \"\",\n",
       "            \"required_auth\": {\n",
       "                \"threshold\": 1,\n",
       "                \"keys\": [\n",
       "                    {\n",
       "                        \"key\": \"EOS7ent7keWbVgvptfYaMYeF2cenMBiwYKcwEuc11uCbStsFKsrmV\",\n",
       "                        \"weight\": 1\n",
       "                    }\n",
       "                ],\n",
       "                \"accounts\": [],\n",
       "                \"waits\": []\n",
       "            }\n",
       "        }\n",
       "    ],\n",
       "    \"total_resources\": {\n",
       "        \"owner\": \"test11111112\",\n",
       "        \"net_weight\": \"1.0000 UUOS\",\n",
       "        \"cpu_weight\": \"1.0000 UUOS\",\n",
       "        \"ram_bytes\": 65206\n",
       "    },\n",
       "    \"self_delegated_bandwidth\": {\n",
       "        \"from\": \"test11111112\",\n",
       "        \"to\": \"test11111112\",\n",
       "        \"net_weight\": \"1.0000 UUOS\",\n",
       "        \"cpu_weight\": \"1.0000 UUOS\"\n",
       "    },\n",
       "    \"refund_request\": null,\n",
       "    \"voter_info\": {\n",
       "        \"owner\": \"test11111112\",\n",
       "        \"proxy\": \"\",\n",
       "        \"producers\": [],\n",
       "        \"staked\": 20000,\n",
       "        \"last_vote_weight\": \"0.00000000000000000\",\n",
       "        \"proxied_vote_weight\": \"0.00000000000000000\",\n",
       "        \"is_proxy\": 0\n",
       "    }\n",
       "}"
      ]
     },
     "execution_count": 225,
     "metadata": {},
     "output_type": "execute_result"
    }
   ],
   "source": [
    "eosapi.get_account('test11111112')"
   ]
  },
  {
   "cell_type": "code",
   "execution_count": 221,
   "metadata": {},
   "outputs": [
    {
     "name": "stdout",
     "output_type": "stream",
     "text": [
      "done!\n"
     ]
    }
   ],
   "source": [
    "account_name = 'test11111112'\n",
    "a = {\n",
    "    \"account\": account_name,\n",
    "    \"permission\": \"active\",\n",
    "    \"parent\": \"owner\",\n",
    "    \"auth\": {\n",
    "        \"threshold\": 1,\n",
    "        \"keys\": [\n",
    "            {\n",
    "                \"key\": \"EOS7ent7keWbVgvptfYaMYeF2cenMBiwYKcwEuc11uCbStsFKsrmV\",\n",
    "                \"weight\": 1\n",
    "            },\n",
    "        ],\n",
    "        \"accounts\": [{\"permission\":{\"actor\":'test11111111',\"permission\":\"eosio.code\"},\"weight\":1}],\n",
    "        \"waits\": []\n",
    "    }\n",
    "}\n",
    "r = eosapi.push_action('eosio', 'updateauth', a, {account_name:'owner'})\n",
    "print('done!')"
   ]
  },
  {
   "cell_type": "code",
   "execution_count": 233,
   "metadata": {},
   "outputs": [
    {
     "name": "stdout",
     "output_type": "stream",
     "text": [
      "done!\n"
     ]
    }
   ],
   "source": [
    "account_name = 'test11111112'\n",
    "a = {\n",
    "    \"account\": account_name,\n",
    "    \"permission\": \"active\",\n",
    "    \"parent\": \"owner\",\n",
    "    \"auth\": {\n",
    "        \"threshold\": 1,\n",
    "        \"keys\": [\n",
    "            {\n",
    "                \"key\": \"EOS7ent7keWbVgvptfYaMYeF2cenMBiwYKcwEuc11uCbStsFKsrmV\",\n",
    "                \"weight\": 1\n",
    "            },\n",
    "        ],\n",
    "        \"accounts\": [],\n",
    "        \"waits\": []\n",
    "    }\n",
    "}\n",
    "r = eosapi.push_action('eosio', 'updateauth', a, {account_name:'owner'})\n",
    "print('done!')\n"
   ]
  },
  {
   "cell_type": "code",
   "execution_count": 229,
   "metadata": {},
   "outputs": [
    {
     "data": {
      "text/plain": [
       "{'transaction_id': 'fc6a551f524d16806997ab1dce1a0b85b6b0819b57deb47b87423aba4a3c5614',\n",
       " 'processed': {'id': 'fc6a551f524d16806997ab1dce1a0b85b6b0819b57deb47b87423aba4a3c5614',\n",
       "  'block_num': 1367754,\n",
       "  'block_time': '2019-06-10T14:23:14.500',\n",
       "  'producer_block_id': None,\n",
       "  'receipt': {'status': 'executed',\n",
       "   'cpu_usage_us': 401,\n",
       "   'net_usage_words': 13},\n",
       "  'elapsed': 401,\n",
       "  'net_usage': 104,\n",
       "  'scheduled': False,\n",
       "  'action_traces': [{'receipt': {'receiver': 'eosio',\n",
       "     'act_digest': 'b0f6b413527631cc952fd802e3d5cdd6c358c750872bf42040fcbcf5f41ef910',\n",
       "     'global_sequence': 1369825,\n",
       "     'recv_sequence': 1368702,\n",
       "     'auth_sequence': [['eosio', 1367932]],\n",
       "     'code_sequence': 1,\n",
       "     'abi_sequence': 1},\n",
       "    'act': {'account': 'eosio',\n",
       "     'name': 'setpriv',\n",
       "     'authorization': [{'actor': 'eosio', 'permission': 'active'}],\n",
       "     'data': {'account': 'test11111111', 'is_priv': 0},\n",
       "     'hex_data': '104208218490b1ca00'},\n",
       "    'context_free': False,\n",
       "    'elapsed': 227,\n",
       "    'console': '',\n",
       "    'trx_id': 'fc6a551f524d16806997ab1dce1a0b85b6b0819b57deb47b87423aba4a3c5614',\n",
       "    'block_num': 1367754,\n",
       "    'block_time': '2019-06-10T14:23:14.500',\n",
       "    'producer_block_id': None,\n",
       "    'account_ram_deltas': [],\n",
       "    'except': None,\n",
       "    'inline_traces': []}],\n",
       "  'except': None}}"
      ]
     },
     "execution_count": 229,
     "metadata": {},
     "output_type": "execute_result"
    }
   ],
   "source": [
    "eosapi.push_action('eosio', 'setpriv', {'account':'test11111111', 'is_priv':0}, {'eosio':'active'})"
   ]
  },
  {
   "cell_type": "code",
   "execution_count": 230,
   "metadata": {},
   "outputs": [
    {
     "data": {
      "text/plain": [
       "{\n",
       "    \"account_name\": \"test11111111\",\n",
       "    \"head_block_num\": 1367763,\n",
       "    \"head_block_time\": \"2019-06-10T14:23:19.000\",\n",
       "    \"privileged\": false,\n",
       "    \"last_code_update\": \"2019-06-10T14:19:22.000\",\n",
       "    \"created\": \"2019-06-03T09:13:59.000\",\n",
       "    \"core_liquid_balance\": \"972367.5412 UUOS\",\n",
       "    \"ram_quota\": 65206,\n",
       "    \"net_weight\": 10000,\n",
       "    \"cpu_weight\": 10000,\n",
       "    \"net_limit\": {\n",
       "        \"used\": 47540,\n",
       "        \"available\": \"25884847495317\",\n",
       "        \"max\": \"25884847542857\"\n",
       "    },\n",
       "    \"cpu_limit\": {\n",
       "        \"used\": 94793,\n",
       "        \"available\": \"4937142762349\",\n",
       "        \"max\": \"4937142857142\"\n",
       "    },\n",
       "    \"ram_usage\": 52365,\n",
       "    \"permissions\": [\n",
       "        {\n",
       "            \"perm_name\": \"active\",\n",
       "            \"parent\": \"owner\",\n",
       "            \"required_auth\": {\n",
       "                \"threshold\": 1,\n",
       "                \"keys\": [\n",
       "                    {\n",
       "                        \"key\": \"EOS7ent7keWbVgvptfYaMYeF2cenMBiwYKcwEuc11uCbStsFKsrmV\",\n",
       "                        \"weight\": 1\n",
       "                    }\n",
       "                ],\n",
       "                \"accounts\": [],\n",
       "                \"waits\": []\n",
       "            }\n",
       "        },\n",
       "        {\n",
       "            \"perm_name\": \"owner\",\n",
       "            \"parent\": \"\",\n",
       "            \"required_auth\": {\n",
       "                \"threshold\": 1,\n",
       "                \"keys\": [\n",
       "                    {\n",
       "                        \"key\": \"EOS7ent7keWbVgvptfYaMYeF2cenMBiwYKcwEuc11uCbStsFKsrmV\",\n",
       "                        \"weight\": 1\n",
       "                    }\n",
       "                ],\n",
       "                \"accounts\": [],\n",
       "                \"waits\": []\n",
       "            }\n",
       "        }\n",
       "    ],\n",
       "    \"total_resources\": {\n",
       "        \"owner\": \"test11111111\",\n",
       "        \"net_weight\": \"1.0000 UUOS\",\n",
       "        \"cpu_weight\": \"1.0000 UUOS\",\n",
       "        \"ram_bytes\": 65206\n",
       "    },\n",
       "    \"self_delegated_bandwidth\": {\n",
       "        \"from\": \"test11111111\",\n",
       "        \"to\": \"test11111111\",\n",
       "        \"net_weight\": \"1.0000 UUOS\",\n",
       "        \"cpu_weight\": \"1.0000 UUOS\"\n",
       "    },\n",
       "    \"refund_request\": null,\n",
       "    \"voter_info\": {\n",
       "        \"owner\": \"test11111111\",\n",
       "        \"proxy\": \"\",\n",
       "        \"producers\": [],\n",
       "        \"staked\": 20000,\n",
       "        \"last_vote_weight\": \"0.00000000000000000\",\n",
       "        \"proxied_vote_weight\": \"0.00000000000000000\",\n",
       "        \"is_proxy\": 0\n",
       "    }\n",
       "}"
      ]
     },
     "execution_count": 230,
     "metadata": {},
     "output_type": "execute_result"
    }
   ],
   "source": [
    "eosapi.get_account('test11111111')"
   ]
  }
 ],
 "metadata": {
  "kernelspec": {
   "display_name": "Python 3",
   "language": "python",
   "name": "python3"
  },
  "language_info": {
   "codemirror_mode": {
    "name": "ipython",
    "version": 3
   },
   "file_extension": ".py",
   "mimetype": "text/x-python",
   "name": "python",
   "nbconvert_exporter": "python",
   "pygments_lexer": "ipython3",
   "version": "3.7.3"
  }
 },
 "nbformat": 4,
 "nbformat_minor": 2
}
